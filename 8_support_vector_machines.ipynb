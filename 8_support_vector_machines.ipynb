{
  "nbformat": 4,
  "nbformat_minor": 0,
  "metadata": {
    "kernelspec": {
      "display_name": "Python 3",
      "language": "python",
      "name": "python3"
    },
    "language_info": {
      "codemirror_mode": {
        "name": "ipython",
        "version": 3
      },
      "file_extension": ".py",
      "mimetype": "text/x-python",
      "name": "python",
      "nbconvert_exporter": "python",
      "pygments_lexer": "ipython3",
      "version": "3.7.2"
    },
    "colab": {
      "name": "8-support-vector-machines.ipynb",
      "provenance": [],
      "collapsed_sections": [],
      "include_colab_link": true
    }
  },
  "cells": [
    {
      "cell_type": "markdown",
      "metadata": {
        "id": "view-in-github",
        "colab_type": "text"
      },
      "source": [
        "<a href=\"https://colab.research.google.com/github/cicyfan/machine-learning-fundamentals/blob/master/8_support_vector_machines.ipynb\" target=\"_parent\"><img src=\"https://colab.research.google.com/assets/colab-badge.svg\" alt=\"Open In Colab\"/></a>"
      ]
    },
    {
      "cell_type": "markdown",
      "metadata": {
        "id": "7EnB8DflFyIH",
        "colab_type": "text"
      },
      "source": [
        "# Support Vector Machines (SVM) - Hard Margin Case\n",
        "---\n",
        "Recall the binary classification problem that SVMs try to solve. The hard margin SVM finds the seperating decision bounary with the largest margin. \n",
        "\n",
        "<img src=\"MaxMargin.jpg\" height=\"400\" width=\"400\">\n",
        "\n",
        "In this assigment, you will write the code to find the maximum margin for the hard margin case.\n",
        "\n",
        "We showed in class that we could solve this problem  by reducing it to the problem of solving a quadratic programming problem (QP).  There are many solvers for quadratic programming problems. We will use the *Convex Optimization Library*, [CVXOPT](https://cvxopt.org/userguide/coneprog.html#quadratic-programming); a free software package that works well with Python and numpy. \n",
        "You will need to install [CVXOPT](https://cvxopt.org/install/)\n",
        "\n",
        "In CVXOPT, the quadratic programming problem solver, <b><i>cvxopt.solvers.qp</i></b>,  solves the following problem:\n",
        "\n",
        "$$\\begin{eqnarray} \\min_{x}\\frac{1}{2} x^{T}Px - q^{T}x \\nonumber \\\\\\ \\textrm{s.t.}\\quad Gx \\preceq h \\\\\\ \\textrm{and}\\quad Ax = b \\end{eqnarray}$$\n",
        "\n",
        " Note that $ Gx \\preceq h $ is taken elementwise. \n",
        "\n",
        "The solver's (simplified) API is `cvxopt.solvers.qp(P, q, G, h, A, b)` \n",
        "where only $P$ and $q$ are required. \n",
        "\n",
        "You will need to match the solver's API.\n",
        "\n",
        "The solver's argument's type must be CVXOPT matrices.  Please look at this [link](https://courses.csail.mit.edu/6.867/wiki/images/a/a7/Qp-cvxopt.pdf) for more information. I suggest you first create the arguments as NumpPy arrays and matrices and then convert them to CVXOPT matrices (For example, first import the library: `from cvxopt import matrix` then convert a NumPy matrix `P` to a CVXOPT matrix using ` P = matrix(P)`)\n",
        "\n",
        "What is return by the solver  is a Python dictionary.  If you save the return value in a variable called `sol` (i.e. `sol = solvers.qp(...)`), you can access to the solution of the quadratic programming problem by typing `sol[\"x\"]`."
      ]
    },
    {
      "cell_type": "code",
      "metadata": {
        "id": "wLj_BmXTF7Zc",
        "colab_type": "code",
        "outputId": "d6949053-91c9-4131-f73d-abdbb3687332",
        "colab": {
          "base_uri": "https://localhost:8080/",
          "height": 54
        }
      },
      "source": [
        "from google.colab import drive\n",
        "drive.mount('/content/drive')"
      ],
      "execution_count": 0,
      "outputs": [
        {
          "output_type": "stream",
          "text": [
            "Drive already mounted at /content/drive; to attempt to forcibly remount, call drive.mount(\"/content/drive\", force_remount=True).\n"
          ],
          "name": "stdout"
        }
      ]
    },
    {
      "cell_type": "markdown",
      "metadata": {
        "id": "4WADsvf1FyII",
        "colab_type": "text"
      },
      "source": [
        "# Hard Margin Case"
      ]
    },
    {
      "cell_type": "markdown",
      "metadata": {
        "id": "B3OtcvC7FyIJ",
        "colab_type": "text"
      },
      "source": [
        " We will use synthetic data. The following code will reads the linearly sepearable data and plots the points.\n"
      ]
    },
    {
      "cell_type": "code",
      "metadata": {
        "id": "Dun3JTr_FyIK",
        "colab_type": "code",
        "outputId": "dcb82863-7377-40a8-92b7-3e8efca81d22",
        "colab": {
          "base_uri": "https://localhost:8080/",
          "height": 278
        }
      },
      "source": [
        "import numpy as np\n",
        "import csv\n",
        "from numpy import genfromtxt\n",
        "import matplotlib.pyplot as plt\n",
        "%matplotlib inline\n",
        "\n",
        "X = genfromtxt('/content/drive/My Drive/SVM2020/X.csv', delimiter=',') # reading in the data matrix\n",
        "y = genfromtxt('/content/drive/My Drive/SVM2020/y.csv', delimiter=',') # reading in the labels\n",
        "idx_1 = np.where(y == 1)\n",
        "idx_0 = np.where(y == -1)\n",
        "\n",
        "plt.figure(figsize=(9, 4))\n",
        "plt.scatter(X[idx_1,0], X[idx_1,1], s=30, c='b', marker=\"o\")\n",
        "plt.scatter(X[idx_0,0], X[idx_0,1], s=30, c='r', marker=\"o\")\n",
        "plt.xlabel('x1')\n",
        "plt.ylabel('x2');\n",
        "\n",
        "plt.show()"
      ],
      "execution_count": 0,
      "outputs": [
        {
          "output_type": "display_data",
          "data": {
            "image/png": "[encoded data removed]",
            "text/plain": [
              "<Figure size 648x288 with 1 Axes>"
            ]
          },
          "metadata": {
            "tags": [],
            "needs_background": "light"
          }
        }
      ]
    },
    {
      "cell_type": "markdown",
      "metadata": {
        "id": "afsFbRzFFyIQ",
        "colab_type": "text"
      },
      "source": [
        "## SVM Primal  Problem\n",
        "---\n",
        "### Problem 1.1\n",
        "\n",
        "You will now use the quadratic problem solver to find the maximum margin for the SVM primal problem:\n",
        "\n",
        "$$\\begin{eqnarray}\\left.\\begin{aligned}  \n",
        "&\\min_{w}\\frac{1}{2}||w||^{2} & \\nonumber \\\\\\ \n",
        "&\\textrm{s.t.}  \\quad y^{(i)}(w^{T}{\\bf x}^{(i)} + w_0) \\ge 1 \\quad \\forall i \\end{aligned}\\right.\\end{eqnarray}$$\n",
        "\n",
        "\n",
        "Look back at the lecture notes for the primal problem.  Please note that the variable names used in the lecture are different from the variable names given to decribe the API for CVXOPT's quadratic problem solver.\n"
      ]
    },
    {
      "cell_type": "markdown",
      "metadata": {
        "id": "E-v2bxHlFyIR",
        "colab_type": "text"
      },
      "source": [
        "\n",
        "\n",
        " Write the function `linear_svm(X, y)` that:\n",
        "- takes in as arguments the data matrix $X$ and the labels $\\bf y$ \n",
        "- solves the SVM primal QP problem \n",
        "- returns  ${\\bf w}$ and $w_0$"
      ]
    },
    {
      "cell_type": "code",
      "metadata": {
        "id": "j3zzWCSvFyIS",
        "colab_type": "code",
        "outputId": "94ce4586-eb4c-4b8a-b359-f4746d4b2ee3",
        "colab": {
          "base_uri": "https://localhost:8080/",
          "height": 70
        }
      },
      "source": [
        "from cvxopt import matrix, solvers\n",
        "\n",
        "def linear_svm(X,y):\n",
        "    solvers.options['show_progress'] = False\n",
        "    ## Write code here ##\n",
        "    \n",
        "    features = X.shape[1] + 1\n",
        "    P = np.identity(features)\n",
        "    P[0][0] = 0\n",
        "    P = matrix(P)\n",
        "    q = matrix(np.zeros((features,1)))\n",
        "    one_vector = np.ones(X.shape[0]).reshape((X.shape[0],1))\n",
        "    G = matrix(-(y.reshape(y.shape[0],1)*np.hstack((one_vector,X))))\n",
        "    h = matrix(np.array([-1.0] * X.shape[0]).reshape(X.shape[0],1))\n",
        "    \n",
        "    sol = solvers.qp(P,q,G,h)\n",
        "    weights = np.array(sol['x'])\n",
        "\n",
        "    ##\n",
        "    return weights\n",
        "\n",
        "# fit svm classifier\n",
        "weights = linear_svm(X, y)\n",
        "w0 = weights[0]\n",
        "w = weights[1:3]\n",
        "\n",
        "print(w0)\n",
        "print(w)"
      ],
      "execution_count": 0,
      "outputs": [
        {
          "output_type": "stream",
          "text": [
            "[0.46118099]\n",
            "[[ 1.42189318]\n",
            " [-1.58830104]]\n"
          ],
          "name": "stdout"
        }
      ]
    },
    {
      "cell_type": "markdown",
      "metadata": {
        "id": "Dl-Deb2NFyIV",
        "colab_type": "text"
      },
      "source": [
        "### Plotting the classification decision boundary"
      ]
    },
    {
      "cell_type": "code",
      "metadata": {
        "id": "bzofFMm0FyIV",
        "colab_type": "code",
        "outputId": "5fc144c8-dfdd-41f5-9689-ced6ac4c0f98",
        "colab": {
          "base_uri": "https://localhost:8080/",
          "height": 282
        }
      },
      "source": [
        "def plot_data_with_classification_boundary(X, y, w, w0):\n",
        "    COLORS = ['blue', 'red']\n",
        "    unique = np.unique(y)\n",
        "  \n",
        "    idx_1 = np.where(y == 1)\n",
        "    idx_0 = np.where(y == -1)\n",
        "\n",
        "    plt.figure(figsize=(9,4))\n",
        "    plt.scatter(X[idx_1,0], X[idx_1,1], s=20, c='b', marker=\"o\")\n",
        "    plt.scatter(X[idx_0,0], X[idx_0,1], s=20, c='r', marker=\"o\")\n",
        "    plt.xlabel('x1')\n",
        "    plt.ylabel('x2');\n",
        "        \n",
        "    ## Write code here ##\n",
        "            \n",
        "    slope = -w[0] / w[1]\n",
        "    intercept = -w0 / w[1]\n",
        "    x = np.arange(0, 6)\n",
        "    plt.plot(x, x * slope + intercept, 'k-')\n",
        "    \n",
        "    plt.grid()\n",
        "\n",
        "# plotting the points and decision boundary   \n",
        "plot_data_with_classification_boundary(X, y, w, w0)"
      ],
      "execution_count": 0,
      "outputs": [
        {
          "output_type": "display_data",
          "data": {
            "image/png": "[encoded data removed]",
            "text/plain": [
              "<Figure size 648x288 with 1 Axes>"
            ]
          },
          "metadata": {
            "tags": [],
            "needs_background": "light"
          }
        }
      ]
    },
    {
      "cell_type": "markdown",
      "metadata": {
        "id": "OvMpEnuwFyIY",
        "colab_type": "text"
      },
      "source": [
        "### Problem 1.2 \n",
        "Determine which points are closest to the decision boundary. What is the functional margin of the points closest to the decision boundary?   "
      ]
    },
    {
      "cell_type": "code",
      "metadata": {
        "id": "Z2-VkYlMFyIZ",
        "colab_type": "code",
        "outputId": "5bf3701c-0ba1-4d2e-fce3-9365a933ec75",
        "colab": {
          "base_uri": "https://localhost:8080/",
          "height": 87
        }
      },
      "source": [
        "# Your code goes here\n",
        "distance = []\n",
        "functional = []\n",
        "for i in range(len(X)):\n",
        "    k = np.dot(X[i],w) + w0\n",
        "    k = abs(float(k))\n",
        "    margin = k*y[i]\n",
        "    functional.append(abs(margin))\n",
        "    #print(k,margin)\n",
        "    distance.append([k, np.ndarray.tolist(X[i])])\n",
        "\n",
        "distance.sort(key=lambda x:x[0])\n",
        "\n",
        "for i in distance:\n",
        "    if i[0] > -1.5 and i[0] < 1.3:\n",
        "        print (\"Point:{}  Distance: {:0.5f} \".format(i[1], i[0]))\n",
        "\n",
        "functional.sort()\n",
        "print(\"Functional Margin: {:0.5f}\".format(functional[0]))"
      ],
      "execution_count": 0,
      "outputs": [
        {
          "output_type": "stream",
          "text": [
            "Point:[1.71138733086352, 2.4520483563087168]  Distance: 1.00000 \n",
            "Point:[2.5187963927498647, 1.9156572447102806]  Distance: 1.00000 \n",
            "Point:[2.1145735236403937, 1.5537852017443625]  Distance: 1.00000 \n",
            "Functional Margin: 1.00000\n"
          ],
          "name": "stdout"
        }
      ]
    },
    {
      "cell_type": "markdown",
      "metadata": {
        "id": "z5dJaMtnFyIc",
        "colab_type": "text"
      },
      "source": [
        "### Problem 1.3\n",
        "\n",
        "Write the decision function $f_{\\texttt{primal}}({\\bf x})$ to predict examples.  Use this function to predict the label of $(3.0, 1.5)^T$ and $(1.2, 3.0)^T$"
      ]
    },
    {
      "cell_type": "code",
      "metadata": {
        "id": "xB2Lhiv_FyId",
        "colab_type": "code",
        "outputId": "18b35af4-0aa9-45a4-a082-2882e69e9541",
        "colab": {
          "base_uri": "https://localhost:8080/",
          "height": 52
        }
      },
      "source": [
        "def f_primal(x):\n",
        "    ## your code \n",
        "    return np.dot(x,w)+w0 \n",
        "    \n",
        "# write the code to predict (3.0, 1.5)^T and (1.2, 3.0)^T here\n",
        "\n",
        "print('(3.0, 1.5)^T: {}'.format(f_primal([3.0,1.5])))\n",
        "print('(1.2, 3.0)^T: {}'.format(f_primal([1.2,2.0])))"
      ],
      "execution_count": 0,
      "outputs": [
        {
          "output_type": "stream",
          "text": [
            "(3.0, 1.5)^T: [2.34440897]\n",
            "(1.2, 3.0)^T: [-1.00914928]\n"
          ],
          "name": "stdout"
        }
      ]
    },
    {
      "cell_type": "markdown",
      "metadata": {
        "id": "lZBZftPMFyIg",
        "colab_type": "text"
      },
      "source": [
        "## SVM Dual Problem\n",
        "\n",
        "---\n",
        "\n",
        "To keep things simple, we will use a linear kernel $K({\\bf x}^{(i)}, {\\bf x}^{(j)})={\\bf x}^{(i)T}{\\bf x}^{(j)}$.  In the statement of the problem below, I replaced ${\\bf x}^{(i)}$ with $\\phi({\\bf x}^{(i)})$ as was done in the lecture notes.\n",
        "\n",
        "### Problem 2.1\n",
        "The SVM dual problem was derived in class by:\n",
        "- defining the lagrangian of the Primary problem: $L = \\frac{1}{2}||w||^{2} - \\sum_{i} \\alpha^{(i)} [y^{(i)}(w^{T}\\phi({\\bf x}^{(i)}) + w_0)-1]$\n",
        "- equating it's partial derivatives with respect to $w$ and $w_0$ to zero, and \n",
        "- substituting $w$ back into the lagrangian.\n",
        "\n",
        "It resulted in a quadratic programming problem (QP) of the following form:\n",
        "\n",
        "$$\\begin{eqnarray}\\left.\\begin{aligned}  \n",
        "&\\min_{\\alpha}\\frac{1}{2} \\alpha^{T}Q\\alpha - 1^{T}\\alpha \\nonumber \\\\\\ &\\textrm{s.t.}\\quad \\alpha_{i} \\ge 0 \\quad \\forall i \\\\\\ \n",
        "&\\:\\:\\:\\:\\:\\quad y^{T}\\alpha = 0 \\end{aligned}\\right.\\end{eqnarray}$$\n",
        "\n"
      ]
    },
    {
      "cell_type": "markdown",
      "metadata": {
        "id": "8wXLc_uQFyIh",
        "colab_type": "text"
      },
      "source": [
        "\n",
        " Write the function `kernel_svm(x, y)`that:\n",
        "- takes in as arguments: the data matrix $X$, the labels $y$ \n",
        "- solves the SVM dual QP problem using a linear kernel\n",
        "- returns:  ${\\bf \\alpha}$"
      ]
    },
    {
      "cell_type": "code",
      "metadata": {
        "id": "NcN2EqLjFyIh",
        "colab_type": "code",
        "colab": {}
      },
      "source": [
        "def kernel_svm(X, y): \n",
        "\n",
        "   ## Write your code here\n",
        "    row = X.shape[0]\n",
        "    # col = X.shape[1]\n",
        "    y = y.reshape(-1,1) * 1.\n",
        "    X_ = y*X\n",
        "    H = np.dot(X_, X_.T)*1.\n",
        "    \n",
        "    P = matrix(H)\n",
        "    q = matrix(-np.ones((row, 1)))\n",
        "    G = matrix(np.eye(row)*-1)\n",
        "    h = matrix(np.zeros(row))\n",
        "    A = matrix(y.reshape(1, -1))\n",
        "    b = matrix(np.zeros(1))\n",
        "    \n",
        "    sol = solvers.qp(P, q, G, h, A, b)\n",
        "    alphas = np.array(sol['x'])\n",
        "    \n",
        "    return alphas\n",
        "\n",
        "# fit svm dual classifier\n",
        "alphas = kernel_svm(X, y)"
      ],
      "execution_count": 0,
      "outputs": []
    },
    {
      "cell_type": "markdown",
      "metadata": {
        "id": "rGLcll3TFyIm",
        "colab_type": "text"
      },
      "source": [
        "Treat any $\\alpha^{(i)} \\le 1/1000$ as $0$.\n",
        "\n",
        "### problem 2.2 \n",
        "\n",
        "Write a function `compute_w (X, y, alpha)` that: \n",
        "- takes in as arguments the data matrix $X$, labels ${\\bf y}$, and ${\\bf \\alpha}$ \n",
        "- returns ${\\bf w}$ and $w_0$ \n",
        "\n",
        "Compare this ${\\bf w}$ and $w_0$ computed by the dual with the ${\\bf w}$ and $w_0$ computed by the primal"
      ]
    },
    {
      "cell_type": "code",
      "metadata": {
        "scrolled": true,
        "id": "bRzokKyKFyIm",
        "colab_type": "code",
        "colab": {}
      },
      "source": [
        "def compute_classification_boundary (X, y, alpha):\n",
        "    ## Write your code here\n",
        "    \n",
        "    y = y.reshape(-1,1)\n",
        "    w = ((y * alpha).T @ X).reshape(-1,1)\n",
        "    S = []\n",
        "    for a in alpha:\n",
        "        if a < 1e-4:\n",
        "            S.append(False)\n",
        "        else:\n",
        "            S.append(True)\n",
        "    \n",
        "    w0 = y[S] - np.dot(X[S], w)\n",
        "    \n",
        "    ##\n",
        "    return w, w0\n",
        "\n",
        "w, w0 = compute_classification_boundary(X, y, alphas)"
      ],
      "execution_count": 0,
      "outputs": []
    },
    {
      "cell_type": "code",
      "metadata": {
        "id": "P7KQzj5K-Cu2",
        "colab_type": "code",
        "outputId": "e3566c01-7884-4bb9-cd29-c4511d990d32",
        "colab": {
          "base_uri": "https://localhost:8080/",
          "height": 70
        }
      },
      "source": [
        "print(w0)"
      ],
      "execution_count": 0,
      "outputs": [
        {
          "output_type": "stream",
          "text": [
            "[[0.46118098]\n",
            " [0.46118099]\n",
            " [0.46118099]]\n"
          ],
          "name": "stdout"
        }
      ]
    },
    {
      "cell_type": "code",
      "metadata": {
        "id": "qVHaWpiuFyIr",
        "colab_type": "code",
        "outputId": "ab31c101-9f4d-4b11-fc7c-c4e8344fd6e7",
        "colab": {
          "base_uri": "https://localhost:8080/",
          "height": 282
        }
      },
      "source": [
        "plot_data_with_classification_boundary(X, y, w, w0[0])"
      ],
      "execution_count": 0,
      "outputs": [
        {
          "output_type": "display_data",
          "data": {
            "image/png": "[encoded data removed]",
            "text/plain": [
              "<Figure size 648x288 with 1 Axes>"
            ]
          },
          "metadata": {
            "tags": [],
            "needs_background": "light"
          }
        }
      ]
    },
    {
      "cell_type": "markdown",
      "metadata": {
        "id": "wVfsw_c9FyIv",
        "colab_type": "text"
      },
      "source": [
        "### Problem 2.3 \n",
        "\n",
        "Write the code to determine which of the training examples are support vectors.  Write the code to determine the functional margin of the support vectors."
      ]
    },
    {
      "cell_type": "code",
      "metadata": {
        "id": "4LGvbsCYFyIv",
        "colab_type": "code",
        "outputId": "dcc52885-5465-46c9-edc8-6d6fded3634f",
        "colab": {
          "base_uri": "https://localhost:8080/",
          "height": 72
        }
      },
      "source": [
        "# Write the code here\n",
        "supp_vec = []\n",
        "cor_alphas = []\n",
        "for i in range(len(X)):\n",
        "    if  alphas[i] > 1e-3:\n",
        "        supp_vec.append(X[i])\n",
        "        cor_alphas.append(alphas[i])\n",
        "        \n",
        "print(\"Support Vectors: {}\".format(supp_vec))\n",
        "print(\"Alphas: {}\".format(cor_alphas))\n"
      ],
      "execution_count": 0,
      "outputs": [
        {
          "output_type": "stream",
          "text": [
            "Support Vectors: [array([2.11457352, 1.5537852 ]), array([2.51879639, 1.91565724]), array([1.71138733, 2.45204836])]\n",
            "Alphas: [array([1.02105592]), array([1.25118428]), array([2.2722402])]\n"
          ],
          "name": "stdout"
        }
      ]
    },
    {
      "cell_type": "markdown",
      "metadata": {
        "id": "2FB_Xs-EFyIz",
        "colab_type": "text"
      },
      "source": [
        "### Problem 2.4\n",
        "\n",
        "Write the decision function $f_{\\texttt{dual}}({\\bf x})=\n",
        "\\left(\\sum_{i\\in I}\n",
        "\\alpha^{(i)}y^{(i)}\n",
        "K({\\bf x}^{(i)},{\\bf x})\n",
        "\\right)+w_0$ \n",
        "where $I = \\{i\\mid \\alpha^{(i)}\\not = 0\\}$.  The kernel function will be the linear kernel.  Use the decision function to predict the class of $(3.0, 1.5)^T$ and $(1.2, 3.0)^T$\n"
      ]
    },
    {
      "cell_type": "code",
      "metadata": {
        "id": "wf5cdQ_RFyI0",
        "colab_type": "code",
        "outputId": "6c7d292c-9fe3-4030-a0e0-749010ec73c4",
        "colab": {
          "base_uri": "https://localhost:8080/",
          "height": 52
        }
      },
      "source": [
        "def K(xi, xj):\n",
        "    return np.dot(xi,xj)\n",
        "\n",
        "def f_dual(x):\n",
        "    ## your code \n",
        "    sum_left = 0\n",
        "    for i in range(len(alphas)):\n",
        "        alpha = 0 if alphas[i] < 1e-4 else alphas[i]\n",
        "        sum_left += alpha*y[i]*K(X[i], x)\n",
        "\n",
        "    return sum_left+w0[0][0]\n",
        "\n",
        "# write the code to predict (3.0, 1.5)^T and (1.2, 3.0)^T here\n",
        "print(\"(3.0, 1.5)^T: {}\".format(f_dual([3.0, 1.5])))\n",
        "print(\"(1.2, 3.0)^T: {}\".format(f_dual([1.2, 3.0])))"
      ],
      "execution_count": 0,
      "outputs": [
        {
          "output_type": "stream",
          "text": [
            "(3.0, 1.5)^T: [2.34440897]\n",
            "(1.2, 3.0)^T: [-2.59745031]\n"
          ],
          "name": "stdout"
        }
      ]
    },
    {
      "cell_type": "markdown",
      "metadata": {
        "id": "xkplnUyxFyI3",
        "colab_type": "text"
      },
      "source": [
        "# Experiment on your own\n",
        "Do not turn in this part.  You can try to solve the soft margin case and add different kernels"
      ]
    },
    {
      "cell_type": "markdown",
      "metadata": {
        "id": "bUPmxaYNQC7t",
        "colab_type": "text"
      },
      "source": [
        "## Theory Answers\n"
      ]
    },
    {
      "cell_type": "code",
      "metadata": {
        "id": "t3JOBog0FyI5",
        "colab_type": "code",
        "outputId": "7408ab8b-4aa9-4c39-c06f-d8785d27f9be",
        "colab": {
          "base_uri": "https://localhost:8080/",
          "height": 296
        }
      },
      "source": [
        "x1 = np.array([0, 2, 2, 1, 3])\n",
        "x2 = np.array([0, 2, 0, 1.5, 0.5])\n",
        "label = np.array([-1,-1, 1, -1, 1])\n",
        "\n",
        "\n",
        "idx_1 = np.where(label == 1)\n",
        "idx_0 = np.where(label == -1)\n",
        "\n",
        "plt.scatter(x1[idx_1], x2[idx_1], c='b', marker=\"o\")\n",
        "plt.scatter(x1[idx_0], x2[idx_0], c='r', marker=\"o\")\n",
        "plt.xlabel('x1')\n",
        "plt.ylabel('x2')\n",
        "\n",
        "w0 = -2.5\n",
        "w = [6, -16]\n",
        "\n",
        "slope = -w[0] / w[1]\n",
        "intercept = -w0 / w[1]\n",
        "x = np.arange(-0.5, 4.5)\n",
        "plt.plot(x, x * slope + intercept, 'k-')"
      ],
      "execution_count": 0,
      "outputs": [
        {
          "output_type": "execute_result",
          "data": {
            "text/plain": [
              "[<matplotlib.lines.Line2D at 0x7fe72a0d7cf8>]"
            ]
          },
          "metadata": {
            "tags": []
          },
          "execution_count": 150
        },
        {
          "output_type": "display_data",
          "data": {
            "image/png": "[encoded data removed]",
            "text/plain": [
              "<Figure size 432x288 with 1 Axes>"
            ]
          },
          "metadata": {
            "tags": [],
            "needs_background": "light"
          }
        }
      ]
    },
    {
      "cell_type": "code",
      "metadata": {
        "id": "XoCAPZVRBuiE",
        "colab_type": "code",
        "outputId": "7c6753c2-4571-4462-83de-0c2e8aa7c468",
        "colab": {
          "base_uri": "https://localhost:8080/",
          "height": 296
        }
      },
      "source": [
        "x1 = np.array([0, 2, 2, 1, 3])\n",
        "x2 = np.array([0, 2, 0, 1.5, 0.5])\n",
        "label = np.array([-1,-1, 1, -1, 1])\n",
        "\n",
        "\n",
        "idx_1 = np.where(label == 1)\n",
        "idx_0 = np.where(label == -1)\n",
        "\n",
        "plt.scatter(x1[idx_1], x2[idx_1], c='b', marker=\"o\")\n",
        "plt.scatter(x1[idx_0], x2[idx_0], c='r', marker=\"o\")\n",
        "plt.xlabel('x1')\n",
        "plt.ylabel('x2')\n",
        "\n",
        "w0 = -500\n",
        "w = [1200, -3200]\n",
        "\n",
        "slope = -w[0] / w[1]\n",
        "intercept = -w0 / w[1]\n",
        "x = np.arange(-0.5, 4.5)\n",
        "plt.plot(x, x * slope + intercept, 'k-')"
      ],
      "execution_count": 0,
      "outputs": [
        {
          "output_type": "execute_result",
          "data": {
            "text/plain": [
              "[<matplotlib.lines.Line2D at 0x7fe72a046f28>]"
            ]
          },
          "metadata": {
            "tags": []
          },
          "execution_count": 151
        },
        {
          "output_type": "display_data",
          "data": {
            "image/png": "[encoded data removed]",
            "text/plain": [
              "<Figure size 432x288 with 1 Axes>"
            ]
          },
          "metadata": {
            "tags": [],
            "needs_background": "light"
          }
        }
      ]
    },
    {
      "cell_type": "code",
      "metadata": {
        "id": "okHvpoORAIKo",
        "colab_type": "code",
        "colab": {}
      },
      "source": [
        "X=[]\n",
        "for i in range(5):\n",
        "  X.append([x1[i], x2[i]])\n",
        "X=np.array(X)"
      ],
      "execution_count": 0,
      "outputs": []
    },
    {
      "cell_type": "code",
      "metadata": {
        "id": "tjilLHTu4enM",
        "colab_type": "code",
        "outputId": "300c92ec-90b0-45ce-a21b-a67bb6bc4354",
        "colab": {
          "base_uri": "https://localhost:8080/",
          "height": 123
        }
      },
      "source": [
        "distance = []\n",
        "functional = []\n",
        "for i in range(len(X)):\n",
        "    k = np.dot(X[i],w) + w0\n",
        "    k = abs(float(k))\n",
        "    margin = k*label[i]\n",
        "    functional.append(abs(margin))\n",
        "    distance.append([k, np.ndarray.tolist(X[i])])\n",
        "\n",
        "distance.sort(key=lambda x:x[0])\n",
        "\n",
        "for i in distance:\n",
        "    #if i[0] > -1.5 and i[0] < 1.3:\n",
        "    print (\"Point:{}  Functional: {:0.5f} \\\\\\\\\".format(i[1], i[0]))\n",
        "\n",
        "functional.sort()\n",
        "print(\"Functional Margin: {:0.5f}\".format(functional[0]))"
      ],
      "execution_count": 0,
      "outputs": [
        {
          "output_type": "stream",
          "text": [
            "Point:[0.0, 0.0]  Functional: 500.00000 \\\\\n",
            "Point:[3.0, 0.5]  Functional: 1500.00000 \\\\\n",
            "Point:[2.0, 0.0]  Functional: 1900.00000 \\\\\n",
            "Point:[1.0, 1.5]  Functional: 4100.00000 \\\\\n",
            "Point:[2.0, 2.0]  Functional: 4500.00000 \\\\\n",
            "Functional Margin: 500.00000\n"
          ],
          "name": "stdout"
        }
      ]
    },
    {
      "cell_type": "code",
      "metadata": {
        "id": "ofEpc63d4nro",
        "colab_type": "code",
        "outputId": "cc879f96-7714-4d23-e937-589565b31909",
        "colab": {
          "base_uri": "https://localhost:8080/",
          "height": 34
        }
      },
      "source": [
        "from numpy import linalg as LA\n",
        "normw=float(LA.norm(w))\n",
        "normw"
      ],
      "execution_count": 0,
      "outputs": [
        {
          "output_type": "execute_result",
          "data": {
            "text/plain": [
              "3417.6014981270123"
            ]
          },
          "metadata": {
            "tags": []
          },
          "execution_count": 154
        }
      ]
    },
    {
      "cell_type": "code",
      "metadata": {
        "id": "PAo3oljr6WyP",
        "colab_type": "code",
        "outputId": "2354e4f6-0997-4237-91f7-617621838b24",
        "colab": {
          "base_uri": "https://localhost:8080/",
          "height": 123
        }
      },
      "source": [
        "distance = []\n",
        "functional = []\n",
        "for i in range(len(X)):\n",
        "    k = np.dot(X[i],w) + w0\n",
        "    k = abs(float(k))\n",
        "    margin = k*label[i]/normw\n",
        "    functional.append(abs(margin))\n",
        "    distance.append([k/normw, np.ndarray.tolist(X[i])])\n",
        "\n",
        "distance.sort(key=lambda x:x[0])\n",
        "\n",
        "for i in distance:\n",
        "    #if i[0] > -1.5 and i[0] < 1.3:\n",
        "    print (\"Point:{}  Geometric Margin: {:0.5f} \\\\\\\\\".format(i[1], i[0]))\n",
        "\n",
        "functional.sort()\n",
        "print(\"Geometric Margin: {:0.5f}\".format(functional[0]))"
      ],
      "execution_count": 0,
      "outputs": [
        {
          "output_type": "stream",
          "text": [
            "Point:[0.0, 0.0]  Geometric Margin: 0.14630 \\\\\n",
            "Point:[3.0, 0.5]  Geometric Margin: 0.43890 \\\\\n",
            "Point:[2.0, 0.0]  Geometric Margin: 0.55595 \\\\\n",
            "Point:[1.0, 1.5]  Geometric Margin: 1.19967 \\\\\n",
            "Point:[2.0, 2.0]  Geometric Margin: 1.31671 \\\\\n",
            "Geometric Margin: 0.14630\n"
          ],
          "name": "stdout"
        }
      ]
    },
    {
      "cell_type": "code",
      "metadata": {
        "id": "DKDA1fuD8yYa",
        "colab_type": "code",
        "outputId": "8b16e909-128f-4dd8-b719-4f2d014769a8",
        "colab": {
          "base_uri": "https://localhost:8080/",
          "height": 70
        }
      },
      "source": [
        "weights = linear_svm(X, label)\n",
        "w0 = weights[0]\n",
        "w = weights[1:3]\n",
        "\n",
        "print(w0)\n",
        "print(w)"
      ],
      "execution_count": 0,
      "outputs": [
        {
          "output_type": "stream",
          "text": [
            "[-1.00000001]\n",
            "[[ 1.00000001]\n",
            " [-1.00000002]]\n"
          ],
          "name": "stdout"
        }
      ]
    },
    {
      "cell_type": "code",
      "metadata": {
        "id": "s0H4SZyZ-ifC",
        "colab_type": "code",
        "outputId": "34db8061-2ce8-4c54-8831-b7ce51dd6eec",
        "colab": {
          "base_uri": "https://localhost:8080/",
          "height": 105
        }
      },
      "source": [
        "alphas = kernel_svm(X, label)\n",
        "w, w0 = compute_classification_boundary(X, label, alphas)\n",
        "\n",
        "print(w0)\n",
        "print(w)"
      ],
      "execution_count": 0,
      "outputs": [
        {
          "output_type": "stream",
          "text": [
            "[[-1.        ]\n",
            " [-0.99999999]\n",
            " [-1.00000002]]\n",
            "[[ 1.00000001]\n",
            " [-1.00000002]]\n"
          ],
          "name": "stdout"
        }
      ]
    },
    {
      "cell_type": "code",
      "metadata": {
        "id": "iVl-k0WdAvLu",
        "colab_type": "code",
        "colab": {}
      },
      "source": [
        ""
      ],
      "execution_count": 0,
      "outputs": []
    }
  ]
}