{
  "nbformat": 4,
  "nbformat_minor": 0,
  "metadata": {
    "kernelspec": {
      "display_name": "Python 3",
      "language": "python",
      "name": "python3"
    },
    "language_info": {
      "codemirror_mode": {
        "name": "ipython",
        "version": 3
      },
      "file_extension": ".py",
      "mimetype": "text/x-python",
      "name": "python",
      "nbconvert_exporter": "python",
      "pygments_lexer": "ipython3",
      "version": "3.7.2"
    },
    "colab": {
      "name": "7-neural-network.ipynb",
      "provenance": [],
      "collapsed_sections": [],
      "toc_visible": true,
      "include_colab_link": true
    }
  },
  "cells": [
    {
      "cell_type": "markdown",
      "metadata": {
        "id": "view-in-github",
        "colab_type": "text"
      },
      "source": [
        "<a href=\"https://colab.research.google.com/github/cicyfan/machine-learning-fundamentals/blob/master/7_neural_network.ipynb\" target=\"_parent\"><img src=\"https://colab.research.google.com/assets/colab-badge.svg\" alt=\"Open In Colab\"/></a>"
      ]
    },
    {
      "cell_type": "markdown",
      "metadata": {
        "id": "neUeWeh0Lhvr",
        "colab_type": "text"
      },
      "source": [
        "# Neural Network from Scratch\n",
        "Code modified from https://github.com/adventuresinML/adventures-in-ml-code/blob/master/neural_network_tutorial.py\n",
        "\n",
        "The notation in this website is almost the same as the notation we are using in class.  Instead of $a$ the author uses $h$, and instead of $N$, the author uses $m$. (I have modified the code below to use $a$ and $N$.)\n",
        "\n",
        "Please read about this implementation starting at page 27 from the website listed above."
      ]
    },
    {
      "cell_type": "markdown",
      "metadata": {
        "id": "WOoKOXuGLhvv",
        "colab_type": "text"
      },
      "source": [
        "## The first thing we will do is import all the libraries\n",
        "\n",
        "We will be using the lower resolution MINST data set"
      ]
    },
    {
      "cell_type": "code",
      "metadata": {
        "id": "f16tn2W6Lhvx",
        "colab_type": "code",
        "colab": {}
      },
      "source": [
        "from sklearn.datasets import load_digits # The MNIST data set is in scikit learn data set\n",
        "from sklearn.preprocessing import StandardScaler  # It is important in neural networks to scale the date\n",
        "from sklearn.model_selection import train_test_split  # The standard - train/test to prevent overfitting and choose hyperparameters\n",
        "from sklearn.metrics import accuracy_score # \n",
        "import numpy as np\n",
        "import numpy.random as r # We will randomly initialize our weights\n",
        "import matplotlib.pyplot as plt "
      ],
      "execution_count": 0,
      "outputs": []
    },
    {
      "cell_type": "markdown",
      "metadata": {
        "id": "aftqCvFMLhv7",
        "colab_type": "text"
      },
      "source": [
        "## Looking at the data\n",
        "\n",
        "After we load the data, we print the shape of the data and a pixelated digit.\n",
        "\n",
        "We also show what the features of one example looks like.\n",
        "\n",
        "The neural net will learn to estimate which digit these pixels represent."
      ]
    },
    {
      "cell_type": "code",
      "metadata": {
        "id": "NiuH0nYQLhv8",
        "colab_type": "code",
        "outputId": "be2b33fa-dffe-43b7-c601-5b759c940842",
        "colab": {
          "base_uri": "https://localhost:8080/",
          "height": 416
        }
      },
      "source": [
        "digits=load_digits()\n",
        "X = digits.data\n",
        "print(\"The shape of the digits dataset:\") \n",
        "print(digits.data.shape)\n",
        "plt.gray()\n",
        "plt.matshow(digits.images[0])\n",
        "plt.show()\n",
        "y = digits.target\n",
        "print(y[0:1])\n",
        "print(X[0,:])"
      ],
      "execution_count": 0,
      "outputs": [
        {
          "output_type": "stream",
          "text": [
            "The shape of the digits dataset:\n",
            "(1797, 64)\n"
          ],
          "name": "stdout"
        },
        {
          "output_type": "display_data",
          "data": {
            "text/plain": [
              "<Figure size 432x288 with 0 Axes>"
            ]
          },
          "metadata": {
            "tags": []
          }
        },
        {
          "output_type": "display_data",
          "data": {
            "image/png": "[encoded data removed]",
            "text/plain": [
              "<Figure size 288x288 with 1 Axes>"
            ]
          },
          "metadata": {
            "tags": [],
            "needs_background": "light"
          }
        },
        {
          "output_type": "stream",
          "text": [
            "[0]\n",
            "[ 0.  0.  5. 13.  9.  1.  0.  0.  0.  0. 13. 15. 10. 15.  5.  0.  0.  3.\n",
            " 15.  2.  0. 11.  8.  0.  0.  4. 12.  0.  0.  8.  8.  0.  0.  5.  8.  0.\n",
            "  0.  9.  8.  0.  0.  4. 11.  0.  1. 12.  7.  0.  0.  2. 14.  5. 10. 12.\n",
            "  0.  0.  0.  0.  6. 13. 10.  0.  0.  0.]\n"
          ],
          "name": "stdout"
        }
      ]
    },
    {
      "cell_type": "markdown",
      "metadata": {
        "id": "Htl64fPNLhwB",
        "colab_type": "text"
      },
      "source": [
        "## 1) Scale the dataset\n",
        "The training features range from 0 to 15.  To help the algorithm converge, we will scale the data to have a mean of 0 and unit variance"
      ]
    },
    {
      "cell_type": "code",
      "metadata": {
        "id": "9x5ua7RDLhwC",
        "colab_type": "code",
        "outputId": "65d0bb19-e75d-4721-9d0f-59236b88beea",
        "colab": {
          "base_uri": "https://localhost:8080/",
          "height": 247
        }
      },
      "source": [
        "X_scale = StandardScaler()\n",
        "X = X_scale.fit_transform(digits.data)\n",
        "\n",
        "X[0,:] # Looking the new features after scaling"
      ],
      "execution_count": 0,
      "outputs": [
        {
          "output_type": "execute_result",
          "data": {
            "text/plain": [
              "array([ 0.        , -0.33501649, -0.04308102,  0.27407152, -0.66447751,\n",
              "       -0.84412939, -0.40972392, -0.12502292, -0.05907756, -0.62400926,\n",
              "        0.4829745 ,  0.75962245, -0.05842586,  1.12772113,  0.87958306,\n",
              "       -0.13043338, -0.04462507,  0.11144272,  0.89588044, -0.86066632,\n",
              "       -1.14964846,  0.51547187,  1.90596347, -0.11422184, -0.03337973,\n",
              "        0.48648928,  0.46988512, -1.49990136, -1.61406277,  0.07639777,\n",
              "        1.54181413, -0.04723238,  0.        ,  0.76465553,  0.05263019,\n",
              "       -1.44763006, -1.73666443,  0.04361588,  1.43955804,  0.        ,\n",
              "       -0.06134367,  0.8105536 ,  0.63011714, -1.12245711, -1.06623158,\n",
              "        0.66096475,  0.81845076, -0.08874162, -0.03543326,  0.74211893,\n",
              "        1.15065212, -0.86867056,  0.11012973,  0.53761116, -0.75743581,\n",
              "       -0.20978513, -0.02359646, -0.29908135,  0.08671869,  0.20829258,\n",
              "       -0.36677122, -1.14664746, -0.5056698 , -0.19600752])"
            ]
          },
          "metadata": {
            "tags": []
          },
          "execution_count": 3
        }
      ]
    },
    {
      "cell_type": "markdown",
      "metadata": {
        "id": "20XMsi7wLhwG",
        "colab_type": "text"
      },
      "source": [
        "## 2) Creating training and test datasets\n",
        "We split the data into training and test data sets. We will train the neural network with the training dataset, and evaluate our neural network with the test dataset "
      ]
    },
    {
      "cell_type": "code",
      "metadata": {
        "id": "NoDuYf0JLhwH",
        "colab_type": "code",
        "colab": {}
      },
      "source": [
        "#Split the data into training and test set.  60% training and %40 test\n",
        "X_train, X_test, y_train, y_test = train_test_split(X, y, test_size=0.4)"
      ],
      "execution_count": 0,
      "outputs": []
    },
    {
      "cell_type": "markdown",
      "metadata": {
        "id": "9G-nKURxLhwL",
        "colab_type": "text"
      },
      "source": [
        "## 3) Setting up the output layer"
      ]
    },
    {
      "cell_type": "markdown",
      "metadata": {
        "id": "Sf3xP0yaLhwM",
        "colab_type": "text"
      },
      "source": [
        "### One hot encoding\n",
        "Our target is an integer in the range [0,..,9], so we will have 10 output neuron's in our network.  \n",
        "\n",
        "-  If  $y=0$, we want the output neurons to have the values $(1,0,0,0,0,0,0,0,0,0)$\n",
        "\n",
        "-  If  $y=1$ we want the output neurons to have the values $(0,1,0,0,0,0,0,0,0,0)$\n",
        "-  etc\n",
        "\n",
        "Thus we need to change our target so it is the same as our hoped for output of the neural network.  \n",
        "-  If $y=0$ we change it into the vector $(1,0,0,0,0,0,0,0,0,0)$. \n",
        "-  If $y=1$ we change it into the vector $(0,1,0,0,0,0,0,0,0,0)$\n",
        "-  etc\n",
        "\n",
        "See page 29 from the website listed above\n",
        "\n",
        "The code to covert the target vector."
      ]
    },
    {
      "cell_type": "code",
      "metadata": {
        "id": "mGw0HA-wLhwN",
        "colab_type": "code",
        "colab": {}
      },
      "source": [
        "def convert_y_to_vect(y):\n",
        "    y_vect = np.zeros((len(y), 10))\n",
        "    for i in range(len(y)):\n",
        "        y_vect[i, y[i]] = 1\n",
        "    return y_vect"
      ],
      "execution_count": 0,
      "outputs": []
    },
    {
      "cell_type": "markdown",
      "metadata": {
        "id": "EoBxZouBLhwR",
        "colab_type": "text"
      },
      "source": [
        "Converting the training and test targets to vectors "
      ]
    },
    {
      "cell_type": "code",
      "metadata": {
        "id": "pV42KTQQLhwS",
        "colab_type": "code",
        "colab": {}
      },
      "source": [
        "# convert digits to vectors\n",
        "y_v_train = convert_y_to_vect(y_train)\n",
        "y_v_test = convert_y_to_vect(y_test)"
      ],
      "execution_count": 0,
      "outputs": []
    },
    {
      "cell_type": "markdown",
      "metadata": {
        "id": "_5yXDQ6rLhwW",
        "colab_type": "text"
      },
      "source": [
        "A quick check to see that our code performs as we expect "
      ]
    },
    {
      "cell_type": "code",
      "metadata": {
        "id": "QQymSuqgLhwX",
        "colab_type": "code",
        "outputId": "597c5c91-91e0-44e0-aa76-636cda163d89",
        "colab": {
          "base_uri": "https://localhost:8080/",
          "height": 105
        }
      },
      "source": [
        "print(y_train[0:4])\n",
        "print(y_v_train[0:4])"
      ],
      "execution_count": 0,
      "outputs": [
        {
          "output_type": "stream",
          "text": [
            "[9 1 2 7]\n",
            "[[0. 0. 0. 0. 0. 0. 0. 0. 0. 1.]\n",
            " [0. 1. 0. 0. 0. 0. 0. 0. 0. 0.]\n",
            " [0. 0. 1. 0. 0. 0. 0. 0. 0. 0.]\n",
            " [0. 0. 0. 0. 0. 0. 0. 1. 0. 0.]]\n"
          ],
          "name": "stdout"
        }
      ]
    },
    {
      "cell_type": "markdown",
      "metadata": {
        "id": "tNUZNR6ZLhwc",
        "colab_type": "text"
      },
      "source": [
        "## 4) Creating the neural network"
      ]
    },
    {
      "cell_type": "markdown",
      "metadata": {
        "id": "APRm00tzLhwd",
        "colab_type": "text"
      },
      "source": [
        "### The activation function and its derivative\n",
        "\n",
        "We will use the sigmoid activation function:  $f(z)=\\frac{1}{1+e^{-z}}$\n",
        "\n",
        "The deriviative of the sigmoid function is: $f'(z) = f(z)(1-f(z))$ "
      ]
    },
    {
      "cell_type": "code",
      "metadata": {
        "id": "YlITnk3ZLhwe",
        "colab_type": "code",
        "colab": {}
      },
      "source": [
        "def f(z):\n",
        "    return 1 / (1 + np.exp(-z))\n",
        "\n",
        "def f_deriv(z):\n",
        "    return f(z) * (1 - f(z))"
      ],
      "execution_count": 0,
      "outputs": []
    },
    {
      "cell_type": "markdown",
      "metadata": {
        "id": "uApgUPBOLhwh",
        "colab_type": "text"
      },
      "source": [
        "### Creating and initialing W and b\n",
        "We want the weights in W to be different so that during back propagation the nodes on a level will have different gradients and thus have different update values.\n",
        "\n",
        "We want the  weights to be small values, since the sigmoid is almost \"flat\" for large inputs.\n",
        "\n",
        "Next is the code that assigns each weight a number uniformly drawn from $[0.0, 1.0)$.  The code assumes that the number of neurons in each level is in the python list *nn_structure*.\n",
        "\n",
        "In the code, the weights, $W^{(\\ell)}$ and $b^{(\\ell)}$ are held in a python dictionary"
      ]
    },
    {
      "cell_type": "code",
      "metadata": {
        "id": "3g-0PZ7yLhwi",
        "colab_type": "code",
        "colab": {}
      },
      "source": [
        "def default(nn_structure):\n",
        "    W = {} #creating a dictionary i.e. a set of key: value pairs\n",
        "    b = {}\n",
        "    for l in range(1, len(nn_structure)):\n",
        "        W[l] = r.random_sample((nn_structure[l], nn_structure[l-1])) #Return “continuous uniform” random floats in the half-open interval [0.0, 1.0). \n",
        "        b[l] = r.random_sample((nn_structure[l],))\n",
        "    return W, b"
      ],
      "execution_count": 0,
      "outputs": []
    },
    {
      "cell_type": "markdown",
      "metadata": {
        "id": "QeFxGTaNLhwt",
        "colab_type": "text"
      },
      "source": [
        "### Initializing $\\triangledown W$ and $\\triangledown b$\n",
        "Creating $\\triangledown W^{(\\ell)}$ and $\\triangledown b^{(\\ell)}$ to have the same size as $W^{(\\ell)}$ and $b^{(\\ell)}$, and setting $\\triangledown W^{(\\ell)}$, and  $\\triangledown b^{(\\ell)}$ to zero"
      ]
    },
    {
      "cell_type": "code",
      "metadata": {
        "id": "7gnVkbtOLhwu",
        "colab_type": "code",
        "colab": {}
      },
      "source": [
        "def init_tri_values(nn_structure):\n",
        "    tri_W = {}\n",
        "    tri_b = {}\n",
        "    for l in range(1, len(nn_structure)):\n",
        "        tri_W[l] = np.zeros((nn_structure[l], nn_structure[l-1]))\n",
        "        tri_b[l] = np.zeros((nn_structure[l],))\n",
        "    return tri_W, tri_b\n",
        "\n"
      ],
      "execution_count": 0,
      "outputs": []
    },
    {
      "cell_type": "markdown",
      "metadata": {
        "id": "NcJo8M1CLhwx",
        "colab_type": "text"
      },
      "source": [
        "## Feed forward\n",
        "Perform a forward pass throught the network.  The function returns the values of $a$ and $z$"
      ]
    },
    {
      "cell_type": "code",
      "metadata": {
        "id": "3taysOEwLhwy",
        "colab_type": "code",
        "colab": {}
      },
      "source": [
        "def feed_forward(x, W, b):\n",
        "    a = {1: x} # create a dictionary for holding the a values for all levels\n",
        "    z = { } # create a dictionary for holding the z values for all the layers\n",
        "    for l in range(1, len(W) + 1): # for each layer\n",
        "        node_in = a[l]\n",
        "        z[l+1] = W[l].dot(node_in) + b[l]  # z^(l+1) = W^(l)*a^(l) + b^(l)\n",
        "        a[l+1] = f(z[l+1]) # a^(l+1) = f(z^(l+1))\n",
        "    return a, z"
      ],
      "execution_count": 0,
      "outputs": []
    },
    {
      "cell_type": "markdown",
      "metadata": {
        "id": "-lhjtvxuLhw1",
        "colab_type": "text"
      },
      "source": [
        "## Compute $\\delta$\n",
        "The code below compute $\\delta^{(s_l)}$ in a function called \"calculate_out_layer_delta\",  and  computes $\\delta^{(\\ell)}$ for the hidden layers in the function called \"calculate_hidden_delta\".  \n",
        "\n",
        "If we wanted to have a different cost function, we would change the \"calculate_out_layer_delta\" function.\n"
      ]
    },
    {
      "cell_type": "code",
      "metadata": {
        "id": "9XoWfdS9Lhw1",
        "colab_type": "code",
        "colab": {}
      },
      "source": [
        "def calculate_out_layer_delta(y, a_out, z_out):\n",
        "    # delta^(nl) = -(y_i - a_i^(nl)) * f'(z_i^(nl))\n",
        "    return -(y-a_out) * f_deriv(z_out) \n",
        "\n",
        "\n",
        "def calculate_hidden_delta(delta_plus_1, w_l, z_l):\n",
        "    # delta^(l) = (transpose(W^(l)) * delta^(l+1)) * f'(z^(l))\n",
        "    return np.dot(np.transpose(w_l), delta_plus_1) * f_deriv(z_l)"
      ],
      "execution_count": 0,
      "outputs": []
    },
    {
      "cell_type": "markdown",
      "metadata": {
        "id": "gjxg1MoeLhw5",
        "colab_type": "text"
      },
      "source": [
        "## The Back Propagation Algorithm\n"
      ]
    },
    {
      "cell_type": "code",
      "metadata": {
        "id": "iDQkJqFxLhw8",
        "colab_type": "code",
        "colab": {}
      },
      "source": [
        "def train_nn(nn_structure, X, y, iter_num=3000, alpha=0.25, lamb=0.01, setup_and_init_weights=default):\n",
        "    W, b = setup_and_init_weights(nn_structure)\n",
        "    cnt = 0\n",
        "    N = len(y)\n",
        "    avg_cost_func = []\n",
        "    print('alpha:', alpha, 'lambda:', lamb, 'weight initialization:', setup_and_init_weights)\n",
        "    print('Starting gradient descent for {} iterations'.format(iter_num))\n",
        "    while cnt < iter_num:\n",
        "        if cnt%1000 == 0:\n",
        "            print('Iteration {} of {}'.format(cnt, iter_num))\n",
        "        tri_W, tri_b = init_tri_values(nn_structure)\n",
        "        avg_cost = 0\n",
        "        for i in range(N):\n",
        "            delta = {}\n",
        "            # perform the feed forward pass and return the stored a and z values, to be used in the\n",
        "            # gradient descent step\n",
        "            a, z = feed_forward(X[i, :], W, b)\n",
        "            # loop from nl-1 to 1 backpropagating the errors\n",
        "            for l in range(len(nn_structure), 0, -1):\n",
        "                if l == len(nn_structure):\n",
        "                    delta[l] = calculate_out_layer_delta(y[i,:], a[l], z[l])\n",
        "                    avg_cost += np.linalg.norm((y[i,:]-a[l]))\n",
        "                else:\n",
        "                    if l > 1:\n",
        "                        delta[l] = calculate_hidden_delta(delta[l+1], W[l], z[l])\n",
        "                    # triW^(l) = triW^(l) + delta^(l+1) * transpose(a^(l))\n",
        "                    tri_W[l] += np.dot(delta[l+1][:,np.newaxis], np.transpose(a[l][:,np.newaxis]))# np.newaxis increase the number of dimensions\n",
        "                    # trib^(l) = trib^(l) + delta^(l+1)\n",
        "                    tri_b[l] += delta[l+1]\n",
        "        # perform the gradient descent step for the weights in each layer\n",
        "        for l in range(len(nn_structure) - 1, 0, -1):\n",
        "            # W[l] += -alpha * (1.0/N * tri_W[l])\n",
        "            # b[l] += -alpha * (1.0/N * tri_b[l])\n",
        "            # add regularization\n",
        "            W[l] += -alpha * (1.0/N * tri_W[l] + lamb/2 * W[l])\n",
        "            b[l] += -alpha * (1.0/N * tri_b[l])\n",
        "        # complete the average cost calculation\n",
        "        avg_cost = 1.0/N * avg_cost\n",
        "        avg_cost_func.append(avg_cost)\n",
        "        cnt += 1\n",
        "    return W, b, avg_cost_func\n",
        "\n",
        "\n",
        "def predict_y(W, b, X, n_layers):\n",
        "    N = X.shape[0]\n",
        "    y = np.zeros((N,))\n",
        "    for i in range(N):\n",
        "        a, z = feed_forward(X[i, :], W, b)\n",
        "        y[i] = np.argmax(a[n_layers])\n",
        "    return y"
      ],
      "execution_count": 0,
      "outputs": []
    },
    {
      "cell_type": "markdown",
      "metadata": {
        "id": "BDPWJxLHLhw_",
        "colab_type": "text"
      },
      "source": [
        "## Running the neural network\n",
        "\n",
        "Our code assumes the size of each layer in our network is held in a list.  The input layer will have 64 neurons (one for each pixel in our 8 by 8 pixelated digit).  Our hidden layer has 30 neurons (you can change this value).  The output layer has 10 neurons.\n",
        "\n",
        "Next we create the python list to hold the number of neurons for each level and then run the neural network code with our training data.\n",
        "\n",
        "This code will take some time..."
      ]
    },
    {
      "cell_type": "markdown",
      "metadata": {
        "id": "RCI33Ip3LhxC",
        "colab_type": "text"
      },
      "source": [
        "### Plotting the learning curve\n"
      ]
    },
    {
      "cell_type": "code",
      "metadata": {
        "id": "UlGg1YKPLhxD",
        "colab_type": "code",
        "colab": {}
      },
      "source": [
        "def plot():\n",
        "  # plot the avg_cost_func\n",
        "  plt.plot(avg_cost_func)\n",
        "  plt.ylabel('Average J')\n",
        "  plt.xlabel('Iteration number')\n",
        "  plt.show()"
      ],
      "execution_count": 0,
      "outputs": []
    },
    {
      "cell_type": "markdown",
      "metadata": {
        "id": "Xw_Stc-vLhxI",
        "colab_type": "text"
      },
      "source": [
        "## 5) Assessing accuracy\n",
        "Next we determine what percentage the neural network correctly predicted the handwritten digit correctly on the test set"
      ]
    },
    {
      "cell_type": "code",
      "metadata": {
        "id": "rUqx_e_-LhxJ",
        "colab_type": "code",
        "colab": {}
      },
      "source": [
        "def acc():\n",
        "  # get the prediction accuracy and print\n",
        "  y_pred = predict_y(W, b, X_test, 3)\n",
        "  print('Prediction accuracy is {}%'.format(accuracy_score(y_test, y_pred) * 100))"
      ],
      "execution_count": 0,
      "outputs": []
    },
    {
      "cell_type": "code",
      "metadata": {
        "id": "iPy8QZK5LhxA",
        "colab_type": "code",
        "colab": {}
      },
      "source": [
        "nn_structure = [64, 30, 10]"
      ],
      "execution_count": 0,
      "outputs": []
    },
    {
      "cell_type": "code",
      "metadata": {
        "id": "Nrp9VmWfZrQs",
        "colab_type": "code",
        "outputId": "3cd9659f-8567-4a1d-a8fd-5bedd3a95157",
        "colab": {
          "base_uri": "https://localhost:8080/",
          "height": 421
        }
      },
      "source": [
        "# train the NN\n",
        "%time W, b, avg_cost_func = train_nn(nn_structure, X_train, y_v_train, 3000, 0.25, 0.01, default)\n",
        "\n",
        "plot()\n",
        "acc()"
      ],
      "execution_count": 0,
      "outputs": [
        {
          "output_type": "stream",
          "text": [
            "alpha: 0.25 lambda: 0.01 weight initialization: <function default at 0x7f5081d441e0>\n",
            "Starting gradient descent for 3000 iterations\n",
            "Iteration 0 of 3000\n",
            "Iteration 1000 of 3000\n",
            "Iteration 2000 of 3000\n",
            "CPU times: user 4min 11s, sys: 31.4 ms, total: 4min 11s\n",
            "Wall time: 4min 12s\n"
          ],
          "name": "stdout"
        },
        {
          "output_type": "display_data",
          "data": {
            "image/png": "[encoded data removed]",
            "text/plain": [
              "<Figure size 432x288 with 1 Axes>"
            ]
          },
          "metadata": {
            "tags": [],
            "needs_background": "light"
          }
        },
        {
          "output_type": "stream",
          "text": [
            "Prediction accuracy is 89.01251738525731%\n"
          ],
          "name": "stdout"
        }
      ]
    },
    {
      "cell_type": "markdown",
      "metadata": {
        "id": "ppHfKDMeOOFK",
        "colab_type": "text"
      },
      "source": [
        "## 6) Parameter Tuning"
      ]
    },
    {
      "cell_type": "markdown",
      "metadata": {
        "id": "ZOVtTR1hPCwt",
        "colab_type": "text"
      },
      "source": [
        "### Weight Initialization Functions\n"
      ]
    },
    {
      "cell_type": "markdown",
      "metadata": {
        "id": "9WoDi-wud_v6",
        "colab_type": "text"
      },
      "source": [
        "#### Uniform"
      ]
    },
    {
      "cell_type": "code",
      "metadata": {
        "id": "VfafitZ9PB92",
        "colab_type": "code",
        "colab": {}
      },
      "source": [
        "# Logistic\n",
        "def logistic_uniform(nn_structure):\n",
        "    W = {}\n",
        "    b = {}\n",
        "    for l in range(1, len(nn_structure)):\n",
        "        W[l] = r.random_sample((nn_structure[l], nn_structure[l-1]))*(np.sqrt(6/(nn_structure[l]+nn_structure[l-1])))\n",
        "        b[l] = r.random_sample((nn_structure[l],))*(np.sqrt(6/(nn_structure[l]+nn_structure[l-1])))\n",
        "    return W, b\n",
        "\n",
        "\n",
        "# Hyperbolic tangent\n",
        "def hyperbolic_tangent_uniform(nn_structure):\n",
        "    W = {}\n",
        "    b = {}\n",
        "    for l in range(1, len(nn_structure)):\n",
        "        W[l] = r.random_sample((nn_structure[l], nn_structure[l-1]))*(4*np.sqrt(6/(nn_structure[l]+nn_structure[l-1])))\n",
        "        b[l] = r.random_sample((nn_structure[l],))*(4*np.sqrt(6/(nn_structure[l]+nn_structure[l-1])))\n",
        "    return W, b\n",
        "\n",
        "# ReLU\n",
        "def ReLU_uniform(nn_structure):\n",
        "    W = {}\n",
        "    b = {}\n",
        "    for l in range(1, len(nn_structure)):\n",
        "        W[l] = r.random_sample((nn_structure[l], nn_structure[l-1]))*(np.sqrt(2)*np.sqrt(6/(nn_structure[l]+nn_structure[l-1])))\n",
        "        b[l] = r.random_sample((nn_structure[l],))*(np.sqrt(2)*np.sqrt(6/(nn_structure[l]+nn_structure[l-1])))\n",
        "    return W, b\n"
      ],
      "execution_count": 0,
      "outputs": []
    },
    {
      "cell_type": "markdown",
      "metadata": {
        "id": "5IH-HLbWgYwR",
        "colab_type": "text"
      },
      "source": [
        "#### Normal"
      ]
    },
    {
      "cell_type": "code",
      "metadata": {
        "id": "_x9bcKVqeET_",
        "colab_type": "code",
        "colab": {}
      },
      "source": [
        "# Logistic\n",
        "def logistic_normal(nn_structure):\n",
        "    W = {}\n",
        "    b = {}\n",
        "    for l in range(1, len(nn_structure)):\n",
        "        W[l] = r.normal(0, np.sqrt(2/(nn_structure[l]+nn_structure[l-1])), (nn_structure[l], nn_structure[l-1]))\n",
        "        b[l] = r.normal(0, np.sqrt(2/(nn_structure[l]+nn_structure[l-1])), (nn_structure[l],))\n",
        "    return W, b\n",
        "\n",
        "\n",
        "# Hyperbolic tangent\n",
        "def hyperbolic_normal(nn_structure):\n",
        "    W = {}\n",
        "    b = {}\n",
        "    for l in range(1, len(nn_structure)):\n",
        "        W[l] = 4*r.normal(0, np.sqrt(2/(nn_structure[l]+nn_structure[l-1])), (nn_structure[l], nn_structure[l-1]))\n",
        "        b[l] = 4*r.normal(0, np.sqrt(2/(nn_structure[l]+nn_structure[l-1])), (nn_structure[l],))\n",
        "    return W, b\n",
        "\n",
        "# ReLU\n",
        "def ReLU_normal(nn_structure):\n",
        "    W = {}\n",
        "    b = {}\n",
        "    for l in range(1, len(nn_structure)):\n",
        "        W[l] = np.sqrt(2)*r.normal(0, np.sqrt(2/(nn_structure[l]+nn_structure[l-1])), (nn_structure[l], nn_structure[l-1]))\n",
        "        b[l] = np.sqrt(2)*r.normal(0, np.sqrt(2/(nn_structure[l]+nn_structure[l-1])), (nn_structure[l],))\n",
        "    return W, b\n"
      ],
      "execution_count": 0,
      "outputs": []
    },
    {
      "cell_type": "markdown",
      "metadata": {
        "id": "CNwon41SdBVO",
        "colab_type": "text"
      },
      "source": [
        "### Sigmoid Activation\n"
      ]
    },
    {
      "cell_type": "code",
      "metadata": {
        "id": "Nr4unw44dDIp",
        "colab_type": "code",
        "colab": {}
      },
      "source": [
        "def f(z):\n",
        "    return 1 / (1 + np.exp(-z))\n",
        "\n",
        "def f_deriv(z):\n",
        "    return f(z) * (1 - f(z))\n",
        "\n",
        "def feed_forward(x, W, b):\n",
        "    a = {1: x} # create a dictionary for holding the a values for all levels\n",
        "    z = { } # create a dictionary for holding the z values for all the layers\n",
        "    for l in range(1, len(W) + 1): # for each layer\n",
        "        node_in = a[l]\n",
        "        z[l+1] = W[l].dot(node_in) + b[l]  # z^(l+1) = W^(l)*a^(l) + b^(l)\n",
        "        a[l+1] = f(z[l+1]) # a^(l+1) = f(z^(l+1))\n",
        "    return a, z\n",
        "\n",
        "def calculate_out_layer_delta(y, a_out, z_out):\n",
        "    # delta^(nl) = -(y_i - a_i^(nl)) * f'(z_i^(nl))\n",
        "    return -(y-a_out) * f_deriv(z_out) \n",
        "\n",
        "def calculate_hidden_delta(delta_plus_1, w_l, z_l):\n",
        "    # delta^(l) = (transpose(W^(l)) * delta^(l+1)) * f'(z^(l))\n",
        "    return np.dot(np.transpose(w_l), delta_plus_1) * f_deriv(z_l)"
      ],
      "execution_count": 0,
      "outputs": []
    },
    {
      "cell_type": "markdown",
      "metadata": {
        "id": "m72r1O7CbiJ6",
        "colab_type": "text"
      },
      "source": [
        "#### Default"
      ]
    },
    {
      "cell_type": "code",
      "metadata": {
        "id": "wlh1AXnYfi41",
        "colab_type": "code",
        "outputId": "4ae10804-c89f-4050-cf86-18f4edf7a0d9",
        "colab": {
          "base_uri": "https://localhost:8080/",
          "height": 421
        }
      },
      "source": [
        "%time W, b, avg_cost_func = train_nn(nn_structure, X_train, y_v_train, 3000)\n",
        "plot()\n",
        "acc()"
      ],
      "execution_count": 0,
      "outputs": [
        {
          "output_type": "stream",
          "text": [
            "alpha: 0.25 lambda: 0.01 weight initialization: <function default at 0x7f5081d441e0>\n",
            "Starting gradient descent for 3000 iterations\n",
            "Iteration 0 of 3000\n",
            "Iteration 1000 of 3000\n",
            "Iteration 2000 of 3000\n",
            "CPU times: user 4min 8s, sys: 26 ms, total: 4min 8s\n",
            "Wall time: 4min 9s\n"
          ],
          "name": "stdout"
        },
        {
          "output_type": "display_data",
          "data": {
            "image/png": "[encoded data removed]",
            "text/plain": [
              "<Figure size 432x288 with 1 Axes>"
            ]
          },
          "metadata": {
            "tags": [],
            "needs_background": "light"
          }
        },
        {
          "output_type": "stream",
          "text": [
            "Prediction accuracy is 87.20445062586927%\n"
          ],
          "name": "stdout"
        }
      ]
    },
    {
      "cell_type": "code",
      "metadata": {
        "id": "JCSmFMiAFvYJ",
        "colab_type": "code",
        "outputId": "9e913e52-f04a-4dfa-8def-ca944aeb6567",
        "colab": {
          "base_uri": "https://localhost:8080/",
          "height": 474
        }
      },
      "source": [
        "%time W, b, avg_cost_func = train_nn(nn_structure, X_train, y_v_train, 6000)\n",
        "plot()\n",
        "acc()"
      ],
      "execution_count": 0,
      "outputs": [
        {
          "output_type": "stream",
          "text": [
            "alpha: 0.25 lambda: 0.01 weight initialization: <function default at 0x7f5081d441e0>\n",
            "Starting gradient descent for 6000 iterations\n",
            "Iteration 0 of 6000\n",
            "Iteration 1000 of 6000\n",
            "Iteration 2000 of 6000\n",
            "Iteration 3000 of 6000\n",
            "Iteration 4000 of 6000\n",
            "Iteration 5000 of 6000\n",
            "CPU times: user 8min 18s, sys: 83.9 ms, total: 8min 18s\n",
            "Wall time: 8min 19s\n"
          ],
          "name": "stdout"
        },
        {
          "output_type": "display_data",
          "data": {
            "image/png": "[encoded data removed]",
            "text/plain": [
              "<Figure size 432x288 with 1 Axes>"
            ]
          },
          "metadata": {
            "tags": [],
            "needs_background": "light"
          }
        },
        {
          "output_type": "stream",
          "text": [
            "Prediction accuracy is 94.01947148817803%\n"
          ],
          "name": "stdout"
        }
      ]
    },
    {
      "cell_type": "markdown",
      "metadata": {
        "id": "Qnmhj6fIbjq7",
        "colab_type": "text"
      },
      "source": [
        "#### Uniform Distribution"
      ]
    },
    {
      "cell_type": "code",
      "metadata": {
        "id": "N9KCby60YEmT",
        "colab_type": "code",
        "outputId": "3227c403-3b24-4eeb-aa64-554f23672ca5",
        "colab": {
          "base_uri": "https://localhost:8080/",
          "height": 421
        }
      },
      "source": [
        "%time W, b, avg_cost_func = train_nn(nn_structure, X_train, y_v_train, 3000, 0.25, 0.01, logistic_uniform)\n",
        "plot()\n",
        "acc()"
      ],
      "execution_count": 0,
      "outputs": [
        {
          "output_type": "stream",
          "text": [
            "alpha: 0.25 lambda: 0.01 weight initialization: <function logistic_uniform at 0x7f5081c919d8>\n",
            "Starting gradient descent for 3000 iterations\n",
            "Iteration 0 of 3000\n",
            "Iteration 1000 of 3000\n",
            "Iteration 2000 of 3000\n",
            "CPU times: user 4min 7s, sys: 36.8 ms, total: 4min 7s\n",
            "Wall time: 4min 7s\n"
          ],
          "name": "stdout"
        },
        {
          "output_type": "display_data",
          "data": {
            "image/png": "[encoded data removed]",
            "text/plain": [
              "<Figure size 432x288 with 1 Axes>"
            ]
          },
          "metadata": {
            "tags": [],
            "needs_background": "light"
          }
        },
        {
          "output_type": "stream",
          "text": [
            "Prediction accuracy is 86.50904033379693%\n"
          ],
          "name": "stdout"
        }
      ]
    },
    {
      "cell_type": "markdown",
      "metadata": {
        "id": "hvUWcgDogizg",
        "colab_type": "text"
      },
      "source": [
        "#### Normal Distribution"
      ]
    },
    {
      "cell_type": "code",
      "metadata": {
        "id": "U6Mpw4wnggYh",
        "colab_type": "code",
        "outputId": "1017e419-f17a-4312-fa9a-3edbbedfed28",
        "colab": {
          "base_uri": "https://localhost:8080/",
          "height": 421
        }
      },
      "source": [
        "%time W, b, avg_cost_func = train_nn(nn_structure, X_train, y_v_train, 3000, 0.25, 0.01, logistic_normal)\n",
        "plot()\n",
        "acc()"
      ],
      "execution_count": 0,
      "outputs": [
        {
          "output_type": "stream",
          "text": [
            "alpha: 0.25 lambda: 0.01 weight initialization: <function logistic_normal at 0x7f5081c6e400>\n",
            "Starting gradient descent for 3000 iterations\n",
            "Iteration 0 of 3000\n",
            "Iteration 1000 of 3000\n",
            "Iteration 2000 of 3000\n",
            "CPU times: user 4min 9s, sys: 35.9 ms, total: 4min 9s\n",
            "Wall time: 4min 9s\n"
          ],
          "name": "stdout"
        },
        {
          "output_type": "display_data",
          "data": {
            "image/png": "[encoded data removed]",
            "text/plain": [
              "<Figure size 432x288 with 1 Axes>"
            ]
          },
          "metadata": {
            "tags": [],
            "needs_background": "light"
          }
        },
        {
          "output_type": "stream",
          "text": [
            "Prediction accuracy is 92.35048678720446%\n"
          ],
          "name": "stdout"
        }
      ]
    },
    {
      "cell_type": "markdown",
      "metadata": {
        "id": "039ifVlTbZfj",
        "colab_type": "text"
      },
      "source": [
        "#### Lambda = 0.001"
      ]
    },
    {
      "cell_type": "code",
      "metadata": {
        "id": "0hJih-Pi0H5z",
        "colab_type": "code",
        "outputId": "271c6a51-1457-4b4a-aaef-254d16632d22",
        "colab": {
          "base_uri": "https://localhost:8080/",
          "height": 421
        }
      },
      "source": [
        "%time W, b, avg_cost_func = train_nn(nn_structure, X_train, y_v_train, 3000, 0.25, 0.001, logistic_uniform)\n",
        "plot()\n",
        "acc()"
      ],
      "execution_count": 0,
      "outputs": [
        {
          "output_type": "stream",
          "text": [
            "alpha: 0.25 lambda: 0.001 weight initialization: <function logistic_uniform at 0x7f5081c919d8>\n",
            "Starting gradient descent for 3000 iterations\n",
            "Iteration 0 of 3000\n",
            "Iteration 1000 of 3000\n",
            "Iteration 2000 of 3000\n",
            "CPU times: user 4min 13s, sys: 39.8 ms, total: 4min 13s\n",
            "Wall time: 4min 13s\n"
          ],
          "name": "stdout"
        },
        {
          "output_type": "display_data",
          "data": {
            "image/png": "[encoded data removed]",
            "text/plain": [
              "<Figure size 432x288 with 1 Axes>"
            ]
          },
          "metadata": {
            "tags": [],
            "needs_background": "light"
          }
        },
        {
          "output_type": "stream",
          "text": [
            "Prediction accuracy is 96.38386648122392%\n"
          ],
          "name": "stdout"
        }
      ]
    },
    {
      "cell_type": "markdown",
      "metadata": {
        "id": "ABcPdqK1M1f0",
        "colab_type": "text"
      },
      "source": [
        "### ReLU Activation"
      ]
    },
    {
      "cell_type": "code",
      "metadata": {
        "id": "H_VMjPvkLhxO",
        "colab_type": "code",
        "colab": {}
      },
      "source": [
        "def f(z):\n",
        "    return np.array([0 if x < 0 else x for x in z])\n",
        "\n",
        "def f_deriv(z):\n",
        "    return np.array([0 if x < 0 else 1 for x in z])\n",
        "\n",
        "def feed_forward(x, W, b):\n",
        "    a = {1: x} # create a dictionary for holding the a values for all levels\n",
        "    z = { } # create a dictionary for holding the z values for all the layers\n",
        "    for l in range(1, len(W) + 1): # for each layer\n",
        "        node_in = a[l]\n",
        "        z[l+1] = W[l].dot(node_in) + b[l]  # z^(l+1) = W^(l)*a^(l) + b^(l)\n",
        "        a[l+1] = f(z[l+1]) # a^(l+1) = f(z^(l+1))\n",
        "    return a, z\n",
        "\n",
        "def calculate_out_layer_delta(y, a_out, z_out):\n",
        "    # delta^(nl) = -(y_i - a_i^(nl)) * f'(z_i^(nl))\n",
        "    return -(y-a_out) * f_deriv(z_out) \n",
        "\n",
        "def calculate_hidden_delta(delta_plus_1, w_l, z_l):\n",
        "    # delta^(l) = (transpose(W^(l)) * delta^(l+1)) * f'(z^(l))\n",
        "    return np.dot(np.transpose(w_l), delta_plus_1) * f_deriv(z_l)"
      ],
      "execution_count": 0,
      "outputs": []
    },
    {
      "cell_type": "markdown",
      "metadata": {
        "id": "lUKRY1eqZ6FI",
        "colab_type": "text"
      },
      "source": [
        "#### Default"
      ]
    },
    {
      "cell_type": "code",
      "metadata": {
        "id": "rlWXjzktVjhN",
        "colab_type": "code",
        "outputId": "0a76188c-2735-4d6c-9f31-4231b65fd998",
        "colab": {
          "base_uri": "https://localhost:8080/",
          "height": 421
        }
      },
      "source": [
        "%time W, b, avg_cost_func = train_nn(nn_structure, X_train, y_v_train, 3000)\n",
        "plot()\n",
        "acc()"
      ],
      "execution_count": 0,
      "outputs": [
        {
          "output_type": "stream",
          "text": [
            "alpha: 0.25 lambda: 0.01 weight initialization: <function default at 0x7f5081d441e0>\n",
            "Starting gradient descent for 3000 iterations\n",
            "Iteration 0 of 3000\n",
            "Iteration 1000 of 3000\n",
            "Iteration 2000 of 3000\n",
            "CPU times: user 5min 22s, sys: 50 ms, total: 5min 22s\n",
            "Wall time: 5min 23s\n"
          ],
          "name": "stdout"
        },
        {
          "output_type": "display_data",
          "data": {
            "image/png": "[encoded data removed]",
            "text/plain": [
              "<Figure size 432x288 with 1 Axes>"
            ]
          },
          "metadata": {
            "tags": [],
            "needs_background": "light"
          }
        },
        {
          "output_type": "stream",
          "text": [
            "Prediction accuracy is 9.596662030598054%\n"
          ],
          "name": "stdout"
        }
      ]
    },
    {
      "cell_type": "code",
      "metadata": {
        "id": "2ajNqOch4xNF",
        "colab_type": "code",
        "outputId": "3e8aa28c-7676-4102-a66e-2ff14ccbb79a",
        "colab": {
          "base_uri": "https://localhost:8080/",
          "height": 421
        }
      },
      "source": [
        "%time W, b, avg_cost_func = train_nn(nn_structure, X_train, y_v_train, 3000, 0.01, 0.01)\n",
        "plot()\n",
        "acc()"
      ],
      "execution_count": 0,
      "outputs": [
        {
          "output_type": "stream",
          "text": [
            "alpha: 0.01 lambda: 0.01 weight initialization: <function default at 0x7f5081d441e0>\n",
            "Starting gradient descent for 3000 iterations\n",
            "Iteration 0 of 3000\n",
            "Iteration 1000 of 3000\n",
            "Iteration 2000 of 3000\n",
            "CPU times: user 5min 25s, sys: 55.8 ms, total: 5min 25s\n",
            "Wall time: 5min 26s\n"
          ],
          "name": "stdout"
        },
        {
          "output_type": "display_data",
          "data": {
            "image/png": "[encoded data removed]",
            "text/plain": [
              "<Figure size 432x288 with 1 Axes>"
            ]
          },
          "metadata": {
            "tags": [],
            "needs_background": "light"
          }
        },
        {
          "output_type": "stream",
          "text": [
            "Prediction accuracy is 9.596662030598054%\n"
          ],
          "name": "stdout"
        }
      ]
    },
    {
      "cell_type": "markdown",
      "metadata": {
        "id": "Z71RNQvwZ-Hg",
        "colab_type": "text"
      },
      "source": [
        "#### Uniform Distribution"
      ]
    },
    {
      "cell_type": "code",
      "metadata": {
        "colab_type": "code",
        "id": "dI8Ry17GYsnt",
        "outputId": "58506591-528f-4586-efc7-24e85d3254c7",
        "colab": {
          "base_uri": "https://localhost:8080/",
          "height": 421
        }
      },
      "source": [
        "%time W, b, avg_cost_func = train_nn(nn_structure, X_train, y_v_train, 3000, 0.25, 0.01, ReLU_uniform)\n",
        "plot()\n",
        "acc()"
      ],
      "execution_count": 0,
      "outputs": [
        {
          "output_type": "stream",
          "text": [
            "alpha: 0.25 lambda: 0.01 weight initialization: <function ReLU_uniform at 0x7f5081c91b70>\n",
            "Starting gradient descent for 3000 iterations\n",
            "Iteration 0 of 3000\n",
            "Iteration 1000 of 3000\n",
            "Iteration 2000 of 3000\n",
            "CPU times: user 5min 21s, sys: 61.7 ms, total: 5min 21s\n",
            "Wall time: 5min 22s\n"
          ],
          "name": "stdout"
        },
        {
          "output_type": "display_data",
          "data": {
            "image/png": "[encoded data removed]",
            "text/plain": [
              "<Figure size 432x288 with 1 Axes>"
            ]
          },
          "metadata": {
            "tags": [],
            "needs_background": "light"
          }
        },
        {
          "output_type": "stream",
          "text": [
            "Prediction accuracy is 9.596662030598054%\n"
          ],
          "name": "stdout"
        }
      ]
    },
    {
      "cell_type": "markdown",
      "metadata": {
        "colab_type": "text",
        "id": "uO-TEMdNgm45"
      },
      "source": [
        "#### Normal"
      ]
    },
    {
      "cell_type": "code",
      "metadata": {
        "colab_type": "code",
        "id": "FQ2NW7PWgm48",
        "outputId": "9f3d4baf-34c3-421e-9d87-8b4fb7affce4",
        "colab": {
          "base_uri": "https://localhost:8080/",
          "height": 421
        }
      },
      "source": [
        "%time W, b, avg_cost_func = train_nn(nn_structure, X_train, y_v_train, 3000, 0.25, 0.01, ReLU_normal)\n",
        "plot()\n",
        "acc()"
      ],
      "execution_count": 0,
      "outputs": [
        {
          "output_type": "stream",
          "text": [
            "alpha: 0.25 lambda: 0.01 weight initialization: <function ReLU_normal at 0x7f5081c6e510>\n",
            "Starting gradient descent for 3000 iterations\n",
            "Iteration 0 of 3000\n",
            "Iteration 1000 of 3000\n",
            "Iteration 2000 of 3000\n",
            "CPU times: user 5min 27s, sys: 68.4 ms, total: 5min 27s\n",
            "Wall time: 5min 27s\n"
          ],
          "name": "stdout"
        },
        {
          "output_type": "display_data",
          "data": {
            "image/png": "[encoded data removed]",
            "text/plain": [
              "<Figure size 432x288 with 1 Axes>"
            ]
          },
          "metadata": {
            "tags": [],
            "needs_background": "light"
          }
        },
        {
          "output_type": "stream",
          "text": [
            "Prediction accuracy is 58.692628650904034%\n"
          ],
          "name": "stdout"
        }
      ]
    },
    {
      "cell_type": "markdown",
      "metadata": {
        "id": "MClVakUlaB3X",
        "colab_type": "text"
      },
      "source": [
        "#### Lambda = 0.001"
      ]
    },
    {
      "cell_type": "code",
      "metadata": {
        "id": "WdMZ7QFj0DeN",
        "colab_type": "code",
        "outputId": "843e075e-4e47-42aa-9b98-2254776b83db",
        "colab": {
          "base_uri": "https://localhost:8080/",
          "height": 421
        }
      },
      "source": [
        "%time W, b, avg_cost_func = train_nn(nn_structure, X_train, y_v_train, 3000, 0.25, 0.001, ReLU_uniform)\n",
        "plot()\n",
        "acc()"
      ],
      "execution_count": 0,
      "outputs": [
        {
          "output_type": "stream",
          "text": [
            "alpha: 0.25 lambda: 0.001 weight initialization: <function ReLU_uniform at 0x7f5081c91b70>\n",
            "Starting gradient descent for 3000 iterations\n",
            "Iteration 0 of 3000\n",
            "Iteration 1000 of 3000\n",
            "Iteration 2000 of 3000\n",
            "CPU times: user 5min 24s, sys: 55.8 ms, total: 5min 24s\n",
            "Wall time: 5min 25s\n"
          ],
          "name": "stdout"
        },
        {
          "output_type": "display_data",
          "data": {
            "image/png": "[encoded data removed]",
            "text/plain": [
              "<Figure size 432x288 with 1 Axes>"
            ]
          },
          "metadata": {
            "tags": [],
            "needs_background": "light"
          }
        },
        {
          "output_type": "stream",
          "text": [
            "Prediction accuracy is 9.596662030598054%\n"
          ],
          "name": "stdout"
        }
      ]
    },
    {
      "cell_type": "markdown",
      "metadata": {
        "id": "hFOD3AyCZCaS",
        "colab_type": "text"
      },
      "source": [
        "#### Leaky ReLu"
      ]
    },
    {
      "cell_type": "code",
      "metadata": {
        "id": "4A2hLdrCY_O-",
        "colab_type": "code",
        "outputId": "80801aee-a0b8-46f2-9f85-952c34491a90",
        "colab": {
          "base_uri": "https://localhost:8080/",
          "height": 425
        }
      },
      "source": [
        "%time W, b, avg_cost_func = train_nn(nn_structure, X_train, y_v_train, 3000, 0.01, 0.01, ReLU_uniform)\n",
        "plot()\n",
        "acc()"
      ],
      "execution_count": 0,
      "outputs": [
        {
          "output_type": "stream",
          "text": [
            "alpha: 0.01 lambda: 0.01 weight initialization: <function ReLU_uniform at 0x7f5081c91b70>\n",
            "Starting gradient descent for 3000 iterations\n",
            "Iteration 0 of 3000\n",
            "Iteration 1000 of 3000\n",
            "Iteration 2000 of 3000\n",
            "CPU times: user 5min 23s, sys: 746 ms, total: 5min 23s\n",
            "Wall time: 5min 24s\n"
          ],
          "name": "stdout"
        },
        {
          "output_type": "display_data",
          "data": {
            "image/png": "[encoded data removed]",
            "text/plain": [
              "<Figure size 432x288 with 1 Axes>"
            ]
          },
          "metadata": {
            "tags": [],
            "needs_background": "light"
          }
        },
        {
          "output_type": "stream",
          "text": [
            "Prediction accuracy is 89.84700973574408%\n"
          ],
          "name": "stdout"
        }
      ]
    },
    {
      "cell_type": "code",
      "metadata": {
        "id": "rO2D0-1Rc05n",
        "colab_type": "code",
        "outputId": "b8a96f0f-857f-4b8b-d4a5-5acd06c2f520",
        "colab": {
          "base_uri": "https://localhost:8080/",
          "height": 474
        }
      },
      "source": [
        "%time W, b, avg_cost_func = train_nn(nn_structure, X_train, y_v_train, 6000, 0.01, 0.01, ReLU_uniform)\n",
        "plot()\n",
        "acc()"
      ],
      "execution_count": 0,
      "outputs": [
        {
          "output_type": "stream",
          "text": [
            "alpha: 0.01 lambda: 0.01 weight initialization: <function ReLU_uniform at 0x7f5081c91b70>\n",
            "Starting gradient descent for 6000 iterations\n",
            "Iteration 0 of 6000\n",
            "Iteration 1000 of 6000\n",
            "Iteration 2000 of 6000\n",
            "Iteration 3000 of 6000\n",
            "Iteration 4000 of 6000\n",
            "Iteration 5000 of 6000\n",
            "CPU times: user 10min 44s, sys: 776 ms, total: 10min 44s\n",
            "Wall time: 10min 46s\n"
          ],
          "name": "stdout"
        },
        {
          "output_type": "display_data",
          "data": {
            "image/png": "[encoded data removed]",
            "text/plain": [
              "<Figure size 432x288 with 1 Axes>"
            ]
          },
          "metadata": {
            "tags": [],
            "needs_background": "light"
          }
        },
        {
          "output_type": "stream",
          "text": [
            "Prediction accuracy is 95.2712100139082%\n"
          ],
          "name": "stdout"
        }
      ]
    },
    {
      "cell_type": "markdown",
      "metadata": {
        "id": "OP0726z6M34O",
        "colab_type": "text"
      },
      "source": [
        "### Tanh Activation"
      ]
    },
    {
      "cell_type": "code",
      "metadata": {
        "id": "XwpcoV8TM4sx",
        "colab_type": "code",
        "colab": {}
      },
      "source": [
        "def f(z):\n",
        "    return (np.exp(z) - np.exp(-z)) / (np.exp(z) + np.exp(-z))\n",
        "\n",
        "def f_deriv(z):\n",
        "    return 1 - f(z)**2\n",
        "\n",
        "def feed_forward(x, W, b):\n",
        "    a = {1: x} # create a dictionary for holding the a values for all levels\n",
        "    z = { } # create a dictionary for holding the z values for all the layers\n",
        "    for l in range(1, len(W) + 1): # for each layer\n",
        "        node_in = a[l]\n",
        "        z[l+1] = W[l].dot(node_in) + b[l]  # z^(l+1) = W^(l)*a^(l) + b^(l)\n",
        "        a[l+1] = f(z[l+1]) # a^(l+1) = f(z^(l+1))\n",
        "    return a, z\n",
        "\n",
        "def calculate_out_layer_delta(y, a_out, z_out):\n",
        "    # delta^(nl) = -(y_i - a_i^(nl)) * f'(z_i^(nl))\n",
        "    return -(y-a_out) * f_deriv(z_out) \n",
        "\n",
        "def calculate_hidden_delta(delta_plus_1, w_l, z_l):\n",
        "    # delta^(l) = (transpose(W^(l)) * delta^(l+1)) * f'(z^(l))\n",
        "    return np.dot(np.transpose(w_l), delta_plus_1) * f_deriv(z_l)"
      ],
      "execution_count": 0,
      "outputs": []
    },
    {
      "cell_type": "markdown",
      "metadata": {
        "id": "vSU9m6r9aJK5",
        "colab_type": "text"
      },
      "source": [
        "#### Default"
      ]
    },
    {
      "cell_type": "code",
      "metadata": {
        "colab_type": "code",
        "outputId": "1b76e1f4-2e55-488d-8a9f-8ab304b6f3d9",
        "id": "r_xOtwHFYsne",
        "colab": {
          "base_uri": "https://localhost:8080/",
          "height": 421
        }
      },
      "source": [
        "%time W, b, avg_cost_func = train_nn(nn_structure, X_train, y_v_train, 3000)\n",
        "plot()\n",
        "acc()"
      ],
      "execution_count": 0,
      "outputs": [
        {
          "output_type": "stream",
          "text": [
            "alpha: 0.25 lambda: 0.01 weight initialization: <function default at 0x7f5081d441e0>\n",
            "Starting gradient descent for 3000 iterations\n",
            "Iteration 0 of 3000\n",
            "Iteration 1000 of 3000\n",
            "Iteration 2000 of 3000\n",
            "CPU times: user 4min 24s, sys: 52.9 ms, total: 4min 24s\n",
            "Wall time: 4min 24s\n"
          ],
          "name": "stdout"
        },
        {
          "output_type": "display_data",
          "data": {
            "image/png": "[encoded data removed]",
            "text/plain": [
              "<Figure size 432x288 with 1 Axes>"
            ]
          },
          "metadata": {
            "tags": [],
            "needs_background": "light"
          }
        },
        {
          "output_type": "stream",
          "text": [
            "Prediction accuracy is 96.80111265646731%\n"
          ],
          "name": "stdout"
        }
      ]
    },
    {
      "cell_type": "markdown",
      "metadata": {
        "id": "JfIbDpaEaK3H",
        "colab_type": "text"
      },
      "source": [
        "#### Uniform Distribution"
      ]
    },
    {
      "cell_type": "code",
      "metadata": {
        "colab_type": "code",
        "id": "PnhdBhDnYsnq",
        "outputId": "79a247b0-6f0a-45d7-f826-d8e40c1603db",
        "colab": {
          "base_uri": "https://localhost:8080/",
          "height": 421
        }
      },
      "source": [
        "%time W, b, avg_cost_func = train_nn(nn_structure, X_train, y_v_train, 3000, 0.25, 0.01, hyperbolic_tangent_uniform)\n",
        "plot()\n",
        "acc()"
      ],
      "execution_count": 0,
      "outputs": [
        {
          "output_type": "stream",
          "text": [
            "alpha: 0.25 lambda: 0.01 weight initialization: <function hyperbolic_tangent_uniform at 0x7f5081c91ae8>\n",
            "Starting gradient descent for 3000 iterations\n",
            "Iteration 0 of 3000\n",
            "Iteration 1000 of 3000\n",
            "Iteration 2000 of 3000\n",
            "CPU times: user 4min 25s, sys: 44.9 ms, total: 4min 25s\n",
            "Wall time: 4min 25s\n"
          ],
          "name": "stdout"
        },
        {
          "output_type": "display_data",
          "data": {
            "image/png": "[encoded data removed]",
            "text/plain": [
              "<Figure size 432x288 with 1 Axes>"
            ]
          },
          "metadata": {
            "tags": [],
            "needs_background": "light"
          }
        },
        {
          "output_type": "stream",
          "text": [
            "Prediction accuracy is 96.94019471488178%\n"
          ],
          "name": "stdout"
        }
      ]
    },
    {
      "cell_type": "code",
      "metadata": {
        "id": "oRnh-64I5E7h",
        "colab_type": "code",
        "outputId": "bcd6d8a8-43ba-4887-88ab-0ca8df619e1b",
        "colab": {
          "base_uri": "https://localhost:8080/",
          "height": 474
        }
      },
      "source": [
        "%time W, b, avg_cost_func = train_nn(nn_structure, X_train, y_v_train, 6000, 0.25, 0.01, hyperbolic_tangent_uniform)\n",
        "plot()\n",
        "acc()"
      ],
      "execution_count": 0,
      "outputs": [
        {
          "output_type": "stream",
          "text": [
            "alpha: 0.25 lambda: 0.01 weight initialization: <function hyperbolic_tangent_uniform at 0x7f5081c91ae8>\n",
            "Starting gradient descent for 6000 iterations\n",
            "Iteration 0 of 6000\n",
            "Iteration 1000 of 6000\n",
            "Iteration 2000 of 6000\n",
            "Iteration 3000 of 6000\n",
            "Iteration 4000 of 6000\n",
            "Iteration 5000 of 6000\n",
            "CPU times: user 8min 52s, sys: 124 ms, total: 8min 52s\n",
            "Wall time: 8min 53s\n"
          ],
          "name": "stdout"
        },
        {
          "output_type": "display_data",
          "data": {
            "image/png": "[encoded data removed]",
            "text/plain": [
              "<Figure size 432x288 with 1 Axes>"
            ]
          },
          "metadata": {
            "tags": [],
            "needs_background": "light"
          }
        },
        {
          "output_type": "stream",
          "text": [
            "Prediction accuracy is 97.49652294853965%\n"
          ],
          "name": "stdout"
        }
      ]
    },
    {
      "cell_type": "markdown",
      "metadata": {
        "colab_type": "text",
        "id": "g102OKaMgswJ"
      },
      "source": [
        "#### Normal Distribution"
      ]
    },
    {
      "cell_type": "code",
      "metadata": {
        "colab_type": "code",
        "id": "blg67VbOgswL",
        "outputId": "52544e06-50d9-4020-ea76-f728037ec0ef",
        "colab": {
          "base_uri": "https://localhost:8080/",
          "height": 421
        }
      },
      "source": [
        "%time W, b, avg_cost_func = train_nn(nn_structure, X_train, y_v_train, 3000, 0.25, 0.01, hyperbolic_normal)\n",
        "plot()\n",
        "acc()"
      ],
      "execution_count": 0,
      "outputs": [
        {
          "output_type": "stream",
          "text": [
            "alpha: 0.25 lambda: 0.01 weight initialization: <function hyperbolic_normal at 0x7f5081c6e488>\n",
            "Starting gradient descent for 3000 iterations\n",
            "Iteration 0 of 3000\n",
            "Iteration 1000 of 3000\n",
            "Iteration 2000 of 3000\n",
            "CPU times: user 4min 24s, sys: 44.8 ms, total: 4min 24s\n",
            "Wall time: 4min 24s\n"
          ],
          "name": "stdout"
        },
        {
          "output_type": "display_data",
          "data": {
            "image/png": "[encoded data removed]",
            "text/plain": [
              "<Figure size 432x288 with 1 Axes>"
            ]
          },
          "metadata": {
            "tags": [],
            "needs_background": "light"
          }
        },
        {
          "output_type": "stream",
          "text": [
            "Prediction accuracy is 97.2183588317107%\n"
          ],
          "name": "stdout"
        }
      ]
    },
    {
      "cell_type": "markdown",
      "metadata": {
        "id": "qauQRxL_aPCr",
        "colab_type": "text"
      },
      "source": [
        "#### Lambda = 0.001"
      ]
    },
    {
      "cell_type": "code",
      "metadata": {
        "id": "h5mqHmMcg5oU",
        "colab_type": "code",
        "outputId": "d9ea17d2-92f5-4b89-d85c-d70b4ba4f325",
        "colab": {
          "base_uri": "https://localhost:8080/",
          "height": 421
        }
      },
      "source": [
        "%time W, b, avg_cost_func = train_nn(nn_structure, X_train, y_v_train, 3000, 0.25, 0.001, hyperbolic_tangent_uniform)\n",
        "plot()\n",
        "acc()"
      ],
      "execution_count": 0,
      "outputs": [
        {
          "output_type": "stream",
          "text": [
            "alpha: 0.25 lambda: 0.001 weight initialization: <function hyperbolic_tangent_uniform at 0x7f5081c91ae8>\n",
            "Starting gradient descent for 3000 iterations\n",
            "Iteration 0 of 3000\n",
            "Iteration 1000 of 3000\n",
            "Iteration 2000 of 3000\n",
            "CPU times: user 4min 25s, sys: 48.9 ms, total: 4min 25s\n",
            "Wall time: 4min 25s\n"
          ],
          "name": "stdout"
        },
        {
          "output_type": "display_data",
          "data": {
            "image/png": "[encoded data removed]",
            "text/plain": [
              "<Figure size 432x288 with 1 Axes>"
            ]
          },
          "metadata": {
            "tags": [],
            "needs_background": "light"
          }
        },
        {
          "output_type": "stream",
          "text": [
            "Prediction accuracy is 90.82058414464534%\n"
          ],
          "name": "stdout"
        }
      ]
    },
    {
      "cell_type": "code",
      "metadata": {
        "id": "FOhcrPe9_fiZ",
        "colab_type": "code",
        "colab": {}
      },
      "source": [
        ""
      ],
      "execution_count": 0,
      "outputs": []
    }
  ]
}