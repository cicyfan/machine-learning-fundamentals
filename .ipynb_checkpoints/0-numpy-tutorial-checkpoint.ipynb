{
 "cells": [
  {
   "cell_type": "markdown",
   "metadata": {},
   "source": [
    "# Numpy Assignment\n",
    "\n",
    "Numpy is a library for numerical computing.\n",
    "\n",
    "This self-guided exercise covers the important numpy commands which will be used in the programming assignments for this course. "
   ]
  },
  {
   "cell_type": "markdown",
   "metadata": {},
   "source": [
    "Basics: NumPy’s main object is the homogeneous multidimensional array. It is a table of elements (usually numbers), all of the same type, indexed by a tuple of positive integers. In NumPy dimensions are called axes. The number of axes is rank.\n",
    "For example, the coordinates of a point in 3D space [1, 2, 1] is an array of rank 1, because it has one axis i.e. just a single row. That axis has a length of 3. "
   ]
  },
  {
   "cell_type": "markdown",
   "metadata": {},
   "source": [
    "# Array Creation\n",
    "\n",
    "Numpy arrays behave similar to n-dimensional matrices in matlab.\n",
    "\n",
    "There are several ways to create an array: Two methods are shown below. Before moving ahead, lets first import numpy.  "
   ]
  },
  {
   "cell_type": "code",
   "execution_count": 1,
   "metadata": {},
   "outputs": [],
   "source": [
    "# Just run this code cell by pressing shift+enter\n",
    "import numpy as np"
   ]
  },
  {
   "cell_type": "code",
   "execution_count": 2,
   "metadata": {},
   "outputs": [
    {
     "name": "stdout",
     "output_type": "stream",
     "text": [
      "[3 6 2]\n"
     ]
    }
   ],
   "source": [
    "# Method 1 for creating an array: passing a list of numbers.\n",
    "a=np.array([3,6,2])\n",
    "print(a)"
   ]
  },
  {
   "cell_type": "code",
   "execution_count": 3,
   "metadata": {},
   "outputs": [
    {
     "name": "stdout",
     "output_type": "stream",
     "text": [
      "None\n"
     ]
    }
   ],
   "source": [
    "# Create an array b having elements 9,6,3,1. \n",
    "# In the code below, remove None and write the numpy command to create an array having these elements. \n",
    "b = None\n",
    "print(b)"
   ]
  },
  {
   "cell_type": "markdown",
   "metadata": {},
   "source": [
    " If you simply pass numbers as attributes, this will give an error. example: np.array(9,6,3,1) will give an error. Try it yourself in the code cell below."
   ]
  },
  {
   "cell_type": "code",
   "execution_count": 8,
   "metadata": {},
   "outputs": [],
   "source": [
    "b = np.array([9,6,3,1])"
   ]
  },
  {
   "cell_type": "markdown",
   "metadata": {},
   "source": [
    "Array transforms sequences of sequences into two-dimensional arrays. Sequences of sequences of sequences into three-dimensional arrays, and so on. Run example below which is a 2-dimensional array."
   ]
  },
  {
   "cell_type": "code",
   "execution_count": 9,
   "metadata": {},
   "outputs": [
    {
     "name": "stdout",
     "output_type": "stream",
     "text": [
      "[[1 2 3]\n",
      " [4 5 6]]\n"
     ]
    }
   ],
   "source": [
    "c = np.array([[1,2,3],[4,5,6]])\n",
    "print(c)"
   ]
  },
  {
   "cell_type": "markdown",
   "metadata": {},
   "source": [
    "Example of 3-dimensional array:"
   ]
  },
  {
   "cell_type": "code",
   "execution_count": 10,
   "metadata": {},
   "outputs": [
    {
     "name": "stdout",
     "output_type": "stream",
     "text": [
      "[[[ 1  2  3]\n",
      "  [ 4  5  6]]\n",
      "\n",
      " [[ 6  7  8]\n",
      "  [ 9 10 11]]]\n"
     ]
    }
   ],
   "source": [
    "# Just run this code cell: \n",
    "c = np.array([[[1,2,3],[4,5,6]],[[6,7,8],[9,10,11]]])\n",
    "print(c)"
   ]
  },
  {
   "cell_type": "code",
   "execution_count": 11,
   "metadata": {},
   "outputs": [
    {
     "name": "stdout",
     "output_type": "stream",
     "text": [
      "None\n"
     ]
    }
   ],
   "source": [
    "# Create a 2-dimensional array having elemnets [15,16,17] in the first row and [18,19,20 ] in the second row.\n",
    "c = None\n",
    "print(c)"
   ]
  },
  {
   "cell_type": "markdown",
   "metadata": {},
   "source": [
    "Method 2 for creating an array: using the \"arange\" function.  Numpy has a function called arange which is analogous to range function of python. arange function returns array instead of list. Example shown below."
   ]
  },
  {
   "cell_type": "code",
   "execution_count": 12,
   "metadata": {},
   "outputs": [
    {
     "name": "stdout",
     "output_type": "stream",
     "text": [
      "[0 1 2 3 4 5 6 7 8 9]\n"
     ]
    }
   ],
   "source": [
    "# Run this code cell\n",
    "a = np.arange(10)\n",
    "print(a)"
   ]
  },
  {
   "cell_type": "code",
   "execution_count": 13,
   "metadata": {},
   "outputs": [
    {
     "name": "stdout",
     "output_type": "stream",
     "text": [
      "[1 3 5 7 9]\n"
     ]
    }
   ],
   "source": [
    "# Run this code cell\n",
    "b = np.arange(1,10,2)\n",
    "# Creates an array of 1-dimension. The array values starts at 1, increments by 2 upto 10 (but not including 10). \n",
    "print(b)"
   ]
  },
  {
   "cell_type": "code",
   "execution_count": 14,
   "metadata": {},
   "outputs": [
    {
     "name": "stdout",
     "output_type": "stream",
     "text": [
      "None\n"
     ]
    }
   ],
   "source": [
    "# Create 1-d array using arange having elements from 1 to 15\n",
    "c = None\n",
    "print(c)"
   ]
  },
  {
   "cell_type": "markdown",
   "metadata": {},
   "source": [
    "# Important attributes of the array object.\n",
    "Attribute description is given in the comments of the respective code cells.\n"
   ]
  },
  {
   "cell_type": "code",
   "execution_count": 15,
   "metadata": {},
   "outputs": [
    {
     "name": "stdout",
     "output_type": "stream",
     "text": [
      "[[1 2 3]\n",
      " [4 5 6]]\n"
     ]
    }
   ],
   "source": [
    "# Run this cell\n",
    "a = np.array([[1,2,3],[4,5,6]])\n",
    "print(a)"
   ]
  },
  {
   "cell_type": "code",
   "execution_count": 16,
   "metadata": {},
   "outputs": [
    {
     "data": {
      "text/plain": [
       "2"
      ]
     },
     "execution_count": 16,
     "metadata": {},
     "output_type": "execute_result"
    }
   ],
   "source": [
    "# ndarray.ndim gives the number of axes(dimensions) of the array. Run this cell\n",
    "a.ndim"
   ]
  },
  {
   "cell_type": "code",
   "execution_count": 17,
   "metadata": {},
   "outputs": [
    {
     "data": {
      "text/plain": [
       "(2, 3)"
      ]
     },
     "execution_count": 17,
     "metadata": {},
     "output_type": "execute_result"
    }
   ],
   "source": [
    "# ndarray.shape gives the tuple having the shape of the array. Run this cell. \n",
    "# Here, you can interpret the shape of a as having 2 rows and 3 columns.\n",
    "a.shape"
   ]
  },
  {
   "cell_type": "code",
   "execution_count": 18,
   "metadata": {},
   "outputs": [
    {
     "data": {
      "text/plain": [
       "6"
      ]
     },
     "execution_count": 18,
     "metadata": {},
     "output_type": "execute_result"
    }
   ],
   "source": [
    "# ndarray.size the total number of elements of the array. This is equal to the product of the elements of shape.\n",
    "a.size"
   ]
  },
  {
   "cell_type": "code",
   "execution_count": 19,
   "metadata": {},
   "outputs": [
    {
     "data": {
      "text/plain": [
       "dtype('int32')"
      ]
     },
     "execution_count": 19,
     "metadata": {},
     "output_type": "execute_result"
    }
   ],
   "source": [
    "# ndarray.dtype an object describing the type of the elements in the array.\n",
    "a.dtype"
   ]
  },
  {
   "cell_type": "code",
   "execution_count": 20,
   "metadata": {},
   "outputs": [
    {
     "name": "stdout",
     "output_type": "stream",
     "text": [
      "None\n"
     ]
    }
   ],
   "source": [
    "# Create a numpy array having elements [1,2,3,4,5] in first row and [6,7,8,9,10] in the second row. \n",
    "b = None\n",
    "print(b)\n",
    "# Find the attributes shown in the above 4 cells.  Write the code below.\n"
   ]
  },
  {
   "cell_type": "code",
   "execution_count": 21,
   "metadata": {},
   "outputs": [
    {
     "name": "stdout",
     "output_type": "stream",
     "text": [
      "To get the first dimension:\n",
      "2\n",
      "To get the second dimension:\n",
      "3\n"
     ]
    }
   ],
   "source": [
    "# Sometimes we want to get an individual dimension of an array.  \n",
    "# We can index which dimension we want from the shape attribute.\n",
    "print(\"To get the first dimension:\")\n",
    "print(a.shape[0])\n",
    "print(\"To get the second dimension:\")\n",
    "print(a.shape[1])"
   ]
  },
  {
   "cell_type": "markdown",
   "metadata": {},
   "source": [
    "# Creating array of zeros and ones."
   ]
  },
  {
   "cell_type": "code",
   "execution_count": 22,
   "metadata": {},
   "outputs": [
    {
     "name": "stdout",
     "output_type": "stream",
     "text": [
      "[[0. 0. 0. 0.]\n",
      " [0. 0. 0. 0.]\n",
      " [0. 0. 0. 0.]]\n",
      "float64\n"
     ]
    }
   ],
   "source": [
    "# Array of zeros. The code below creates an array of zeros of the specified dimension.\n",
    "# Code below creates an array of zeros of dimension (3,4)\n",
    "a=np.zeros((3,4))\n",
    "print(a)\n",
    "print(a.dtype)"
   ]
  },
  {
   "cell_type": "code",
   "execution_count": 23,
   "metadata": {},
   "outputs": [
    {
     "name": "stdout",
     "output_type": "stream",
     "text": [
      "[[[1 1 1 1]\n",
      "  [1 1 1 1]\n",
      "  [1 1 1 1]]\n",
      "\n",
      " [[1 1 1 1]\n",
      "  [1 1 1 1]\n",
      "  [1 1 1 1]]]\n",
      "int16\n"
     ]
    }
   ],
   "source": [
    "# Array of ones. Here, dtype attribute specifies the data type of the elements of array. This is optional. \n",
    "# By default, it is float64 as you can see in the example of zeros above.\n",
    "# Array of ones with dimensions (2,3,4)\n",
    "b = np.ones( (2,3,4), dtype=np.int16 )\n",
    "print(b)\n",
    "print(b.dtype)"
   ]
  },
  {
   "cell_type": "code",
   "execution_count": 24,
   "metadata": {},
   "outputs": [
    {
     "name": "stdout",
     "output_type": "stream",
     "text": [
      "None\n"
     ]
    }
   ],
   "source": [
    "# Create an array of zeros of dimension (5,6) \n",
    "a=None\n",
    "print(a)"
   ]
  },
  {
   "cell_type": "code",
   "execution_count": 25,
   "metadata": {},
   "outputs": [
    {
     "name": "stdout",
     "output_type": "stream",
     "text": [
      "None\n"
     ]
    }
   ],
   "source": [
    "# Create an array of ones of dimension (2,3)\n",
    "b=None\n",
    "print(b)"
   ]
  },
  {
   "cell_type": "markdown",
   "metadata": {},
   "source": [
    "# Reshape Function.\n",
    "\n",
    "Reshape function is used to reshape an array. See the example below. "
   ]
  },
  {
   "cell_type": "code",
   "execution_count": 26,
   "metadata": {},
   "outputs": [
    {
     "name": "stdout",
     "output_type": "stream",
     "text": [
      "The original array a\n",
      "[ 0  1  2  3  4  5  6  7  8  9 10 11 12 13 14]\n",
      "The array a reshaped with dimensions 3x5\n",
      "[[ 0  1  2  3  4]\n",
      " [ 5  6  7  8  9]\n",
      " [10 11 12 13 14]]\n"
     ]
    }
   ],
   "source": [
    "a = np.arange(15)\n",
    "print(\"The original array a\")\n",
    "print(a)\n",
    "print(\"The array a reshaped with dimensions 3x5\")\n",
    "print(a.reshape(3,5))"
   ]
  },
  {
   "cell_type": "code",
   "execution_count": 27,
   "metadata": {},
   "outputs": [
    {
     "name": "stdout",
     "output_type": "stream",
     "text": [
      "Notice that a didn't change\n",
      "[ 0  1  2  3  4  5  6  7  8  9 10 11 12 13 14]\n",
      "The dimensions of a:\n",
      "(15,)\n"
     ]
    }
   ],
   "source": [
    "# Reshape function doesn't change the shape of original array. \n",
    "print(\"Notice that a didn't change\")\n",
    "print(a)\n",
    "print(\"The dimensions of a:\")\n",
    "print(a.shape)"
   ]
  },
  {
   "cell_type": "code",
   "execution_count": 28,
   "metadata": {},
   "outputs": [
    {
     "name": "stdout",
     "output_type": "stream",
     "text": [
      "Notice a has been changed\n",
      "[[ 0  1  2  3  4]\n",
      " [ 5  6  7  8  9]\n",
      " [10 11 12 13 14]]\n",
      "The new dimensions of a:\n",
      "(3, 5)\n"
     ]
    }
   ],
   "source": [
    "# To change the shape of original array, use this. \n",
    "a = a.reshape(3,5)\n",
    "print(\"Notice a has been changed\")\n",
    "print(a)\n",
    "print(\"The new dimensions of a:\")\n",
    "print(a.shape)"
   ]
  },
  {
   "cell_type": "code",
   "execution_count": 29,
   "metadata": {},
   "outputs": [
    {
     "name": "stdout",
     "output_type": "stream",
     "text": [
      "None\n",
      "None\n"
     ]
    }
   ],
   "source": [
    "# Create an array of zeros of dimension (4,5)\n",
    "b= None\n",
    "print(b)\n",
    "# Reshape b to dimensions (10,2).\n",
    "b = None\n",
    "print(b)"
   ]
  },
  {
   "cell_type": "markdown",
   "metadata": {},
   "source": [
    "# Note:\n",
    "Whenever you use a 1 dimensional array, it is a rank 1 array. In the later assignments, you will see that we don't prefer to use rank 1 array. So, we can convert them to rank 2 using reshape function. "
   ]
  },
  {
   "cell_type": "code",
   "execution_count": 30,
   "metadata": {},
   "outputs": [
    {
     "name": "stdout",
     "output_type": "stream",
     "text": [
      "[1 2 3]\n",
      "(3,)\n"
     ]
    }
   ],
   "source": [
    "# Run this cell\n",
    "# Here we have a rank 1 matrix. See it's shape.\n",
    "a = np.array([1,2,3])\n",
    "print(a)\n",
    "print(a.shape)"
   ]
  },
  {
   "cell_type": "code",
   "execution_count": 31,
   "metadata": {},
   "outputs": [
    {
     "name": "stdout",
     "output_type": "stream",
     "text": [
      "The new shape of a\n",
      "[[1]\n",
      " [2]\n",
      " [3]]\n",
      "The array a's new dimensions:\n",
      "(3, 1)\n"
     ]
    }
   ],
   "source": [
    "# Run this cell\n",
    "a = a.reshape((3,1))\n",
    "# Notice that a changed from a sequence of numbers to a sequence of sequence of numbers\n",
    "print(\"The new shape of a\")\n",
    "print(a)\n",
    "print(\"The array a's new dimensions:\")\n",
    "print(a.shape)"
   ]
  },
  {
   "cell_type": "markdown",
   "metadata": {},
   "source": [
    "# Numpy.random.rand and Numpy.random.randn"
   ]
  },
  {
   "cell_type": "code",
   "execution_count": 32,
   "metadata": {},
   "outputs": [
    {
     "name": "stdout",
     "output_type": "stream",
     "text": [
      "[[0.97915628 0.15240798 0.06532774]\n",
      " [0.73257065 0.648544   0.94834818]]\n"
     ]
    }
   ],
   "source": [
    "# Numpy.random.rand creates a numpy array of given dimensions where all the elements \n",
    "# are random samples from a uniform distribution over [0, 1).\n",
    "# Run this code cell.\n",
    "a = np.random.rand(2,3)\n",
    "print(a)"
   ]
  },
  {
   "cell_type": "markdown",
   "metadata": {},
   "source": [
    " Numpy.random.randn creates a numpy array of given dimensions where all the elements are  samples from univariate “normal” (Gaussian) distribution of mean 0 and variance 1"
   ]
  },
  {
   "cell_type": "code",
   "execution_count": 33,
   "metadata": {},
   "outputs": [
    {
     "name": "stdout",
     "output_type": "stream",
     "text": [
      "[[ 1.40705531 -0.46648949  0.12204043  1.36519419 -1.83352447 -0.38566999\n",
      "  -0.80800516 -0.82640128 -0.54300177  0.47129701]\n",
      " [ 1.32454826 -1.10998128  0.75919172 -0.40340188 -1.17079467  1.69505314\n",
      "  -1.65439011 -0.30318466  0.74633744 -0.51375601]]\n"
     ]
    }
   ],
   "source": [
    "# Run this cell\n",
    "a = np.random.randn(2,10)\n",
    "print(a)"
   ]
  },
  {
   "cell_type": "markdown",
   "metadata": {},
   "source": [
    "Numpy can create an array having values from the normal distribution with mean = $\\mu$, and variance = $\\sigma^2$.\n",
    "\n",
    "To create a random array of elements from $N(\\mu, \\sigma^2)$, use: sigma = $\\sigma$, and mu = $\\mu$ and the numpy command:\n",
    "\n",
    "sigma * np.random.randn(...) + mu"
   ]
  },
  {
   "cell_type": "code",
   "execution_count": 34,
   "metadata": {},
   "outputs": [
    {
     "data": {
      "text/plain": [
       "array([[6.25269585, 3.48073247, 0.73076188, 5.62683438],\n",
       "       [0.19760821, 3.21001342, 5.73002372, 5.01471058]])"
      ]
     },
     "execution_count": 34,
     "metadata": {},
     "output_type": "execute_result"
    }
   ],
   "source": [
    "# Two-by-four array of samples from N(3, 6.25):\n",
    "a=2.5 * np.random.randn(2, 4) + 3\n",
    "a"
   ]
  },
  {
   "cell_type": "code",
   "execution_count": 35,
   "metadata": {},
   "outputs": [
    {
     "name": "stdout",
     "output_type": "stream",
     "text": [
      "None\n"
     ]
    }
   ],
   "source": [
    "# Create a numpy array dimension $3\\times 5$ containing random samples with mean (mu)= 5 \n",
    "# and standard deviation(sigma) = 2\n",
    "b = None\n",
    "print(b)"
   ]
  },
  {
   "cell_type": "markdown",
   "metadata": {},
   "source": [
    "# Basic Operations: \n",
    "Arithmetic operators on arrays apply elementwise. A new array is created and filled with the result."
   ]
  },
  {
   "cell_type": "code",
   "execution_count": 36,
   "metadata": {},
   "outputs": [
    {
     "name": "stdout",
     "output_type": "stream",
     "text": [
      "The array a:\n",
      "[20 30 40 50]\n",
      "The array b:\n",
      "[1 2 3 4]\n"
     ]
    }
   ],
   "source": [
    "# Run this code cell\n",
    "a = np.array( [20,30,40,50] )\n",
    "b = np.arange( 1,5 )\n",
    "print(\"The array a:\")\n",
    "print(a)\n",
    "print(\"The array b:\")\n",
    "print(b)"
   ]
  },
  {
   "cell_type": "code",
   "execution_count": 37,
   "metadata": {},
   "outputs": [
    {
     "name": "stdout",
     "output_type": "stream",
     "text": [
      "[19 28 37 46]\n"
     ]
    }
   ],
   "source": [
    "# To subtract corresponding elements of array b from array a , simply write a - b as shown below\n",
    "c = a - b\n",
    "print(c)"
   ]
  },
  {
   "cell_type": "code",
   "execution_count": 38,
   "metadata": {},
   "outputs": [
    {
     "name": "stdout",
     "output_type": "stream",
     "text": [
      "a + b:\n",
      "None\n",
      "a * b: \n",
      "None\n",
      "a/b:\n",
      "None\n"
     ]
    }
   ],
   "source": [
    "# similarly we can do addition, multiplication, division of corresponding elements. Complete the code to add, multiply and divide corresponding elements of a and b.\n",
    "addition = None # Add\n",
    "product = None  # Multiply\n",
    "ratio = None    # Divide\n",
    "print(\"a + b:\")\n",
    "print(addition)\n",
    "print(\"a * b: \")\n",
    "print(product)\n",
    "print(\"a/b:\")\n",
    "print(ratio)"
   ]
  },
  {
   "cell_type": "code",
   "execution_count": 39,
   "metadata": {},
   "outputs": [
    {
     "name": "stdout",
     "output_type": "stream",
     "text": [
      "[ 1  4  9 16]\n"
     ]
    }
   ],
   "source": [
    "# Square all the elements of the array b and save it in an array d\n",
    "d = b**2\n",
    "print(d)"
   ]
  },
  {
   "cell_type": "code",
   "execution_count": 40,
   "metadata": {},
   "outputs": [
    {
     "name": "stdout",
     "output_type": "stream",
     "text": [
      "[ 9.12945251 -9.88031624  7.4511316  -2.62374854]\n"
     ]
    }
   ],
   "source": [
    "# Take sine of all the elements of a matrix and save it in another matrix d\n",
    "d=10*np.sin(a)\n",
    "print(d)"
   ]
  },
  {
   "cell_type": "code",
   "execution_count": 41,
   "metadata": {},
   "outputs": [
    {
     "name": "stdout",
     "output_type": "stream",
     "text": [
      "[ True  True False False]\n"
     ]
    }
   ],
   "source": [
    "# Run this cell to see how this works\n",
    "e= a<35\n",
    "print(e)"
   ]
  },
  {
   "cell_type": "markdown",
   "metadata": {},
   "source": [
    "# Matrix and vector operations\n",
    "\n",
    "Unlike in many matrix languages (like matlab), the product operator * operates elementwise in NumPy arrays. The matrix product can be performed using the dot function or the dot method:"
   ]
  },
  {
   "cell_type": "code",
   "execution_count": 42,
   "metadata": {},
   "outputs": [
    {
     "name": "stdout",
     "output_type": "stream",
     "text": [
      "[[1 1]\n",
      " [0 1]]\n",
      "[[2 0]\n",
      " [3 4]]\n"
     ]
    }
   ],
   "source": [
    "# Run this cell\n",
    "A = np.array( [[1,1],[0,1]] )\n",
    "B = np.array( [[2,0], [3,4]] )\n",
    "print(A)\n",
    "print(B)"
   ]
  },
  {
   "cell_type": "code",
   "execution_count": 43,
   "metadata": {},
   "outputs": [
    {
     "name": "stdout",
     "output_type": "stream",
     "text": [
      "[[2 0]\n",
      " [0 4]]\n"
     ]
    }
   ],
   "source": [
    "# Element wise product. Note: Dimensions should be same for A and B\n",
    "C = A * B\n",
    "print(C)"
   ]
  },
  {
   "cell_type": "code",
   "execution_count": 44,
   "metadata": {},
   "outputs": [
    {
     "name": "stdout",
     "output_type": "stream",
     "text": [
      "[[5 4]\n",
      " [3 4]]\n"
     ]
    }
   ],
   "source": [
    "# The dot method for matrix multiplication.\n",
    "# Dimensions should be in accordance to linear algbra rule of Matrix-Matrix or Matrix-Vector multiplication.\n",
    "D = A.dot(B) \n",
    "print(D)"
   ]
  },
  {
   "cell_type": "code",
   "execution_count": 45,
   "metadata": {},
   "outputs": [
    {
     "name": "stdout",
     "output_type": "stream",
     "text": [
      "[[5 4]\n",
      " [3 4]]\n"
     ]
    }
   ],
   "source": [
    "# Another way to multiply matrices is to use np.dot() function.\n",
    "D = np.dot(A,B)\n",
    "print(D)"
   ]
  },
  {
   "cell_type": "code",
   "execution_count": 51,
   "metadata": {},
   "outputs": [
    {
     "name": "stdout",
     "output_type": "stream",
     "text": [
      "mat1:\n",
      "[[ 0.10026276  1.40654745  0.85896264  0.40760627]\n",
      " [-0.03581921 -1.29227298  1.81647101 -0.94820549]\n",
      " [ 0.19711218 -0.28520058 -1.04913331 -0.53198276]]\n",
      "mat2:\n",
      "[[-0.34721774  0.33856995]\n",
      " [-1.33711593  0.76365454]\n",
      " [-0.51927188 -0.88550591]\n",
      " [ 0.18005875 -0.13655076]]\n",
      "mat1 times mat2:\n",
      "[[-2.28817208  0.29178687]\n",
      " [ 0.62638084 -2.47799506]\n",
      " [ 0.76190267  0.85059793]]\n"
     ]
    }
   ],
   "source": [
    "# Create a random matrix of dimension (3,4) and another random matrix of dimension (4,2) and find their dot product. \n",
    "# Also, check the dimensions of the resultant matrix.\n",
    "mat1=np.random.randn(3,4)\n",
    "mat2=np.random.randn(4,2)\n",
    "dot_product=np.dot(mat1,mat2)\n",
    "print(\"mat1:\")\n",
    "print(mat1)\n",
    "print(\"mat2:\")\n",
    "print(mat2)\n",
    "print(\"mat1 times mat2:\")\n",
    "print(dot_product)"
   ]
  },
  {
   "cell_type": "markdown",
   "metadata": {},
   "source": [
    "Many unary operations, such as computing the sum of all the elements in the array, are implemented as methods of the ndarray class."
   ]
  },
  {
   "cell_type": "code",
   "execution_count": 47,
   "metadata": {},
   "outputs": [
    {
     "name": "stdout",
     "output_type": "stream",
     "text": [
      "[[0.42652299 0.20597149 0.18409952]\n",
      " [0.62509513 0.13592701 0.02245816]]\n"
     ]
    }
   ],
   "source": [
    "# Run this cell\n",
    "a = np.random.random((2,3))\n",
    "print(a)"
   ]
  },
  {
   "cell_type": "code",
   "execution_count": 48,
   "metadata": {},
   "outputs": [
    {
     "name": "stdout",
     "output_type": "stream",
     "text": [
      "1.6000742942198987\n"
     ]
    }
   ],
   "source": [
    "# Calculating sum of all the elements of the array. \n",
    "# This method considers all the elements of array as a long list of numbers regardless of the shape.\n",
    "add = a.sum()\n",
    "print(add)"
   ]
  },
  {
   "cell_type": "code",
   "execution_count": 52,
   "metadata": {},
   "outputs": [
    {
     "name": "stdout",
     "output_type": "stream",
     "text": [
      "minimum = 0.02245816\n",
      "maximum = 0.62509513\n"
     ]
    }
   ],
   "source": [
    "# Find minimum and maximum from all the elements using a.min() and a.max() command.\n",
    "minimum = a.min()\n",
    "maximum = a.max()\n",
    "print(\"minimum = %9.8f\"%(minimum))\n",
    "print(\"maximum = %9.8f\"%(maximum))"
   ]
  },
  {
   "cell_type": "code",
   "execution_count": 53,
   "metadata": {},
   "outputs": [
    {
     "name": "stdout",
     "output_type": "stream",
     "text": [
      "The array a:\n",
      "[[-1.65734557  0.35466815  0.60250346  1.6426048  -0.73218414 -0.60611833]\n",
      " [ 0.90536347 -1.89824786  1.31135831 -0.07421862  0.14128955  0.71459356]\n",
      " [-0.58007013  0.88100272 -1.89408219 -0.97888006 -0.85302909  0.49739558]\n",
      " [-0.48367148 -0.93547756 -0.30858114 -0.65749796  1.93050006 -1.52502162]]\n",
      "The sum of all elements of array a: -4.20314607\n",
      "minimum = -1.89824786\n",
      "maximum = 1.93050006\n"
     ]
    }
   ],
   "source": [
    "# Create a random array a of dimension (4,6) and find sum , min, max as shown above.\n",
    "a = np.random.randn(4,6)\n",
    "add = a.sum()\n",
    "minimum= a.min()\n",
    "maximum= a.max()\n",
    "print(\"The array a:\")\n",
    "print(a)\n",
    "print(\"The sum of all elements of array a: %9.8f\"%(add))\n",
    "print(\"minimum = %9.8f\"%(minimum))\n",
    "print(\"maximum = %9.8f\"%(maximum))"
   ]
  },
  {
   "cell_type": "markdown",
   "metadata": {},
   "source": [
    "# Operations on rows or columns\n",
    "\n",
    "By default, these operations apply to the array as though it were a list of numbers, regardless of its shape. However, by specifying the axis parameter you can apply an operation along the specified axis of an array:"
   ]
  },
  {
   "cell_type": "code",
   "execution_count": 94,
   "metadata": {},
   "outputs": [
    {
     "name": "stdout",
     "output_type": "stream",
     "text": [
      "[[ 0  1  2  3]\n",
      " [ 4  5  6  7]\n",
      " [ 8  9 10 11]]\n"
     ]
    }
   ],
   "source": [
    "# Run this cell\n",
    "B = np.arange(12).reshape(3,4)\n",
    "print(B)"
   ]
  },
  {
   "cell_type": "code",
   "execution_count": 95,
   "metadata": {},
   "outputs": [
    {
     "name": "stdout",
     "output_type": "stream",
     "text": [
      "[12 15 18 21]\n"
     ]
    }
   ],
   "source": [
    "# sum along a column\n",
    "column_sum = B.sum(axis=0)  \n",
    "print(column_sum)"
   ]
  },
  {
   "cell_type": "code",
   "execution_count": 98,
   "metadata": {},
   "outputs": [
    {
     "name": "stdout",
     "output_type": "stream",
     "text": [
      "The row sums:\n",
      "[ 6 22 38]\n",
      "The minimum item in every row:\n",
      "[0 4 8]\n",
      "The minimum item in every column:\n",
      "[0 1 2 3]\n"
     ]
    }
   ],
   "source": [
    "# sum along a row. In sum function above, in place of axis=0, pass axis=1\n",
    "row_sum = B.sum(axis=1)\n",
    "print(\"The row sums:\")\n",
    "print(row_sum)\n",
    "# Minimum along row\n",
    "min_row= B.min(axis=1)\n",
    "print(\"The minimum item in every row:\")\n",
    "print(min_row)\n",
    "# Minimum along column\n",
    "min_column= B.min(axis=0)\n",
    "print(\"The minimum item in every column:\")\n",
    "print(min_column)"
   ]
  },
  {
   "cell_type": "code",
   "execution_count": 99,
   "metadata": {},
   "outputs": [
    {
     "name": "stdout",
     "output_type": "stream",
     "text": [
      "The array B:\n",
      "[0 1 2]\n",
      "The array C:\n",
      "[1.         2.71828183 7.3890561 ]\n",
      "The array D:\n",
      "[0.         1.         1.41421356]\n"
     ]
    }
   ],
   "source": [
    "# To apply universal mathematical functions on all the elements of a matrix, we do so as shown below:\n",
    "B = np.arange(3)\n",
    "print(\"The array B:\")\n",
    "print(B)\n",
    "# Compute exponent of every element of B\n",
    "C = np.exp(B) \n",
    "print(\"The array C:\")\n",
    "print(C)\n",
    "# Compute sqrt of every element in B.  (You may get an error if an element in B is negative.)\n",
    "D = np.sqrt(B)\n",
    "print(\"The array D:\")\n",
    "print(D)"
   ]
  },
  {
   "cell_type": "code",
   "execution_count": 58,
   "metadata": {},
   "outputs": [
    {
     "name": "stdout",
     "output_type": "stream",
     "text": [
      "The array A:\n",
      "None\n",
      "None\n",
      "None\n",
      "None\n"
     ]
    }
   ],
   "source": [
    "# Create a random matrix of dimensions (2,4) and apply the above three operations.\n",
    "A = None\n",
    "print(\"The array A:\")\n",
    "print(A)\n",
    "# Apply operations on matrix A\n",
    "B = None\n",
    "print(B)\n",
    "C = None\n",
    "print(C)\n",
    "# Perform np.log( ).  (Note: you will get error if you try to take the log of a negative number.)\n",
    "D = None\n",
    "print(D)"
   ]
  },
  {
   "cell_type": "markdown",
   "metadata": {},
   "source": [
    "# Transpose of a Matrix\n",
    "There are 2 ways to get transpose of a numpy array. Either using .T attribute or using np.transpose(matrix) method.\n",
    "Note: If you have a rank 1 matrix and you take it's transpose, it will be same as the original matrix."
   ]
  },
  {
   "cell_type": "code",
   "execution_count": 59,
   "metadata": {},
   "outputs": [
    {
     "name": "stdout",
     "output_type": "stream",
     "text": [
      "The original A:\n",
      "[[0 1]\n",
      " [2 3]]\n",
      "The transpose of A:\n",
      "[[0 2]\n",
      " [1 3]]\n"
     ]
    }
   ],
   "source": [
    "# Using .T attribute\n",
    "A = np.arange(4).reshape((2,2))\n",
    "B = A.T\n",
    "print(\"The original A:\")\n",
    "print(A)\n",
    "print(\"The transpose of A:\")\n",
    "print(B)"
   ]
  },
  {
   "cell_type": "code",
   "execution_count": 60,
   "metadata": {},
   "outputs": [
    {
     "name": "stdout",
     "output_type": "stream",
     "text": [
      "[[0 2]\n",
      " [1 3]]\n"
     ]
    }
   ],
   "source": [
    "# Using transpose method\n",
    "C = np.transpose(A)\n",
    "print(C)"
   ]
  },
  {
   "cell_type": "code",
   "execution_count": 61,
   "metadata": {},
   "outputs": [
    {
     "name": "stdout",
     "output_type": "stream",
     "text": [
      "X: \n",
      "None\n",
      "X Transpose: \n",
      "None\n"
     ]
    }
   ],
   "source": [
    "# Create a random matrix X of dimension (4,3) and take it's transpose.\n",
    "X = None\n",
    "# Find transpose of X using any of the above method\n",
    "Y = None\n",
    "print(\"X: \")\n",
    "print(X)\n",
    "print(\"X Transpose: \")\n",
    "print(Y)"
   ]
  },
  {
   "cell_type": "markdown",
   "metadata": {},
   "source": [
    "# Indexing, slicing and iterating\n",
    "\n",
    "Indexing, slicing and iterating on 1-dimensional arrays. \n",
    "\n",
    "Indexing, slicing and iterating is almost same as simple python lists for 1-dimensional arrays. \n",
    "\n",
    "Note: Index starts from 0."
   ]
  },
  {
   "cell_type": "code",
   "execution_count": 62,
   "metadata": {},
   "outputs": [
    {
     "name": "stdout",
     "output_type": "stream",
     "text": [
      "[   0    1    8   27   64  125  216  343  512  729 1000 1331 1728 2197\n",
      " 2744]\n"
     ]
    }
   ],
   "source": [
    "# Run this cell\n",
    "a = np.arange(15)**3\n",
    "print(a)"
   ]
  },
  {
   "cell_type": "code",
   "execution_count": 63,
   "metadata": {},
   "outputs": [
    {
     "name": "stdout",
     "output_type": "stream",
     "text": [
      "8\n",
      "None\n"
     ]
    }
   ],
   "source": [
    "# Indexing. Getting third element of a\n",
    "b = a[2]\n",
    "print(b)\n",
    "# Find fifth element of a\n",
    "c = None\n",
    "print(c)"
   ]
  },
  {
   "cell_type": "code",
   "execution_count": 64,
   "metadata": {},
   "outputs": [
    {
     "name": "stdout",
     "output_type": "stream",
     "text": [
      "[  8  27  64 125]\n",
      "None\n"
     ]
    }
   ],
   "source": [
    "# Slicing. Getting elements from index 2 to 5.  (Note we do not get the item at index 6.)\n",
    "b = a[2:6]\n",
    "print(b)\n",
    "# Find elements from index 4 to 7.\n",
    "c = None\n",
    "print(c)"
   ]
  },
  {
   "cell_type": "code",
   "execution_count": 65,
   "metadata": {},
   "outputs": [
    {
     "name": "stdout",
     "output_type": "stream",
     "text": [
      "[2744 2197 1728 1331 1000  729  512  343  216  125   64   27    8    1\n",
      "    0]\n"
     ]
    }
   ],
   "source": [
    "# Reversing 1-D array\n",
    "rev = a[::-1]\n",
    "print(rev)"
   ]
  },
  {
   "cell_type": "code",
   "execution_count": 66,
   "metadata": {},
   "outputs": [
    {
     "name": "stdout",
     "output_type": "stream",
     "text": [
      "[   8  125  512 1331]\n",
      "None\n"
     ]
    }
   ],
   "source": [
    "# Looping over some indices.\n",
    "# Start from index 2, stop before index 12 and jump or increment by 3.\n",
    "x = a[2:12:3]\n",
    "print(x)\n",
    "# Start from index 3, stop before index 12 and jump by 4.\n",
    "y = None\n",
    "print(y)"
   ]
  },
  {
   "cell_type": "code",
   "execution_count": 67,
   "metadata": {},
   "outputs": [
    {
     "name": "stdout",
     "output_type": "stream",
     "text": [
      "0\n",
      "1\n",
      "8\n",
      "27\n",
      "64\n",
      "125\n",
      "216\n",
      "343\n",
      "512\n",
      "729\n",
      "1000\n",
      "1331\n",
      "1728\n",
      "2197\n",
      "2744\n"
     ]
    }
   ],
   "source": [
    "# Using a for loop to iterate:\n",
    "for i in a:\n",
    "    print(i)"
   ]
  },
  {
   "cell_type": "markdown",
   "metadata": {},
   "source": [
    "# Multidimensional arrays \n",
    "They can have one index per axis. These indices are given in a tuple separated by commas:"
   ]
  },
  {
   "cell_type": "code",
   "execution_count": 68,
   "metadata": {},
   "outputs": [
    {
     "name": "stdout",
     "output_type": "stream",
     "text": [
      "[[ 0  1  2]\n",
      " [ 3  4  5]\n",
      " [ 6  7  8]\n",
      " [ 9 10 11]]\n"
     ]
    }
   ],
   "source": [
    "# Run this code\n",
    "a = np.arange(12).reshape(4,3)\n",
    "print(a)"
   ]
  },
  {
   "cell_type": "code",
   "execution_count": 69,
   "metadata": {},
   "outputs": [
    {
     "name": "stdout",
     "output_type": "stream",
     "text": [
      "7\n"
     ]
    }
   ],
   "source": [
    "# Element in third row and second column of the matrix.  \n",
    "# Note due to indexing starting from 0, we use index 2 for the third row and we use index 1 for the second column\n",
    "print(a[2,1])"
   ]
  },
  {
   "cell_type": "code",
   "execution_count": 70,
   "metadata": {},
   "outputs": [
    {
     "name": "stdout",
     "output_type": "stream",
     "text": [
      "None\n"
     ]
    }
   ],
   "source": [
    "# Find element in second row and third column. \n",
    "b = None\n",
    "print(b)"
   ]
  },
  {
   "cell_type": "code",
   "execution_count": 71,
   "metadata": {},
   "outputs": [
    {
     "name": "stdout",
     "output_type": "stream",
     "text": [
      "[ 1  4  7 10]\n"
     ]
    }
   ],
   "source": [
    "# Getting each row in the second column of array a\n",
    "c = a[: , 1]\n",
    "print(c)"
   ]
  },
  {
   "cell_type": "code",
   "execution_count": 72,
   "metadata": {},
   "outputs": [
    {
     "name": "stdout",
     "output_type": "stream",
     "text": [
      "None\n"
     ]
    }
   ],
   "source": [
    "# Get each column in the second row of a.\n",
    "d = None\n",
    "print(d)"
   ]
  },
  {
   "cell_type": "code",
   "execution_count": 73,
   "metadata": {},
   "outputs": [
    {
     "name": "stdout",
     "output_type": "stream",
     "text": [
      "[[3 4 5]\n",
      " [6 7 8]]\n"
     ]
    }
   ],
   "source": [
    "# a[i:j, : ] returns rows i+1 through j of the matrix.  (Yeah this is confusing due to indexing starting at 0!)\n",
    "# In the code below we get rows 2 through 3 of the matrix.  (We index from 1 to (3-1).) \n",
    "e = a[1:3, : ]\n",
    "print(e)"
   ]
  },
  {
   "cell_type": "code",
   "execution_count": 74,
   "metadata": {},
   "outputs": [
    {
     "name": "stdout",
     "output_type": "stream",
     "text": [
      "[ 9 10 11]\n"
     ]
    }
   ],
   "source": [
    "# Get the last row\n",
    "b = a[-1,:]\n",
    "print(b)"
   ]
  },
  {
   "cell_type": "code",
   "execution_count": 75,
   "metadata": {},
   "outputs": [
    {
     "name": "stdout",
     "output_type": "stream",
     "text": [
      "None\n"
     ]
    }
   ],
   "source": [
    "# Find last column\n",
    "c = None\n",
    "print(c)"
   ]
  },
  {
   "cell_type": "markdown",
   "metadata": {},
   "source": [
    "You can use a for loop to traverse through an array!!"
   ]
  },
  {
   "cell_type": "code",
   "execution_count": 76,
   "metadata": {},
   "outputs": [
    {
     "name": "stdout",
     "output_type": "stream",
     "text": [
      "0\n",
      "1\n",
      "2\n",
      "3\n",
      "4\n",
      "5\n",
      "6\n",
      "7\n",
      "8\n",
      "9\n",
      "10\n",
      "11\n"
     ]
    }
   ],
   "source": [
    "for i in range(a.shape[0]):\n",
    "    for j in range(a.shape[1]):\n",
    "        print(a[i][j])"
   ]
  },
  {
   "cell_type": "markdown",
   "metadata": {
    "collapsed": true
   },
   "source": [
    "# Stacking together different arrays.\n",
    "\n",
    "Several arrays can be stacked together along different axes:"
   ]
  },
  {
   "cell_type": "code",
   "execution_count": 77,
   "metadata": {},
   "outputs": [
    {
     "name": "stdout",
     "output_type": "stream",
     "text": [
      "[[0 1]\n",
      " [2 3]]\n"
     ]
    }
   ],
   "source": [
    "# Run this cell\n",
    "a = np.arange(4).reshape((2,2))\n",
    "print(a)"
   ]
  },
  {
   "cell_type": "code",
   "execution_count": 78,
   "metadata": {},
   "outputs": [
    {
     "name": "stdout",
     "output_type": "stream",
     "text": [
      "[[4 5]\n",
      " [6 7]]\n"
     ]
    }
   ],
   "source": [
    "# Run this cell\n",
    "b = np.arange(4,8).reshape((2,2))\n",
    "print(b)"
   ]
  },
  {
   "cell_type": "markdown",
   "metadata": {},
   "source": [
    "To stack array b at the bottom of array a, we use vstack command. Note, for vstack, number of columns in both arrays should be same i.e. a.shape[1] == b.shape[1]."
   ]
  },
  {
   "cell_type": "code",
   "execution_count": 79,
   "metadata": {},
   "outputs": [
    {
     "name": "stdout",
     "output_type": "stream",
     "text": [
      "[[0 1]\n",
      " [2 3]\n",
      " [4 5]\n",
      " [6 7]]\n",
      "(4, 2)\n"
     ]
    }
   ],
   "source": [
    "# Stacking b at the bottom of a.\n",
    "c = np.vstack((a,b))\n",
    "print(c)\n",
    "print(c.shape)"
   ]
  },
  {
   "cell_type": "code",
   "execution_count": 80,
   "metadata": {},
   "outputs": [
    {
     "name": "stdout",
     "output_type": "stream",
     "text": [
      "[[0 1 4 5]\n",
      " [2 3 6 7]]\n"
     ]
    }
   ],
   "source": [
    "# Horizontal stack. Stack a to the left of b. \n",
    "# Note, for hstack, number of rows in both arrays should be same i.e. a.shape[0] == b.shape[0].\n",
    "d = np.hstack((a,b))\n",
    "print(d)"
   ]
  },
  {
   "cell_type": "code",
   "execution_count": 81,
   "metadata": {},
   "outputs": [
    {
     "name": "stdout",
     "output_type": "stream",
     "text": [
      "The array a:\n",
      "None\n",
      "The array b:\n",
      "None\n",
      "The array c:\n",
      "None\n"
     ]
    }
   ],
   "source": [
    "# Create an array a of dimension (3,2) and another array b of dimension (3,5). \n",
    "# Append one of them to the left of another i.e. hstack.\n",
    "a=None\n",
    "b=None \n",
    "c=None\n",
    "print(\"The array a:\")\n",
    "print(a)\n",
    "print(\"The array b:\")\n",
    "print(b)\n",
    "print(\"The array c:\")\n",
    "print(c)"
   ]
  },
  {
   "cell_type": "markdown",
   "metadata": {},
   "source": [
    "# Broadingcasting.\n",
    "\n",
    "This is an important feature of numpy arrays. Suppose we have an array a of dimension (4,5) and another array b of dimension (4,1). If we want to add both the arrays, is it possible according to linear algebra? The answer is NO because in Linear Algebra, to perform element-wise arithmetic operations, dimensions should be same. \n",
    "\n",
    "However, using broadcasting it is possible to add the arrays. Broadcasting copies the first column of b to other columns of b to make it of same size as of a i.e. make it of dimension (4,5) from (4,1). "
   ]
  },
  {
   "cell_type": "code",
   "execution_count": 82,
   "metadata": {},
   "outputs": [
    {
     "name": "stdout",
     "output_type": "stream",
     "text": [
      "[[ 0  1  2  3  4]\n",
      " [ 5  6  7  8  9]\n",
      " [10 11 12 13 14]\n",
      " [15 16 17 18 19]]\n"
     ]
    }
   ],
   "source": [
    "a = np.arange(20).reshape((4,5))\n",
    "print(a)"
   ]
  },
  {
   "cell_type": "code",
   "execution_count": 83,
   "metadata": {},
   "outputs": [
    {
     "name": "stdout",
     "output_type": "stream",
     "text": [
      "[[0]\n",
      " [1]\n",
      " [2]\n",
      " [3]]\n"
     ]
    }
   ],
   "source": [
    "b = np.arange(4).reshape((4,1))\n",
    "print(b)"
   ]
  },
  {
   "cell_type": "code",
   "execution_count": 84,
   "metadata": {},
   "outputs": [
    {
     "name": "stdout",
     "output_type": "stream",
     "text": [
      "[[ 0  1  2  3  4]\n",
      " [ 6  7  8  9 10]\n",
      " [12 13 14 15 16]\n",
      " [18 19 20 21 22]]\n"
     ]
    }
   ],
   "source": [
    "c = a + b\n",
    "print(c)"
   ]
  },
  {
   "cell_type": "markdown",
   "metadata": {},
   "source": [
    "For broadcasting to work, all the dimensions must be compatible. A dimension is compatible for both arrays either if  they are equal, or either of them is 1.  \n",
    "\n",
    "For example: array b has dimensions (2,3,4) and array c has dimensions (1,3,2).  The first dimension is compatible because c.shape[0]=1.  The second dimension is compatible because b.shape[1]==c.shape[1].  But the third dimension is not compatible becaue b.shape[2] $\\not =$ c.shape[2] and neither of them is 1.\n",
    "\n",
    "When operating on two arrays, NumPy compares their shapes element-wise. It starts with the trailing dimensions, and works its way forward. \n",
    "\n",
    "When either of the dimensions compared is one, the other is used. In other words, dimensions with size 1 are stretched or “copied” to match the other.\n",
    "In the following example, both the A and B arrays have axes with length one that are expanded to a larger size during the broadcast operation:\n",
    "\n",
    "A      (4d array):  8 x 1 x 6 x 1\n",
    "B      (3d array):      7 x 1 x 5\n",
    "Result (4d array):  8 x 7 x 6 x 5\n",
    "\n",
    "Another example:\n",
    "\n",
    "A      (3d array):  15 x 3 x 5\n",
    "B      (3d array):  15 x 1 x 5\n",
    "Result (3d array):  15 x 3 x 5\n",
    "\n",
    "Broadcasting rules can be confusing. But for now, you only need to know very basic broadcasting which is shown in the code cell above."
   ]
  },
  {
   "cell_type": "markdown",
   "metadata": {},
   "source": [
    "# Basic Linear Algebra Operations."
   ]
  },
  {
   "cell_type": "code",
   "execution_count": 85,
   "metadata": {},
   "outputs": [
    {
     "name": "stdout",
     "output_type": "stream",
     "text": [
      "[[1. 2.]\n",
      " [3. 4.]]\n"
     ]
    }
   ],
   "source": [
    "a = np.array([[1.0, 2.0], [3.0, 4.0]])\n",
    "print(a)"
   ]
  },
  {
   "cell_type": "code",
   "execution_count": 86,
   "metadata": {},
   "outputs": [
    {
     "name": "stdout",
     "output_type": "stream",
     "text": [
      "[[-2.   1. ]\n",
      " [ 1.5 -0.5]]\n"
     ]
    }
   ],
   "source": [
    "# To find Inverse of matrix a:\n",
    "b = np.linalg.inv(a)\n",
    "print(b)"
   ]
  },
  {
   "cell_type": "code",
   "execution_count": 87,
   "metadata": {},
   "outputs": [
    {
     "name": "stdout",
     "output_type": "stream",
     "text": [
      "[[1. 0. 0.]\n",
      " [0. 1. 0.]\n",
      " [0. 0. 1.]]\n"
     ]
    }
   ],
   "source": [
    "# Creating Identity matrix: Identity matrix is always a square matrix.\n",
    "u = np.eye(3)\n",
    "print(u)"
   ]
  },
  {
   "cell_type": "code",
   "execution_count": 88,
   "metadata": {},
   "outputs": [
    {
     "name": "stdout",
     "output_type": "stream",
     "text": [
      "3.0\n"
     ]
    }
   ],
   "source": [
    "# Finding Trace of a matrix\n",
    "c = np.trace(u)\n",
    "print(c)"
   ]
  },
  {
   "cell_type": "code",
   "execution_count": 89,
   "metadata": {},
   "outputs": [
    {
     "name": "stdout",
     "output_type": "stream",
     "text": [
      "(array([-0.37228132,  5.37228132]), array([[-0.82456484, -0.41597356],\n",
      "       [ 0.56576746, -0.90937671]]))\n"
     ]
    }
   ],
   "source": [
    "# Find eigen values of a matrix\n",
    "d = np.linalg.eig(a)\n",
    "print(d)"
   ]
  },
  {
   "cell_type": "markdown",
   "metadata": {},
   "source": [
    "# Automatic Reshaping"
   ]
  },
  {
   "cell_type": "code",
   "execution_count": 90,
   "metadata": {},
   "outputs": [
    {
     "name": "stdout",
     "output_type": "stream",
     "text": [
      "(2, 5, 3)\n",
      "[[[ 0  1  2]\n",
      "  [ 3  4  5]\n",
      "  [ 6  7  8]\n",
      "  [ 9 10 11]\n",
      "  [12 13 14]]\n",
      "\n",
      " [[15 16 17]\n",
      "  [18 19 20]\n",
      "  [21 22 23]\n",
      "  [24 25 26]\n",
      "  [27 28 29]]]\n"
     ]
    }
   ],
   "source": [
    "# Run this cell\n",
    "a = np.arange(30)\n",
    "a.shape = 2,-1,3  # -1 means \"whatever is needed\"\n",
    "print(a.shape)\n",
    "print(a)"
   ]
  },
  {
   "cell_type": "markdown",
   "metadata": {},
   "source": [
    "This assignment ends here. We hope this assignment gives you basic knowledge of using numpy and it's arrays and perform basic operations. We highly encourage you to use official numpy documentation if you need more help while solving your machine learning assignments. https://docs.scipy.org/doc/numpy-dev/user/quickstart.html . One of the topic not covered in this assignment is indexing with arrays of indices and indexing with  boolean arrays. Though not used much in the programming assignments, but can be helpful in some scenarios. You can find them in the given link above."
   ]
  }
 ],
 "metadata": {
  "kernelspec": {
   "display_name": "Python 3",
   "language": "python",
   "name": "python3"
  },
  "language_info": {
   "codemirror_mode": {
    "name": "ipython",
    "version": 3
   },
   "file_extension": ".py",
   "mimetype": "text/x-python",
   "name": "python",
   "nbconvert_exporter": "python",
   "pygments_lexer": "ipython3",
   "version": "3.7.4"
  }
 },
 "nbformat": 4,
 "nbformat_minor": 2
}
