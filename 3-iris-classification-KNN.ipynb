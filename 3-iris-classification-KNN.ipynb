{
  "nbformat": 4,
  "nbformat_minor": 0,
  "metadata": {
    "kernelspec": {
      "display_name": "Python 3",
      "language": "python",
      "name": "python3"
    },
    "language_info": {
      "codemirror_mode": {
        "name": "ipython",
        "version": 3
      },
      "file_extension": ".py",
      "mimetype": "text/x-python",
      "name": "python",
      "nbconvert_exporter": "python",
      "pygments_lexer": "ipython3",
      "version": "3.7.2"
    },
    "colab": {
      "name": "3-iris-classification-KNN",
      "provenance": [],
      "include_colab_link": true
    }
  },
  "cells": [
    {
      "cell_type": "markdown",
      "metadata": {
        "id": "view-in-github",
        "colab_type": "text"
      },
      "source": [
        "<a href=\"https://colab.research.google.com/github/cicyfan/machine-learning-fundamentals/blob/master/3_iris_classification_KNN.ipynb\" target=\"_parent\"><img src=\"https://colab.research.google.com/assets/colab-badge.svg\" alt=\"Open In Colab\"/></a>"
      ]
    },
    {
      "cell_type": "markdown",
      "metadata": {
        "id": "P86VnxXwvgmz",
        "colab_type": "text"
      },
      "source": [
        "# Using the K-NN algorithm for classification of iris\n",
        "\n",
        "In this assigment, you will classify if an Iris is 'Iris Setosa' or 'Iris Versicolour' or 'Iris Virginica' using the k nearest neighbor algorithm.\n",
        "\n",
        "The training data is from the UCI Machine Learning Repository: https://archive.ics.uci.edu/ml/datasets/iris.  Please download the dataset before running the code below. "
      ]
    },
    {
      "cell_type": "markdown",
      "metadata": {
        "id": "UqoHgigIvgm2",
        "colab_type": "text"
      },
      "source": [
        "## Step 1:  Getting, understanding, and cleaning the dataset\n"
      ]
    },
    {
      "cell_type": "markdown",
      "metadata": {
        "id": "w4_Io-WXvgm5",
        "colab_type": "text"
      },
      "source": [
        "###  Importing the dataset\n"
      ]
    },
    {
      "cell_type": "code",
      "metadata": {
        "id": "mdbMvcEdv871",
        "colab_type": "code",
        "colab": {}
      },
      "source": [
        "from google.colab import drive\n",
        "drive.mount('/content/drive')"
      ],
      "execution_count": 0,
      "outputs": []
    },
    {
      "cell_type": "code",
      "metadata": {
        "id": "lmc5w-kYvgm8",
        "colab_type": "code",
        "outputId": "89694034-3715-4ec8-9a05-5d62a2d2b50f",
        "colab": {
          "base_uri": "https://localhost:8080/",
          "height": 204
        }
      },
      "source": [
        "# Import the usual libraries\n",
        "import matplotlib.pyplot as plt # plotting utilities \n",
        "%matplotlib inline\n",
        "import numpy as np \n",
        "import pandas as pd  # To read in the dataset we will use the Panda's library\n",
        "path = '/content/drive/My Drive/data/'\n",
        "df = pd.read_csv(path+'iris.data', header=None, names = [\"sepal length[cm]\",\"sepal width[cm]\",\"petal length[cm]\", \"petal width\", \"label\"])\n",
        "\n",
        "# Next we observe the first 5 rows of the data to ensure everything was read correctly\n",
        "df.head()"
      ],
      "execution_count": 0,
      "outputs": [
        {
          "output_type": "execute_result",
          "data": {
            "text/html": [
              "<div>\n",
              "<style scoped>\n",
              "    .dataframe tbody tr th:only-of-type {\n",
              "        vertical-align: middle;\n",
              "    }\n",
              "\n",
              "    .dataframe tbody tr th {\n",
              "        vertical-align: top;\n",
              "    }\n",
              "\n",
              "    .dataframe thead th {\n",
              "        text-align: right;\n",
              "    }\n",
              "</style>\n",
              "<table border=\"1\" class=\"dataframe\">\n",
              "  <thead>\n",
              "    <tr style=\"text-align: right;\">\n",
              "      <th></th>\n",
              "      <th>sepal length[cm]</th>\n",
              "      <th>sepal width[cm]</th>\n",
              "      <th>petal length[cm]</th>\n",
              "      <th>petal width</th>\n",
              "      <th>label</th>\n",
              "    </tr>\n",
              "  </thead>\n",
              "  <tbody>\n",
              "    <tr>\n",
              "      <th>0</th>\n",
              "      <td>5.1</td>\n",
              "      <td>3.5</td>\n",
              "      <td>1.4</td>\n",
              "      <td>0.2</td>\n",
              "      <td>Iris-setosa</td>\n",
              "    </tr>\n",
              "    <tr>\n",
              "      <th>1</th>\n",
              "      <td>4.9</td>\n",
              "      <td>3.0</td>\n",
              "      <td>1.4</td>\n",
              "      <td>0.2</td>\n",
              "      <td>Iris-setosa</td>\n",
              "    </tr>\n",
              "    <tr>\n",
              "      <th>2</th>\n",
              "      <td>4.7</td>\n",
              "      <td>3.2</td>\n",
              "      <td>1.3</td>\n",
              "      <td>0.2</td>\n",
              "      <td>Iris-setosa</td>\n",
              "    </tr>\n",
              "    <tr>\n",
              "      <th>3</th>\n",
              "      <td>4.6</td>\n",
              "      <td>3.1</td>\n",
              "      <td>1.5</td>\n",
              "      <td>0.2</td>\n",
              "      <td>Iris-setosa</td>\n",
              "    </tr>\n",
              "    <tr>\n",
              "      <th>4</th>\n",
              "      <td>5.0</td>\n",
              "      <td>3.6</td>\n",
              "      <td>1.4</td>\n",
              "      <td>0.2</td>\n",
              "      <td>Iris-setosa</td>\n",
              "    </tr>\n",
              "  </tbody>\n",
              "</table>\n",
              "</div>"
            ],
            "text/plain": [
              "   sepal length[cm]  sepal width[cm]  ...  petal width        label\n",
              "0               5.1              3.5  ...          0.2  Iris-setosa\n",
              "1               4.9              3.0  ...          0.2  Iris-setosa\n",
              "2               4.7              3.2  ...          0.2  Iris-setosa\n",
              "3               4.6              3.1  ...          0.2  Iris-setosa\n",
              "4               5.0              3.6  ...          0.2  Iris-setosa\n",
              "\n",
              "[5 rows x 5 columns]"
            ]
          },
          "metadata": {
            "tags": []
          },
          "execution_count": 2
        }
      ]
    },
    {
      "cell_type": "markdown",
      "metadata": {
        "id": "ChzjLs5FvgnC",
        "colab_type": "text"
      },
      "source": [
        "### Data preprocesssing\n",
        "It would be more convenient if the labels were integers instead of 'Iris-setosa', 'Iris-versicolor' and 'Iris-virginica'.  This way our code can always work with numerical values instead of strings."
      ]
    },
    {
      "cell_type": "code",
      "metadata": {
        "id": "ssakn6i1vgnE",
        "colab_type": "code",
        "outputId": "ce4a834b-fc6f-457b-9ecc-ac4896c651a3",
        "colab": {
          "base_uri": "https://localhost:8080/",
          "height": 204
        }
      },
      "source": [
        "df['label'] = df.label.map({'Iris-setosa': 0,\n",
        "              'Iris-versicolor': 1,\n",
        "              'Iris-virginica': 2})\n",
        "df.head()# Again, lets observe the first 5 rows to make sure everything worked before we continue"
      ],
      "execution_count": 0,
      "outputs": [
        {
          "output_type": "execute_result",
          "data": {
            "text/html": [
              "<div>\n",
              "<style scoped>\n",
              "    .dataframe tbody tr th:only-of-type {\n",
              "        vertical-align: middle;\n",
              "    }\n",
              "\n",
              "    .dataframe tbody tr th {\n",
              "        vertical-align: top;\n",
              "    }\n",
              "\n",
              "    .dataframe thead th {\n",
              "        text-align: right;\n",
              "    }\n",
              "</style>\n",
              "<table border=\"1\" class=\"dataframe\">\n",
              "  <thead>\n",
              "    <tr style=\"text-align: right;\">\n",
              "      <th></th>\n",
              "      <th>sepal length[cm]</th>\n",
              "      <th>sepal width[cm]</th>\n",
              "      <th>petal length[cm]</th>\n",
              "      <th>petal width</th>\n",
              "      <th>label</th>\n",
              "    </tr>\n",
              "  </thead>\n",
              "  <tbody>\n",
              "    <tr>\n",
              "      <th>0</th>\n",
              "      <td>5.1</td>\n",
              "      <td>3.5</td>\n",
              "      <td>1.4</td>\n",
              "      <td>0.2</td>\n",
              "      <td>0</td>\n",
              "    </tr>\n",
              "    <tr>\n",
              "      <th>1</th>\n",
              "      <td>4.9</td>\n",
              "      <td>3.0</td>\n",
              "      <td>1.4</td>\n",
              "      <td>0.2</td>\n",
              "      <td>0</td>\n",
              "    </tr>\n",
              "    <tr>\n",
              "      <th>2</th>\n",
              "      <td>4.7</td>\n",
              "      <td>3.2</td>\n",
              "      <td>1.3</td>\n",
              "      <td>0.2</td>\n",
              "      <td>0</td>\n",
              "    </tr>\n",
              "    <tr>\n",
              "      <th>3</th>\n",
              "      <td>4.6</td>\n",
              "      <td>3.1</td>\n",
              "      <td>1.5</td>\n",
              "      <td>0.2</td>\n",
              "      <td>0</td>\n",
              "    </tr>\n",
              "    <tr>\n",
              "      <th>4</th>\n",
              "      <td>5.0</td>\n",
              "      <td>3.6</td>\n",
              "      <td>1.4</td>\n",
              "      <td>0.2</td>\n",
              "      <td>0</td>\n",
              "    </tr>\n",
              "  </tbody>\n",
              "</table>\n",
              "</div>"
            ],
            "text/plain": [
              "   sepal length[cm]  sepal width[cm]  petal length[cm]  petal width  label\n",
              "0               5.1              3.5               1.4          0.2      0\n",
              "1               4.9              3.0               1.4          0.2      0\n",
              "2               4.7              3.2               1.3          0.2      0\n",
              "3               4.6              3.1               1.5          0.2      0\n",
              "4               5.0              3.6               1.4          0.2      0"
            ]
          },
          "metadata": {
            "tags": []
          },
          "execution_count": 3
        }
      ]
    },
    {
      "cell_type": "code",
      "metadata": {
        "id": "-pZAcDhrvgnK",
        "colab_type": "code",
        "outputId": "7742f378-7a86-4614-aac6-eba53f108d8f",
        "colab": {
          "base_uri": "https://localhost:8080/",
          "height": 170
        }
      },
      "source": [
        "# This time we will use sklearn's method for seperating the data\n",
        "from sklearn.model_selection import train_test_split\n",
        "names = [\"sepal length[cm]\",\"petal width\"]\n",
        "#After completing the assignment, try your code with all the features\n",
        "#names = [\"sepal length[cm]\",\"sepal width[cm]\",\"petal length[cm]\", \"petal width\"]\n",
        "df_X_train, df_X_test, df_y_train, df_y_test = train_test_split(df[names],df['label'], random_state=0)\n",
        "\n",
        "X_train=df_X_train.to_numpy()\n",
        "X_test=df_X_test.to_numpy()\n",
        "y_train=df_y_train.to_numpy()\n",
        "y_test=df_y_test.to_numpy()\n",
        "\n",
        "#Looking at the train/test split\n",
        "print(\"The number of training examples: \", X_train.shape[0])\n",
        "print(\"The number of test exampels: \", X_test.shape[0])\n",
        "\n",
        "print(\"The first four training labels\")\n",
        "print(y_train[0:4])\n",
        "\n",
        "print(\"The first four iris' measurements\")\n",
        "print(X_test[0:4])"
      ],
      "execution_count": 0,
      "outputs": [
        {
          "output_type": "stream",
          "text": [
            "The number of training examples:  112\n",
            "The number of test exampels:  38\n",
            "The first four training labels\n",
            "[1 1 2 0]\n",
            "The first four iris' measurements\n",
            "[[5.8 2.4]\n",
            " [6.  1. ]\n",
            " [5.5 0.2]\n",
            " [7.3 1.8]]\n"
          ],
          "name": "stdout"
        }
      ]
    },
    {
      "cell_type": "markdown",
      "metadata": {
        "id": "Q4FKnXNZvgnZ",
        "colab_type": "text"
      },
      "source": [
        "## visualizing the data set\n",
        "\n",
        "Using a scatter plot to visualize the dataset"
      ]
    },
    {
      "cell_type": "code",
      "metadata": {
        "id": "yT_ICAnpvgnb",
        "colab_type": "code",
        "outputId": "5f0de717-4431-4b2b-dd0d-59ce8c13dba8",
        "colab": {
          "base_uri": "https://localhost:8080/",
          "height": 279
        }
      },
      "source": [
        "iris_names=['Iris-setosa','Iris-versicolor','Iris-virginica']\n",
        "for i in range(0,3):\n",
        "    plt.scatter(X_train[y_train == i, 0],\n",
        "                X_train[y_train == i, 1],\n",
        "            marker='o',\n",
        "            label='class '+ str(i)+ ' '+ iris_names[i])\n",
        "\n",
        "plt.xlabel('sepal width[cm]')\n",
        "plt.ylabel('petal length[cm]')\n",
        "plt.legend(loc='lower right')\n",
        "\n",
        "plt.show()"
      ],
      "execution_count": 0,
      "outputs": [
        {
          "output_type": "display_data",
          "data": {
            "image/png": "[encoded data removed]",
            "text/plain": [
              "<Figure size 432x288 with 1 Axes>"
            ]
          },
          "metadata": {
            "tags": []
          }
        }
      ]
    },
    {
      "cell_type": "markdown",
      "metadata": {
        "id": "yd8iaR-Gvgn6",
        "colab_type": "text"
      },
      "source": [
        "# Your code goes here"
      ]
    },
    {
      "cell_type": "markdown",
      "metadata": {
        "id": "SOGaxkOsFbUs",
        "colab_type": "text"
      },
      "source": [
        "##KNN implmentation"
      ]
    },
    {
      "cell_type": "code",
      "metadata": {
        "id": "LlahZHm-vgn9",
        "colab_type": "code",
        "colab": {}
      },
      "source": [
        "from scipy.spatial import distance\n",
        "\n",
        "def euclidean_distance(x1, x2):\n",
        "   return np.sqrt(np.sum((x1 - x2) ** 2))"
      ],
      "execution_count": 0,
      "outputs": []
    },
    {
      "cell_type": "code",
      "metadata": {
        "id": "Is7NPouxvgoB",
        "colab_type": "code",
        "colab": {}
      },
      "source": [
        "def get_neighbors(X_train, y_train, x_test, k, distance=euclidean_distance):\n",
        "   dis = []\n",
        "   for i in range(len(y_train)):\n",
        "        dis.append([distance(X_train[i], x_test), y_train[i]])\n",
        "   #dis.sort(key=lambda dis:dis[0])\n",
        "   dis = np.array(dis)\n",
        "   sorted_dis = dis[dis[:,0].argsort()]\n",
        "   neighbors = sorted_dis[:k]\n",
        "   return neighbors"
      ],
      "execution_count": 0,
      "outputs": []
    },
    {
      "cell_type": "code",
      "metadata": {
        "id": "rhLjJ3XTvgoE",
        "colab_type": "code",
        "colab": {}
      },
      "source": [
        "def get_label(neighbors):\n",
        "    labels = neighbors[:,1]\n",
        "    labels, count = np.unique(labels, return_counts=True)\n",
        "    return labels[np.argmax(count)]"
      ],
      "execution_count": 0,
      "outputs": []
    },
    {
      "cell_type": "code",
      "metadata": {
        "id": "ccOnXbEkRJVn",
        "colab_type": "code",
        "colab": {}
      },
      "source": [
        "from sklearn.metrics import accuracy_score\n",
        "def KNNResults(k, distance):\n",
        "  y_pred = []\n",
        "  for x_test in X_test:\n",
        "      neighbors = get_neighbors(X_train, y_train, x_test, k, distance=distance)\n",
        "      label = get_label(neighbors)\n",
        "      y_pred.append(label)\n",
        "  print(\"Errors:\")\n",
        "  for i, label in enumerate(y_pred):\n",
        "      if label != y_test[i]:\n",
        "          print(i, X_test[i])\n",
        "  accuracy = accuracy_score(y_pred, y_test)\n",
        "  print(\"when k = {}, the accuracy is {}\".format(k, accuracy))"
      ],
      "execution_count": 0,
      "outputs": []
    },
    {
      "cell_type": "markdown",
      "metadata": {
        "id": "ss1TnqSuWOdO",
        "colab_type": "text"
      },
      "source": [
        "## Results for K=1,3,5"
      ]
    },
    {
      "cell_type": "code",
      "metadata": {
        "id": "bmekXuHGWDz0",
        "colab_type": "code",
        "outputId": "47e1501e-7584-4195-a0ce-1c0d725540e2",
        "colab": {
          "base_uri": "https://localhost:8080/",
          "height": 85
        }
      },
      "source": [
        "KNNResults(1, euclidean_distance)"
      ],
      "execution_count": 0,
      "outputs": [
        {
          "output_type": "stream",
          "text": [
            "Errors:\n",
            "10 [6.1 1.4]\n",
            "16 [6.  1.5]\n",
            "when k = 1, the accuracy is 0.9473684210526315\n"
          ],
          "name": "stdout"
        }
      ]
    },
    {
      "cell_type": "code",
      "metadata": {
        "id": "LhHdrTt7WH9-",
        "colab_type": "code",
        "outputId": "810d6af3-04ef-40b8-df5a-6bf61b77428c",
        "colab": {
          "base_uri": "https://localhost:8080/",
          "height": 68
        }
      },
      "source": [
        "KNNResults(3, euclidean_distance)"
      ],
      "execution_count": 0,
      "outputs": [
        {
          "output_type": "stream",
          "text": [
            "Errors:\n",
            "10 [6.1 1.4]\n",
            "when k = 3, the accuracy is 0.9736842105263158\n"
          ],
          "name": "stdout"
        }
      ]
    },
    {
      "cell_type": "code",
      "metadata": {
        "id": "m2qVVF4aWK6V",
        "colab_type": "code",
        "outputId": "bbe0689f-81b6-4d13-9e75-a41188b4cc7c",
        "colab": {
          "base_uri": "https://localhost:8080/",
          "height": 68
        }
      },
      "source": [
        "KNNResults(5, euclidean_distance)"
      ],
      "execution_count": 0,
      "outputs": [
        {
          "output_type": "stream",
          "text": [
            "Errors:\n",
            "10 [6.1 1.4]\n",
            "when k = 5, the accuracy is 0.9736842105263158\n"
          ],
          "name": "stdout"
        }
      ]
    },
    {
      "cell_type": "markdown",
      "metadata": {
        "id": "9m87wLmqW9Zg",
        "colab_type": "text"
      },
      "source": [
        "KNN library to check if KNN was implmented correctly"
      ]
    },
    {
      "cell_type": "code",
      "metadata": {
        "id": "46D0AdC9vgoH",
        "colab_type": "code",
        "outputId": "69a71b30-5a8f-4ae0-9cea-bf5a4b5b7fc2",
        "colab": {
          "base_uri": "https://localhost:8080/",
          "height": 68
        }
      },
      "source": [
        "from sklearn.neighbors import KNeighborsClassifier\n",
        "\n",
        "classifier = KNeighborsClassifier(n_neighbors=1)\n",
        "classifier.fit(X_train, y_train)\n",
        "y_pred = classifier.predict(X_test)\n",
        "accuracy = accuracy_score(y_pred, y_test)\n",
        "for i, label in enumerate(y_pred):\n",
        "      if label != y_test[i]:\n",
        "          print(i, X_test[i])\n",
        "print(accuracy)"
      ],
      "execution_count": 0,
      "outputs": [
        {
          "output_type": "stream",
          "text": [
            "10 [6.1 1.4]\n",
            "16 [6.  1.5]\n",
            "0.9473684210526315\n"
          ],
          "name": "stdout"
        }
      ]
    },
    {
      "cell_type": "markdown",
      "metadata": {
        "id": "hyupvHK2Xltk",
        "colab_type": "text"
      },
      "source": [
        "## Zero-R"
      ]
    },
    {
      "cell_type": "code",
      "metadata": {
        "id": "mADYQmmbWHJt",
        "colab_type": "code",
        "outputId": "168c06c9-3bba-454a-8303-78afda8ecf88",
        "colab": {
          "base_uri": "https://localhost:8080/",
          "height": 34
        }
      },
      "source": [
        "labels, count = np.unique(y_train, return_counts=True)\n",
        "print(labels, count)"
      ],
      "execution_count": 0,
      "outputs": [
        {
          "output_type": "stream",
          "text": [
            "[0 1 2] [37 34 41]\n"
          ],
          "name": "stdout"
        }
      ]
    },
    {
      "cell_type": "code",
      "metadata": {
        "id": "Ay5NOk8lXk4d",
        "colab_type": "code",
        "outputId": "b082228d-7ea1-4f1b-9fae-7d1ec5191ab8",
        "colab": {
          "base_uri": "https://localhost:8080/",
          "height": 34
        }
      },
      "source": [
        "accuracy_score(np.full(y_test.shape[0], labels[np.argmax(count)]), y_test)"
      ],
      "execution_count": 0,
      "outputs": [
        {
          "output_type": "execute_result",
          "data": {
            "text/plain": [
              "0.23684210526315788"
            ]
          },
          "metadata": {
            "tags": []
          },
          "execution_count": 15
        }
      ]
    },
    {
      "cell_type": "markdown",
      "metadata": {
        "id": "-ZDiKXmxZVni",
        "colab_type": "text"
      },
      "source": [
        "## Manhattan Distance Function"
      ]
    },
    {
      "cell_type": "code",
      "metadata": {
        "id": "C_OEyajwZcfD",
        "colab_type": "code",
        "colab": {}
      },
      "source": [
        "def manhattan_distance(x1, x2):\n",
        "  d = distance.cityblock(x1, x2)\n",
        "  return d"
      ],
      "execution_count": 0,
      "outputs": []
    },
    {
      "cell_type": "code",
      "metadata": {
        "id": "0HPOhVsmhTFB",
        "colab_type": "code",
        "outputId": "aa616cd3-d280-42be-ebee-0ac3d071fd50",
        "colab": {
          "base_uri": "https://localhost:8080/",
          "height": 85
        }
      },
      "source": [
        "KNNResults(1, manhattan_distance)"
      ],
      "execution_count": 0,
      "outputs": [
        {
          "output_type": "stream",
          "text": [
            "Errors:\n",
            "10 [6.1 1.4]\n",
            "16 [6.  1.5]\n",
            "when k = 1, the accuracy is 0.9473684210526315\n"
          ],
          "name": "stdout"
        }
      ]
    },
    {
      "cell_type": "code",
      "metadata": {
        "id": "5ZZtFXubhVcm",
        "colab_type": "code",
        "outputId": "f90a94c9-2b13-4606-e6d3-c58acf31be62",
        "colab": {
          "base_uri": "https://localhost:8080/",
          "height": 68
        }
      },
      "source": [
        "KNNResults(3, manhattan_distance)"
      ],
      "execution_count": 0,
      "outputs": [
        {
          "output_type": "stream",
          "text": [
            "Errors:\n",
            "10 [6.1 1.4]\n",
            "when k = 3, the accuracy is 0.9736842105263158\n"
          ],
          "name": "stdout"
        }
      ]
    },
    {
      "cell_type": "code",
      "metadata": {
        "id": "TqPp1kbThjbQ",
        "colab_type": "code",
        "outputId": "074aa3e2-347a-4b6f-e005-498529f76efd",
        "colab": {
          "base_uri": "https://localhost:8080/",
          "height": 85
        }
      },
      "source": [
        "KNNResults(5, manhattan_distance)"
      ],
      "execution_count": 0,
      "outputs": [
        {
          "output_type": "stream",
          "text": [
            "Errors:\n",
            "10 [6.1 1.4]\n",
            "37 [6.  1.6]\n",
            "when k = 5, the accuracy is 0.9473684210526315\n"
          ],
          "name": "stdout"
        }
      ]
    },
    {
      "cell_type": "markdown",
      "metadata": {
        "id": "Tb8uN1VTii8J",
        "colab_type": "text"
      },
      "source": [
        "## 5-fold cross-validation"
      ]
    },
    {
      "cell_type": "code",
      "metadata": {
        "id": "fQUfbIAsioPu",
        "colab_type": "code",
        "colab": {}
      },
      "source": [
        "X_train_split = np.array_split(np.concatenate((X_train, X_test)), 5)\n",
        "y_train_split = np.array_split(np.concatenate((y_train, y_test)), 5)\n",
        "X_test_cv = X_train_split[4]\n",
        "y_test_cv = y_train_split[4]\n",
        "\n",
        "def cross_validate(k, distance):\n",
        "  result = []\n",
        "  for j in range(4):\n",
        "    y_pred = []\n",
        "    for x_test in X_test_cv:\n",
        "        neighbors = get_neighbors(X_train_split[j], y_train_split[j], x_test, k, distance=distance)\n",
        "        label = get_label(neighbors)\n",
        "        y_pred.append(label)\n",
        "    print(\"Fold\", j+1, \"Errors:\")\n",
        "    for i, label in enumerate(y_pred):\n",
        "        if label != y_test_cv[i]:\n",
        "            print(i, X_test_cv[i])\n",
        "    accuracy = accuracy_score(y_pred, y_test_cv)\n",
        "    result.append(accuracy)\n",
        "    print(\"when k = {}, the accuracy is {}\".format(k, accuracy))\n",
        "  print(\"Average accuracy: \", np.average(result))"
      ],
      "execution_count": 0,
      "outputs": []
    },
    {
      "cell_type": "code",
      "metadata": {
        "id": "QALv5nlwqKo6",
        "colab_type": "code",
        "outputId": "f0774999-de07-43f8-db55-668ae9f6a4dc",
        "colab": {
          "base_uri": "https://localhost:8080/",
          "height": 408
        }
      },
      "source": [
        "cross_validate(3, euclidean_distance)"
      ],
      "execution_count": 0,
      "outputs": [
        {
          "output_type": "stream",
          "text": [
            "Fold 1 Errors:\n",
            "0 [6.8 1.4]\n",
            "2 [6.1 1.4]\n",
            "3 [6.4 1.5]\n",
            "5 [6.5 1.5]\n",
            "12 [5.6 2. ]\n",
            "19 [6.2 1.3]\n",
            "when k = 3, the accuracy is 0.8\n",
            "Fold 2 Errors:\n",
            "2 [6.1 1.4]\n",
            "when k = 3, the accuracy is 0.9666666666666667\n",
            "Fold 3 Errors:\n",
            "2 [6.1 1.4]\n",
            "12 [5.6 2. ]\n",
            "16 [6.2 1.8]\n",
            "22 [6.4 1.8]\n",
            "when k = 3, the accuracy is 0.8666666666666667\n",
            "Fold 4 Errors:\n",
            "2 [6.1 1.4]\n",
            "16 [6.2 1.8]\n",
            "22 [6.4 1.8]\n",
            "when k = 3, the accuracy is 0.9\n",
            "Average accuracy:  0.8833333333333333\n"
          ],
          "name": "stdout"
        }
      ]
    },
    {
      "cell_type": "code",
      "metadata": {
        "id": "PqdPG0-8vcdo",
        "colab_type": "code",
        "outputId": "c1e52b60-f86b-417e-fe7a-db7c6ef15adc",
        "colab": {
          "base_uri": "https://localhost:8080/",
          "height": 578
        }
      },
      "source": [
        "cross_validate(7, euclidean_distance)"
      ],
      "execution_count": 0,
      "outputs": [
        {
          "output_type": "stream",
          "text": [
            "Fold 1 Errors:\n",
            "0 [6.8 1.4]\n",
            "2 [6.1 1.4]\n",
            "3 [6.4 1.5]\n",
            "5 [6.5 1.5]\n",
            "12 [5.6 2. ]\n",
            "28 [5.7 0.3]\n",
            "when k = 7, the accuracy is 0.8\n",
            "Fold 2 Errors:\n",
            "0 [6.8 1.4]\n",
            "1 [6.1 1.3]\n",
            "3 [6.4 1.5]\n",
            "5 [6.5 1.5]\n",
            "6 [6.1 1.4]\n",
            "8 [6.  1.5]\n",
            "20 [5. 1.]\n",
            "29 [6.  1.6]\n",
            "when k = 7, the accuracy is 0.7333333333333333\n",
            "Fold 3 Errors:\n",
            "0 [6.8 1.4]\n",
            "2 [6.1 1.4]\n",
            "12 [5.6 2. ]\n",
            "16 [6.2 1.8]\n",
            "20 [5. 1.]\n",
            "25 [6.1 1.8]\n",
            "when k = 7, the accuracy is 0.8\n",
            "Fold 4 Errors:\n",
            "2 [6.1 1.4]\n",
            "16 [6.2 1.8]\n",
            "22 [6.4 1.8]\n",
            "25 [6.1 1.8]\n",
            "when k = 7, the accuracy is 0.8666666666666667\n",
            "Average accuracy:  0.7999999999999999\n"
          ],
          "name": "stdout"
        }
      ]
    },
    {
      "cell_type": "code",
      "metadata": {
        "id": "xkRiG4btvgQQ",
        "colab_type": "code",
        "outputId": "b0c326b3-c945-4418-be5c-9051fc61d28f",
        "colab": {
          "base_uri": "https://localhost:8080/",
          "height": 816
        }
      },
      "source": [
        "cross_validate(9, euclidean_distance)"
      ],
      "execution_count": 0,
      "outputs": [
        {
          "output_type": "stream",
          "text": [
            "Fold 1 Errors:\n",
            "0 [6.8 1.4]\n",
            "2 [6.1 1.4]\n",
            "3 [6.4 1.5]\n",
            "5 [6.5 1.5]\n",
            "7 [4.9 0.1]\n",
            "10 [4.8 0.3]\n",
            "11 [5.4 0.4]\n",
            "12 [5.6 2. ]\n",
            "14 [4.8 0.2]\n",
            "17 [4.6 0.2]\n",
            "18 [5.1 0.4]\n",
            "21 [5.  0.4]\n",
            "24 [5.2 0.2]\n",
            "28 [5.7 0.3]\n",
            "29 [6.  1.6]\n",
            "when k = 9, the accuracy is 0.5\n",
            "Fold 2 Errors:\n",
            "0 [6.8 1.4]\n",
            "1 [6.1 1.3]\n",
            "3 [6.4 1.5]\n",
            "5 [6.5 1.5]\n",
            "6 [6.1 1.4]\n",
            "8 [6.  1.5]\n",
            "13 [5.6 1.5]\n",
            "19 [6.2 1.3]\n",
            "20 [5. 1.]\n",
            "29 [6.  1.6]\n",
            "when k = 9, the accuracy is 0.6666666666666666\n",
            "Fold 3 Errors:\n",
            "0 [6.8 1.4]\n",
            "2 [6.1 1.4]\n",
            "12 [5.6 2. ]\n",
            "16 [6.2 1.8]\n",
            "20 [5. 1.]\n",
            "22 [6.4 1.8]\n",
            "25 [6.1 1.8]\n",
            "27 [5.2 1.4]\n",
            "when k = 9, the accuracy is 0.7333333333333333\n",
            "Fold 4 Errors:\n",
            "2 [6.1 1.4]\n",
            "16 [6.2 1.8]\n",
            "20 [5. 1.]\n",
            "22 [6.4 1.8]\n",
            "25 [6.1 1.8]\n",
            "when k = 9, the accuracy is 0.8333333333333334\n",
            "Average accuracy:  0.6833333333333333\n"
          ],
          "name": "stdout"
        }
      ]
    }
  ]
}
