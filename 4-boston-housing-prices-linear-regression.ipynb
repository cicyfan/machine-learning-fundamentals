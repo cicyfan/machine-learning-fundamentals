{
  "nbformat": 4,
  "nbformat_minor": 0,
  "metadata": {
    "kernelspec": {
      "display_name": "Python 3",
      "language": "python",
      "name": "python3"
    },
    "language_info": {
      "codemirror_mode": {
        "name": "ipython",
        "version": 3
      },
      "file_extension": ".py",
      "mimetype": "text/x-python",
      "name": "python",
      "nbconvert_exporter": "python",
      "pygments_lexer": "ipython3",
      "version": "3.7.2"
    },
    "colab": {
      "name": "4-boston-housing-prices-regression",
      "provenance": [],
      "collapsed_sections": [],
      "include_colab_link": true
    }
  },
  "cells": [
    {
      "cell_type": "markdown",
      "metadata": {
        "id": "view-in-github",
        "colab_type": "text"
      },
      "source": [
        "<a href=\"https://colab.research.google.com/github/cicyfan/machine-learning-fundamentals/blob/master/4_boston_housing_prices_regression.ipynb\" target=\"_parent\"><img src=\"https://colab.research.google.com/assets/colab-badge.svg\" alt=\"Open In Colab\"/></a>"
      ]
    },
    {
      "cell_type": "markdown",
      "metadata": {
        "id": "N1g1t1e2SKge",
        "colab_type": "text"
      },
      "source": [
        "# Linear versus Ridge Regression "
      ]
    },
    {
      "cell_type": "markdown",
      "metadata": {
        "id": "I2fiJ5DxSKgi",
        "colab_type": "text"
      },
      "source": [
        "Your friend Bob just moved to Boston. He is a real estate agent who is trying to evaluate the prices of houses in the Boston area. He has been using a linear regression model but he wonders if he can improve his accuracy on predicting the prices for new houses. He comes to you for help as he knows that you're an expert in machine learning. \n",
        "\n",
        "As a pro, you suggest doing a *polynomial transformation*  to create a more flexible model, and performing ridge regression since having so many features compared to data points increases the variance. \n",
        "\n",
        "Bob, however, being a skeptic isn't convinced. He wants you to write a program that illustrates the difference in training and test costs for both linear and ridge regression on the same dataset. Being a good friend, you oblige and hence this assignment :) "
      ]
    },
    {
      "cell_type": "markdown",
      "metadata": {
        "id": "tJzEPn-aSKgo",
        "colab_type": "text"
      },
      "source": [
        "In this notebook, you are to explore the effects of ridge regression.  We will use a dataset that is part of the sklearn.dataset package.  Learn more at https://scikit-learn.org/stable/modules/generated/sklearn.datasets.load_boston.html"
      ]
    },
    {
      "cell_type": "markdown",
      "metadata": {
        "id": "cTUcj6t7SKgr",
        "colab_type": "text"
      },
      "source": [
        "## Step 1:  Getting, understanding, and preprocessing the dataset\n",
        "\n",
        "We first import the standard libaries and some libraries that will help us scale the data and perform some \"feature engineering\" by transforming the data into $\\Phi_2({\\bf x})$"
      ]
    },
    {
      "cell_type": "code",
      "metadata": {
        "id": "UVBKUGXVSKgs",
        "colab_type": "code",
        "colab": {}
      },
      "source": [
        "import numpy as np\n",
        "import sklearn\n",
        "from sklearn.datasets import load_boston\n",
        "from sklearn.preprocessing import PolynomialFeatures\n",
        "from sklearn import preprocessing\n",
        "from sklearn.model_selection import train_test_split\n",
        "import sklearn.linear_model\n",
        "from sklearn.model_selection import KFold"
      ],
      "execution_count": 0,
      "outputs": []
    },
    {
      "cell_type": "markdown",
      "metadata": {
        "id": "-_vwsgP4SKg5",
        "colab_type": "text"
      },
      "source": [
        "###  Importing the dataset"
      ]
    },
    {
      "cell_type": "code",
      "metadata": {
        "id": "JjiOupjxSKg6",
        "colab_type": "code",
        "colab": {}
      },
      "source": [
        "# Import the boston dataset from sklearn\n",
        "boston_data = load_boston()"
      ],
      "execution_count": 0,
      "outputs": []
    },
    {
      "cell_type": "code",
      "metadata": {
        "id": "jJ4jySpvSKg9",
        "colab_type": "code",
        "outputId": "728efd1c-8240-4e7f-e707-27b43cf1b5fb",
        "colab": {
          "base_uri": "https://localhost:8080/",
          "height": 191
        }
      },
      "source": [
        "#  Create X and Y variables - X holding the .data and Y holding .target \n",
        "X = boston_data.data\n",
        "y = boston_data.target\n",
        "\n",
        "#  Reshape Y to be a rank 2 matrix \n",
        "y = y.reshape(X.shape[0], 1)\n",
        "\n",
        "# Observe the number of features and the number of labels\n",
        "print('The number of features is: ', X.shape[1])\n",
        "# Printing out the features\n",
        "print('The features: ', boston_data.feature_names)\n",
        "# The number of examples\n",
        "print('The number of exampels in our dataset: ', X.shape[0])\n",
        "#Observing the first 2 rows of the data\n",
        "print(X[0:2])\n"
      ],
      "execution_count": 0,
      "outputs": [
        {
          "output_type": "stream",
          "text": [
            "The number of features is:  13\n",
            "The features:  ['CRIM' 'ZN' 'INDUS' 'CHAS' 'NOX' 'RM' 'AGE' 'DIS' 'RAD' 'TAX' 'PTRATIO'\n",
            " 'B' 'LSTAT']\n",
            "The number of exampels in our dataset:  506\n",
            "[[6.3200e-03 1.8000e+01 2.3100e+00 0.0000e+00 5.3800e-01 6.5750e+00\n",
            "  6.5200e+01 4.0900e+00 1.0000e+00 2.9600e+02 1.5300e+01 3.9690e+02\n",
            "  4.9800e+00]\n",
            " [2.7310e-02 0.0000e+00 7.0700e+00 0.0000e+00 4.6900e-01 6.4210e+00\n",
            "  7.8900e+01 4.9671e+00 2.0000e+00 2.4200e+02 1.7800e+01 3.9690e+02\n",
            "  9.1400e+00]]\n"
          ],
          "name": "stdout"
        }
      ]
    },
    {
      "cell_type": "markdown",
      "metadata": {
        "id": "WtTRkeVmSKhB",
        "colab_type": "text"
      },
      "source": [
        "We will also create polynomial feeatures for the dataset to test linear and ridge regression on data with d = 1 and data with d = 2. Feel free to increase the # of degress and see what effect it has on the training and test error. "
      ]
    },
    {
      "cell_type": "code",
      "metadata": {
        "id": "Vvh5CNSQSKhD",
        "colab_type": "code",
        "colab": {}
      },
      "source": [
        "# Create a PolynomialFeatures object with degree = 2. \n",
        "# Transform X and save it into X_2. Simply copy Y into Y_2 \n",
        "poly = PolynomialFeatures(degree=2, include_bias=False)\n",
        "X_2 = poly.fit_transform(X)\n",
        "y_2 = y"
      ],
      "execution_count": 0,
      "outputs": []
    },
    {
      "cell_type": "code",
      "metadata": {
        "id": "4DA_eM1VSKhK",
        "colab_type": "code",
        "outputId": "1a60d7c7-a0dd-477e-beb8-9970e879d15f",
        "colab": {
          "base_uri": "https://localhost:8080/",
          "height": 52
        }
      },
      "source": [
        "# the shape of X_2 and Y_2 - should be (506, 105) and (506, 1) respectively\n",
        "print(X_2.shape)\n",
        "print(y_2.shape)"
      ],
      "execution_count": 0,
      "outputs": [
        {
          "output_type": "stream",
          "text": [
            "(506, 104)\n",
            "(506, 1)\n"
          ],
          "name": "stdout"
        }
      ]
    },
    {
      "cell_type": "code",
      "metadata": {
        "id": "XIDZbSihvyDA",
        "colab_type": "code",
        "outputId": "2cf14b30-c71c-4a47-d4ae-e72144ab019e",
        "colab": {
          "base_uri": "https://localhost:8080/",
          "height": 35
        }
      },
      "source": [
        "X.shape"
      ],
      "execution_count": 0,
      "outputs": [
        {
          "output_type": "execute_result",
          "data": {
            "text/plain": [
              "(506, 13)"
            ]
          },
          "metadata": {
            "tags": []
          },
          "execution_count": 6
        }
      ]
    },
    {
      "cell_type": "code",
      "metadata": {
        "id": "ftTLWX1iv1Qu",
        "colab_type": "code",
        "outputId": "a7867c0a-5501-49bc-876a-e7d784e89bce",
        "colab": {
          "base_uri": "https://localhost:8080/",
          "height": 35
        }
      },
      "source": [
        "len(X)"
      ],
      "execution_count": 0,
      "outputs": [
        {
          "output_type": "execute_result",
          "data": {
            "text/plain": [
              "506"
            ]
          },
          "metadata": {
            "tags": []
          },
          "execution_count": 7
        }
      ]
    },
    {
      "cell_type": "markdown",
      "metadata": {
        "id": "GXy9FcoSSKhO",
        "colab_type": "text"
      },
      "source": [
        "# Your code goes here"
      ]
    },
    {
      "cell_type": "markdown",
      "metadata": {
        "id": "KMUKlxrGCJ69",
        "colab_type": "text"
      },
      "source": [
        "## Define Functions"
      ]
    },
    {
      "cell_type": "markdown",
      "metadata": {
        "id": "LoA1jsCx8Ry8",
        "colab_type": "text"
      },
      "source": [
        "Ridge coefficient \n",
        "$w = (X^TX+\\lambda I)^{-1}X^Ty$"
      ]
    },
    {
      "cell_type": "code",
      "metadata": {
        "id": "munYw9uBSKhP",
        "colab_type": "code",
        "colab": {}
      },
      "source": [
        "# TODO - Define the get_coeff_ridge_normaleq function. Use the normal equation method.\n",
        "# TODO - Return w values\n",
        "\n",
        "def get_coeff_ridge_normaleq(X_train, y_train, alpha):\n",
        "    # use np.linalg.pinv(a)\n",
        "    I = np.identity(X_train.shape[1]) # identity of number of features \n",
        "    inv = np.linalg.pinv(np.dot(X_train.T, X_train) + alpha*I)\n",
        "    w = np.dot(inv, X_train.T)\n",
        "    w = np.dot(w, y_train)\n",
        "    return w"
      ],
      "execution_count": 0,
      "outputs": []
    },
    {
      "cell_type": "code",
      "metadata": {
        "id": "A6DsnRYUSKhS",
        "colab_type": "code",
        "colab": {}
      },
      "source": [
        "# TODO - Define the evaluate_err_ridge function.\n",
        "# TODO - Return the train_error and test_error values\n",
        "\n",
        "def evaluate_err(X_train, X_test, y_train, y_test, w): \n",
        "    train_rss = np.sum(np.power((y_train - np.dot(X_train, w)), 2))\n",
        "    train_error = train_rss/X_train.shape[0]\n",
        "    test_rss = np.sum(np.power((y_test - np.dot(X_test, w)), 2))\n",
        "    test_error = test_rss/X_test.shape[0]\n",
        "    return train_error, test_error"
      ],
      "execution_count": 0,
      "outputs": []
    },
    {
      "cell_type": "code",
      "metadata": {
        "id": "Ej76NEOLSKhV",
        "colab_type": "code",
        "colab": {}
      },
      "source": [
        "# TODO - Finish writting the k_fold_cross_validation function. \n",
        "# TODO - Returns the average training error and average test error from the k-fold cross validation\n",
        "# use Sklearns K-Folds cross-validator: https://scikit-learn.org/stable/modules/generated/sklearn.model_selection.KFold.html\n",
        "\n",
        "def k_fold_cross_validation(k, X, y, alpha):\n",
        "    kf = KFold(n_splits=k, random_state=21, shuffle=True)\n",
        "    total_E_val_test = 0\n",
        "    total_E_val_train = 0\n",
        "    \n",
        "    for train_index, test_index in kf.split(X):\n",
        "        X_train, X_test = X[train_index], X[test_index]\n",
        "        y_train, y_test = y[train_index], y[test_index]\n",
        "        \n",
        "        # scaling the data matrix\n",
        "        scaler = preprocessing.StandardScaler().fit(X_train)\n",
        "        X_train = scaler.transform(X_train)\n",
        "        X_test = scaler.transform(X_test)\n",
        "        \n",
        "        # Adding a column of 1's to the front of X_train and X_test\n",
        "        one_col = np.ones((X_train.shape[0],1))\n",
        "        X_train = np.hstack((one_col, X_train ))\n",
        "        one_col = np.ones((X_test.shape[0],1))\n",
        "        X_test  = np.hstack((one_col, X_test ))\n",
        "        \n",
        "        # determine the training error and the test error\n",
        "        w = get_coeff_ridge_normaleq(X_train, y_train, alpha)\n",
        "        \n",
        "        train_error, test_error = evaluate_err(X_train, X_test, y_train, y_test, w)\n",
        "        total_E_val_test += test_error\n",
        "        total_E_val_train += train_error\n",
        "\n",
        "    E_val_test = total_E_val_test / k\n",
        "    E_val_train = total_E_val_train / k\n",
        "\n",
        "    print(\"Alpha:\",\"{:2.4f}\".format(alpha), \"Train average MSE:\", \"{:1.4f}\".format(E_val_train),\"Test average MSE:\", \"{:2.4f}\".format(E_val_test))\n",
        "\n",
        "    return  E_val_test, E_val_train\n",
        "    \n"
      ],
      "execution_count": 0,
      "outputs": []
    },
    {
      "cell_type": "markdown",
      "metadata": {
        "id": "BIdQ2EOgz0h0",
        "colab_type": "text"
      },
      "source": [
        "## No Polynomial Transformation"
      ]
    },
    {
      "cell_type": "markdown",
      "metadata": {
        "id": "UVeMkcjez87x",
        "colab_type": "text"
      },
      "source": [
        "### 10-fold cross validation on linear model"
      ]
    },
    {
      "cell_type": "code",
      "metadata": {
        "id": "TcrtWZfySKhZ",
        "colab_type": "code",
        "outputId": "912c3d56-9515-48b8-e09b-a9165644df3e",
        "colab": {
          "base_uri": "https://localhost:8080/",
          "height": 35
        }
      },
      "source": [
        "linear_alpha = 0\n",
        "fold = 10\n",
        "\n",
        "E_val_test, E_val_train = k_fold_cross_validation(fold, X, y, linear_alpha)"
      ],
      "execution_count": 0,
      "outputs": [
        {
          "output_type": "stream",
          "text": [
            "Alpha: 0.0000 Train average MSE: 21.8062 Test average MSE: 23.6361\n"
          ],
          "name": "stdout"
        }
      ]
    },
    {
      "cell_type": "markdown",
      "metadata": {
        "id": "JWzgUVdG6yAA",
        "colab_type": "text"
      },
      "source": [
        "### 10-fold cross validation on ridge regression model"
      ]
    },
    {
      "cell_type": "code",
      "metadata": {
        "id": "lH4vwS4Y0N43",
        "colab_type": "code",
        "outputId": "db11ae4f-3752-4d7a-a3b1-6369364c0028",
        "colab": {
          "base_uri": "https://localhost:8080/",
          "height": 243
        }
      },
      "source": [
        "ridge_alpha = np.logspace(.01, 1, num=13)\n",
        "train_error = []\n",
        "test_error = []\n",
        "alphas = []\n",
        "for a in ridge_alpha:\n",
        "    E_val_test, E_val_train = k_fold_cross_validation(fold, X, y, a)\n",
        "    train_error.append(E_val_train)\n",
        "    test_error.append(E_val_test)\n",
        "    alphas.append(a)"
      ],
      "execution_count": 0,
      "outputs": [
        {
          "output_type": "stream",
          "text": [
            "Alpha: 1.0233 Train average MSE: 21.8101 Test average MSE: 23.6351\n",
            "Alpha: 1.2374 Train average MSE: 21.8118 Test average MSE: 23.6359\n",
            "Alpha: 1.4962 Train average MSE: 21.8144 Test average MSE: 23.6373\n",
            "Alpha: 1.8093 Train average MSE: 21.8181 Test average MSE: 23.6396\n",
            "Alpha: 2.1878 Train average MSE: 21.8235 Test average MSE: 23.6432\n",
            "Alpha: 2.6455 Train average MSE: 21.8313 Test average MSE: 23.6490\n",
            "Alpha: 3.1989 Train average MSE: 21.8426 Test average MSE: 23.6578\n",
            "Alpha: 3.8681 Train average MSE: 21.8588 Test average MSE: 23.6711\n",
            "Alpha: 4.6774 Train average MSE: 21.8821 Test average MSE: 23.6909\n",
            "Alpha: 5.6559 Train average MSE: 21.9154 Test average MSE: 23.7201\n",
            "Alpha: 6.8391 Train average MSE: 21.9631 Test average MSE: 23.7629\n",
            "Alpha: 8.2699 Train average MSE: 22.0310 Test average MSE: 23.8249\n",
            "Alpha: 10.0000 Train average MSE: 22.1273 Test average MSE: 23.9144\n"
          ],
          "name": "stdout"
        }
      ]
    },
    {
      "cell_type": "code",
      "metadata": {
        "id": "6kyeWm2nyAvM",
        "colab_type": "code",
        "outputId": "2ff0f220-bb98-4750-e3b2-9825b82fc414",
        "colab": {
          "base_uri": "https://localhost:8080/",
          "height": 283
        }
      },
      "source": [
        "import matplotlib.pyplot as plt\n",
        "%matplotlib inline\n",
        "#plt.plot(alphas, train_error)\n",
        "plt.plot(alphas, test_error)"
      ],
      "execution_count": 0,
      "outputs": [
        {
          "output_type": "execute_result",
          "data": {
            "text/plain": [
              "[<matplotlib.lines.Line2D at 0x7fa125d116a0>]"
            ]
          },
          "metadata": {
            "tags": []
          },
          "execution_count": 13
        },
        {
          "output_type": "display_data",
          "data": {
            "image/png": "[encoded data removed]",
            "text/plain": [
              "<Figure size 432x288 with 1 Axes>"
            ]
          },
          "metadata": {
            "tags": []
          }
        }
      ]
    },
    {
      "cell_type": "markdown",
      "metadata": {
        "id": "4__kCvgy6WFf",
        "colab_type": "text"
      },
      "source": [
        "#### Try different alpha values"
      ]
    },
    {
      "cell_type": "code",
      "metadata": {
        "id": "-2v3ZHPh3YpO",
        "colab_type": "code",
        "outputId": "4675ade3-c54f-45ea-d203-11f6072d0de7",
        "colab": {
          "base_uri": "https://localhost:8080/",
          "height": 277
        }
      },
      "source": [
        "ridge_alpha = np.logspace(0.01, 5, num=15)\n",
        "train_error = []\n",
        "test_error = []\n",
        "alphas = []\n",
        "for a in ridge_alpha:\n",
        "    E_val_test, E_val_train = k_fold_cross_validation(fold, X, y, a)\n",
        "    train_error.append(E_val_train)\n",
        "    test_error.append(E_val_test)\n",
        "    alphas.append(a)"
      ],
      "execution_count": 0,
      "outputs": [
        {
          "output_type": "stream",
          "text": [
            "Alpha: 1.0233 Train average MSE: 21.8101 Test average MSE: 23.6351\n",
            "Alpha: 2.3250 Train average MSE: 21.8257 Test average MSE: 23.6448\n",
            "Alpha: 5.2827 Train average MSE: 21.9021 Test average MSE: 23.7083\n",
            "Alpha: 12.0029 Train average MSE: 22.2575 Test average MSE: 24.0366\n",
            "Alpha: 27.2718 Train average MSE: 23.8197 Test average MSE: 25.5422\n",
            "Alpha: 61.9645 Train average MSE: 30.2010 Test average MSE: 31.8148\n",
            "Alpha: 140.7899 Train average MSE: 52.9057 Test average MSE: 54.3575\n",
            "Alpha: 319.8895 Train average MSE: 114.6782 Test average MSE: 115.9562\n",
            "Alpha: 726.8228 Train average MSE: 226.9257 Test average MSE: 228.0143\n",
            "Alpha: 1651.4185 Train average MSE: 356.8342 Test average MSE: 357.6679\n",
            "Alpha: 3752.1977 Train average MSE: 460.2495 Test average MSE: 460.8032\n",
            "Alpha: 8525.3906 Train average MSE: 524.9875 Test average MSE: 525.3202\n",
            "Alpha: 19370.5904 Train average MSE: 560.0983 Test average MSE: 560.2963\n",
            "Alpha: 44012.0329 Train average MSE: 577.4536 Test average MSE: 577.5816\n",
            "Alpha: 100000.0000 Train average MSE: 585.5544 Test average MSE: 585.6492\n"
          ],
          "name": "stdout"
        }
      ]
    },
    {
      "cell_type": "code",
      "metadata": {
        "id": "TpZqqrkX39qu",
        "colab_type": "code",
        "outputId": "584f059e-2baf-4aa8-c376-01c6581312cb",
        "colab": {
          "base_uri": "https://localhost:8080/",
          "height": 283
        }
      },
      "source": [
        "import matplotlib.pyplot as plt\n",
        "%matplotlib inline\n",
        "#plt.plot(alphas, train_error)\n",
        "plt.plot(alphas, test_error)"
      ],
      "execution_count": 0,
      "outputs": [
        {
          "output_type": "execute_result",
          "data": {
            "text/plain": [
              "[<matplotlib.lines.Line2D at 0x7fa125852908>]"
            ]
          },
          "metadata": {
            "tags": []
          },
          "execution_count": 15
        },
        {
          "output_type": "display_data",
          "data": {
            "image/png": "[encoded data removed]",
            "text/plain": [
              "<Figure size 432x288 with 1 Axes>"
            ]
          },
          "metadata": {
            "tags": []
          }
        }
      ]
    },
    {
      "cell_type": "markdown",
      "metadata": {
        "id": "vyEg845Y625i",
        "colab_type": "text"
      },
      "source": [
        "## Polynomial Transformation"
      ]
    },
    {
      "cell_type": "markdown",
      "metadata": {
        "id": "yAfARFlo6MQ2",
        "colab_type": "text"
      },
      "source": [
        "### 10-fold cross validation on linear model"
      ]
    },
    {
      "cell_type": "code",
      "metadata": {
        "id": "8HXE87lS6oCo",
        "colab_type": "code",
        "outputId": "369c0618-5ea6-40d3-a0c9-3c940bb6db65",
        "colab": {
          "base_uri": "https://localhost:8080/",
          "height": 35
        }
      },
      "source": [
        "E_val_test_0, E_val_train_0 = k_fold_cross_validation(fold, X_2, y_2, linear_alpha)"
      ],
      "execution_count": 0,
      "outputs": [
        {
          "output_type": "stream",
          "text": [
            "Alpha: 0.0000 Train average MSE: 5.8088 Test average MSE: 11.8550\n"
          ],
          "name": "stdout"
        }
      ]
    },
    {
      "cell_type": "markdown",
      "metadata": {
        "id": "QK2qIJpy7CMQ",
        "colab_type": "text"
      },
      "source": [
        "### 10-fold cross validation on ridge regression model"
      ]
    },
    {
      "cell_type": "code",
      "metadata": {
        "id": "_mlKX2GS6O2i",
        "colab_type": "code",
        "outputId": "1e15d825-3356-4c3d-b0cd-7d7a98babfd5",
        "colab": {
          "base_uri": "https://localhost:8080/",
          "height": 243
        }
      },
      "source": [
        "ridge_alpha = ridge_alpha = np.logspace(.01, 1, num=13)\n",
        "train_error = []\n",
        "test_error = []\n",
        "alphas = []\n",
        "for a in ridge_alpha:\n",
        "    E_val_test, E_val_train = k_fold_cross_validation(fold, X_2, y_2, a)\n",
        "    train_error.append(E_val_train)\n",
        "    test_error.append(E_val_test)\n",
        "    alphas.append(a)"
      ],
      "execution_count": 0,
      "outputs": [
        {
          "output_type": "stream",
          "text": [
            "Alpha: 1.0233 Train average MSE: 7.4316 Test average MSE: 11.7558\n",
            "Alpha: 1.2374 Train average MSE: 7.5780 Test average MSE: 11.8364\n",
            "Alpha: 1.4962 Train average MSE: 7.7344 Test average MSE: 11.9247\n",
            "Alpha: 1.8093 Train average MSE: 7.9018 Test average MSE: 12.0213\n",
            "Alpha: 2.1878 Train average MSE: 8.0812 Test average MSE: 12.1271\n",
            "Alpha: 2.6455 Train average MSE: 8.2741 Test average MSE: 12.2437\n",
            "Alpha: 3.1989 Train average MSE: 8.4823 Test average MSE: 12.3732\n",
            "Alpha: 3.8681 Train average MSE: 8.7085 Test average MSE: 12.5188\n",
            "Alpha: 4.6774 Train average MSE: 8.9562 Test average MSE: 12.6850\n",
            "Alpha: 5.6559 Train average MSE: 9.2302 Test average MSE: 12.8779\n",
            "Alpha: 6.8391 Train average MSE: 9.5369 Test average MSE: 13.1052\n",
            "Alpha: 8.2699 Train average MSE: 9.8845 Test average MSE: 13.3764\n",
            "Alpha: 10.0000 Train average MSE: 10.2835 Test average MSE: 13.7031\n"
          ],
          "name": "stdout"
        }
      ]
    },
    {
      "cell_type": "code",
      "metadata": {
        "id": "OS2jKGct6RWj",
        "colab_type": "code",
        "outputId": "62c7f700-d7b9-406f-f075-b00e70f5674d",
        "colab": {
          "base_uri": "https://localhost:8080/",
          "height": 283
        }
      },
      "source": [
        "import matplotlib.pyplot as plt\n",
        "%matplotlib inline\n",
        "#plt.plot(alphas, train_error)\n",
        "plt.plot(alphas, test_error)\n"
      ],
      "execution_count": 0,
      "outputs": [
        {
          "output_type": "execute_result",
          "data": {
            "text/plain": [
              "[<matplotlib.lines.Line2D at 0x7fa122fc06a0>]"
            ]
          },
          "metadata": {
            "tags": []
          },
          "execution_count": 18
        },
        {
          "output_type": "display_data",
          "data": {
            "image/png": "[encoded data removed]",
            "text/plain": [
              "<Figure size 432x288 with 1 Axes>"
            ]
          },
          "metadata": {
            "tags": []
          }
        }
      ]
    },
    {
      "cell_type": "markdown",
      "metadata": {
        "id": "hHBTeKde-VqF",
        "colab_type": "text"
      },
      "source": [
        "#### Try different alpha values"
      ]
    },
    {
      "cell_type": "code",
      "metadata": {
        "id": "rxgFUGcB6daU",
        "colab_type": "code",
        "outputId": "80eeea91-41ad-4ef7-b0d9-53e38662e716",
        "colab": {
          "base_uri": "https://localhost:8080/",
          "height": 364
        }
      },
      "source": [
        "ridge_alpha = np.logspace(0.00001, 5, num=20)\n",
        "train_error = []\n",
        "test_error = []\n",
        "alphas = []\n",
        "for a in ridge_alpha:\n",
        "    E_val_test, E_val_train = k_fold_cross_validation(fold, X, y, a)\n",
        "    train_error.append(E_val_train)\n",
        "    test_error.append(E_val_test)\n",
        "    alphas.append(a)"
      ],
      "execution_count": 0,
      "outputs": [
        {
          "output_type": "stream",
          "text": [
            "Alpha: 1.0000 Train average MSE: 21.8099 Test average MSE: 23.6350\n",
            "Alpha: 1.8330 Train average MSE: 21.8184 Test average MSE: 23.6398\n",
            "Alpha: 3.3599 Train average MSE: 21.8462 Test average MSE: 23.6608\n",
            "Alpha: 6.1586 Train average MSE: 21.9347 Test average MSE: 23.7373\n",
            "Alpha: 11.2886 Train average MSE: 22.2088 Test average MSE: 23.9908\n",
            "Alpha: 20.6917 Train average MSE: 23.0316 Test average MSE: 24.7778\n",
            "Alpha: 37.9275 Train average MSE: 25.4151 Test average MSE: 27.1012\n",
            "Alpha: 69.5203 Train average MSE: 31.9837 Test average MSE: 33.5773\n",
            "Alpha: 127.4292 Train average MSE: 48.5795 Test average MSE: 50.0526\n",
            "Alpha: 233.5750 Train average MSE: 84.8778 Test average MSE: 86.2218\n",
            "Alpha: 428.1379 Train average MSE: 149.4756 Test average MSE: 150.6914\n",
            "Alpha: 784.7676 Train average MSE: 239.1311 Test average MSE: 240.1989\n",
            "Alpha: 1438.4621 Train average MSE: 335.9593 Test average MSE: 336.8401\n",
            "Alpha: 2636.6701 Train average MSE: 420.5915 Test average MSE: 421.2626\n",
            "Alpha: 4832.9595 Train average MSE: 484.1115 Test average MSE: 484.5880\n",
            "Alpha: 8858.7108 Train average MSE: 527.1895 Test average MSE: 527.5141\n",
            "Alpha: 16237.8264 Train average MSE: 554.4180 Test average MSE: 554.6384\n",
            "Alpha: 29763.5866 Train average MSE: 570.7607 Test average MSE: 570.9159\n",
            "Alpha: 54556.0139 Train average MSE: 580.2154 Test average MSE: 580.3321\n",
            "Alpha: 100000.0000 Train average MSE: 585.5544 Test average MSE: 585.6492\n"
          ],
          "name": "stdout"
        }
      ]
    },
    {
      "cell_type": "code",
      "metadata": {
        "id": "fma92nPI7bmT",
        "colab_type": "code",
        "outputId": "a3e51f22-0f38-4c8b-f70a-e9740bb9e1e1",
        "colab": {
          "base_uri": "https://localhost:8080/",
          "height": 283
        }
      },
      "source": [
        "import matplotlib.pyplot as plt\n",
        "%matplotlib inline\n",
        "#plt.plot(alphas, train_error)\n",
        "plt.plot(alphas, test_error)"
      ],
      "execution_count": 0,
      "outputs": [
        {
          "output_type": "execute_result",
          "data": {
            "text/plain": [
              "[<matplotlib.lines.Line2D at 0x7fa122faa4a8>]"
            ]
          },
          "metadata": {
            "tags": []
          },
          "execution_count": 20
        },
        {
          "output_type": "display_data",
          "data": {
            "image/png": "[encoded data removed]",
            "text/plain": [
              "<Figure size 432x288 with 1 Axes>"
            ]
          },
          "metadata": {
            "tags": []
          }
        }
      ]
    },
    {
      "cell_type": "markdown",
      "metadata": {
        "id": "CyZupojP-NCM",
        "colab_type": "text"
      },
      "source": [
        "### Price Prediction"
      ]
    },
    {
      "cell_type": "code",
      "metadata": {
        "id": "V5EIPmOB7cJM",
        "colab_type": "code",
        "outputId": "4402cef1-08cb-41dc-a787-d3847c2e2efd",
        "colab": {
          "base_uri": "https://localhost:8080/",
          "height": 35
        }
      },
      "source": [
        "X_test = np.array([5, 0.5, 2, 0, 4, 8, 4, 6, 2, 2, 2, 4, 5.5]).reshape(1, -1)\n",
        "X_test_2 = poly.fit_transform(X_test)\n",
        "X_train = X_2\n",
        "y_train = y_2\n",
        "y_train_centered = y_train - np.mean(y_train) # centering the data so we do not need the intercept term \n",
        "\n",
        "scaler = preprocessing.StandardScaler().fit(X_train)\n",
        "X_train = scaler.transform(X_train)\n",
        "X_test_2 = scaler.transform(X_test_2)\n",
        "\n",
        "w = get_coeff_ridge_normaleq(X_train, y_train_centered, 1.0233 )\n",
        "prediction = np.dot(X_test_2, w) + np.mean(y_train)\n",
        "print(\"Predicted Price: \", \"{:1.4f}\".format(prediction[0][0]))"
      ],
      "execution_count": 0,
      "outputs": [
        {
          "output_type": "stream",
          "text": [
            "Predicted Price:  25.6270\n"
          ],
          "name": "stdout"
        }
      ]
    }
  ]
}
