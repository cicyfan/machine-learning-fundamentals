{
  "nbformat": 4,
  "nbformat_minor": 0,
  "metadata": {
    "kernelspec": {
      "display_name": "Python 3",
      "language": "python",
      "name": "python3"
    },
    "language_info": {
      "codemirror_mode": {
        "name": "ipython",
        "version": 3
      },
      "file_extension": ".py",
      "mimetype": "text/x-python",
      "name": "python",
      "nbconvert_exporter": "python",
      "pygments_lexer": "ipython3",
      "version": "3.7.2"
    },
    "colab": {
      "name": "5-breast-cancer-logistic-regression",
      "provenance": [],
      "collapsed_sections": [
        "8qQZWTCEorgk"
      ],
      "include_colab_link": true
    }
  },
  "cells": [
    {
      "cell_type": "markdown",
      "metadata": {
        "id": "view-in-github",
        "colab_type": "text"
      },
      "source": [
        "<a href=\"https://colab.research.google.com/github/cicyfan/machine-learning-fundamentals/blob/master/5-breast-cancer-logistic-regression.ipynb\" target=\"_parent\"><img src=\"https://colab.research.google.com/assets/colab-badge.svg\" alt=\"Open In Colab\"/></a>"
      ]
    },
    {
      "cell_type": "markdown",
      "metadata": {
        "id": "vaYA-vg1Ay4C",
        "colab_type": "text"
      },
      "source": [
        "# Logistic Regression \n",
        "\n",
        "In the assignment, you will use gradient ascent to find the weights for the logistic regression problem.   \n",
        "\n",
        "As an example, we will use the widely-used breast cancer data set.  This data set is described here:\n",
        "\n",
        "https://archive.ics.uci.edu/ml/machine-learning-databases/breast-cancer-wisconsin\n",
        "\n",
        "Each sample is a collection of features that were manually recorded by a physician upon inspecting a sample of cells from fine needle aspiration.  The goal is to detect if the cells are benign or malignant."
      ]
    },
    {
      "cell_type": "markdown",
      "metadata": {
        "id": "MmB-GJY-Ay4J",
        "colab_type": "text"
      },
      "source": [
        "## Step 1:  Getting, preprocessing, and understanding the dataset"
      ]
    },
    {
      "cell_type": "markdown",
      "metadata": {
        "id": "ldheGVi7Ay4L",
        "colab_type": "text"
      },
      "source": [
        "### Importing the standard libraries"
      ]
    },
    {
      "cell_type": "code",
      "metadata": {
        "id": "_dsMpIx1Ay4M",
        "colab_type": "code",
        "colab": {}
      },
      "source": [
        "# Importing important libraries\n",
        "from sklearn.datasets import load_breast_cancer # taking included data set from Sklearn http://scikit-learn.org/stable/modules/generated/sklearn.datasets.load_breast_cancer.html\n",
        "from sklearn import preprocessing # preprossing is what we do with the data before we run the learning algorithm\n",
        "from sklearn.model_selection import train_test_split \n",
        "import numpy as np\n",
        "import math\n",
        "\n",
        "import matplotlib.pyplot as plt\n",
        "%matplotlib inline"
      ],
      "execution_count": 0,
      "outputs": []
    },
    {
      "cell_type": "markdown",
      "metadata": {
        "id": "J-wgX90DAy4S",
        "colab_type": "text"
      },
      "source": [
        "### Importing the dataset"
      ]
    },
    {
      "cell_type": "code",
      "metadata": {
        "id": "6abuC_gAAy4T",
        "colab_type": "code",
        "colab": {}
      },
      "source": [
        "# Loading the dataset\n",
        "cancer = load_breast_cancer()\n",
        "y = cancer.target\n",
        "X = cancer.data"
      ],
      "execution_count": 0,
      "outputs": []
    },
    {
      "cell_type": "code",
      "metadata": {
        "id": "BnkjHatRAy4Z",
        "colab_type": "code",
        "outputId": "d556910a-7f54-4e1f-e7f5-71cd18b40858",
        "colab": {
          "base_uri": "https://localhost:8080/",
          "height": 52
        }
      },
      "source": [
        "# Printing the shape of data (X) and target (Y) values \n",
        "print(X.shape)\n",
        "print(y.shape)"
      ],
      "execution_count": 0,
      "outputs": [
        {
          "output_type": "stream",
          "text": [
            "(569, 30)\n",
            "(569,)\n"
          ],
          "name": "stdout"
        }
      ]
    },
    {
      "cell_type": "markdown",
      "metadata": {
        "id": "hLJS_3yzAy4d",
        "colab_type": "text"
      },
      "source": [
        "### Data Pre-Processing\n",
        "#### Splitting the data into train and test before scaling the dataset\n"
      ]
    },
    {
      "cell_type": "code",
      "metadata": {
        "id": "qZXFTeOzAy4e",
        "colab_type": "code",
        "colab": {}
      },
      "source": [
        "# train_test_split to split the data \n",
        "X_train, X_test, y_train, y_test = train_test_split(X, y,random_state=42)"
      ],
      "execution_count": 0,
      "outputs": []
    },
    {
      "cell_type": "markdown",
      "metadata": {
        "id": "lVmQbLhfAy4m",
        "colab_type": "text"
      },
      "source": [
        "#### Scale the data since we will be using gradient ascent"
      ]
    },
    {
      "cell_type": "code",
      "metadata": {
        "id": "qAA-h28AAy4o",
        "colab_type": "code",
        "colab": {}
      },
      "source": [
        "scaler = preprocessing.StandardScaler().fit(X_train)\n",
        "X_train = scaler.transform(X_train)\n",
        "X_test = scaler.transform(X_test)"
      ],
      "execution_count": 0,
      "outputs": []
    },
    {
      "cell_type": "code",
      "metadata": {
        "id": "lufrExiGAy4v",
        "colab_type": "code",
        "outputId": "aff6df17-7706-4557-e0fc-32f68d3cc814",
        "colab": {
          "base_uri": "https://localhost:8080/",
          "height": 52
        }
      },
      "source": [
        "# TODO - Print the shape of x_train and y_train \n",
        "print(X_train.shape) # It should print (426, 30)\n",
        "print(y_train.shape) # It should print (426,)"
      ],
      "execution_count": 0,
      "outputs": [
        {
          "output_type": "stream",
          "text": [
            "(426, 30)\n",
            "(426,)\n"
          ],
          "name": "stdout"
        }
      ]
    },
    {
      "cell_type": "markdown",
      "metadata": {
        "id": "T0kTCnPIAy42",
        "colab_type": "text"
      },
      "source": [
        "#### Adding a column of ones to the  matrices $X_{train}$ and  $X_{test}$\n",
        "After adding a column of ones $X_{train}=\\left[\\begin{matrix}\n",
        "1& x^{(1)}_1& x^{(1)}_2 &\\ldots& x^{(1)}_d\\\\\n",
        "1& x^{(2)}_1& x^{(2)}_2 &\\ldots& x^{(2)}_d\\\\\n",
        "\\vdots & \\vdots &\\vdots & & \\vdots \\\\\n",
        "1& x^{(N')}_1& x^{(N')}_2 &\\ldots& x^{(N')}_d\\\\\n",
        "\\end{matrix}\\right]$\n",
        "\n",
        "Similarly for $X_{test}$"
      ]
    },
    {
      "cell_type": "code",
      "metadata": {
        "id": "CzFyLfYMAy43",
        "colab_type": "code",
        "outputId": "51480954-e127-4548-e01b-790af9672acf",
        "colab": {
          "base_uri": "https://localhost:8080/",
          "height": 247
        }
      },
      "source": [
        "# Append a column of ones to x_train \n",
        "\n",
        "# Step 1: Create a column vector of ones (i.e. a vector of shape N',1)\n",
        "ones = np.ones(X_train.shape[0]).reshape((X_train.shape[0], 1))\n",
        "# Step 2: Append a column of ones in the beginning of x_train\n",
        "X_train = np.hstack((ones, X_train))\n",
        "\n",
        "# Now do the same for the test data\n",
        "# Step 1: Create a column vector of ones (i.e. a vector of shape N\",1)\n",
        "ones = np.ones(X_test.shape[0]).reshape((X_test.shape[0], 1))\n",
        "# Stemp 2: Append a column of ones in the beginning of x_test\n",
        "X_test = np.hstack((ones, X_test))\n",
        "\n",
        "\n",
        "# We can check that everything worked correctly by:\n",
        "# Printing out the new dimensions\n",
        "print(\"The trainng data has dimensions: \", X_train.shape, \". The testing data has dimensions: \",X_test.shape)\n",
        "# Looking at the first two rows of X_train to check everything worked as expected\n",
        "print(X_train[0:2])"
      ],
      "execution_count": 0,
      "outputs": [
        {
          "output_type": "stream",
          "text": [
            "The trainng data has dimensions:  (426, 31) . The testing data has dimensions:  (143, 31)\n",
            "[[ 1.         -0.34913849 -1.43851335 -0.41172595 -0.39047943 -1.86366229\n",
            "  -1.26860704 -0.82617052 -0.95286585 -1.72936805 -0.9415409  -0.86971355\n",
            "  -1.35865347 -0.83481506 -0.57230673 -0.74586846 -0.65398319 -0.52583524\n",
            "  -0.94677147 -0.53781728 -0.63449458 -0.54268486 -1.65565452 -0.58986401\n",
            "  -0.52555985 -1.51066925 -0.89149994 -0.75021715 -0.91671059 -0.92508585\n",
            "  -0.80841115]\n",
            " [ 1.         -0.20468665  0.31264011 -0.13367256 -0.27587995  1.07807258\n",
            "   0.86354605  0.72631375  0.89844062  1.17876963  1.47437716 -0.04022275\n",
            "  -0.50962253  0.10947722 -0.13472838 -0.52489487 -0.14934475  0.07460028\n",
            "   0.23747244 -0.43028253  0.08289146  0.04148684  0.68989862  0.19412774\n",
            "  -0.05193356  1.12941497  0.92394223  1.22221738  1.43655962  1.14955889\n",
            "   1.56911143]]\n"
          ],
          "name": "stdout"
        }
      ]
    },
    {
      "cell_type": "markdown",
      "metadata": {
        "id": "cWCh5W26Ay47",
        "colab_type": "text"
      },
      "source": [
        "### Understanding the dataset"
      ]
    },
    {
      "cell_type": "code",
      "metadata": {
        "id": "Sju67JiaAy49",
        "colab_type": "code",
        "outputId": "af2b6c1a-db11-4dfd-f6a8-2a6975ec6743",
        "colab": {
          "base_uri": "https://localhost:8080/",
          "height": 176
        }
      },
      "source": [
        "# Printing the names of all the features\n",
        "print(cancer.feature_names)"
      ],
      "execution_count": 0,
      "outputs": [
        {
          "output_type": "stream",
          "text": [
            "['mean radius' 'mean texture' 'mean perimeter' 'mean area'\n",
            " 'mean smoothness' 'mean compactness' 'mean concavity'\n",
            " 'mean concave points' 'mean symmetry' 'mean fractal dimension'\n",
            " 'radius error' 'texture error' 'perimeter error' 'area error'\n",
            " 'smoothness error' 'compactness error' 'concavity error'\n",
            " 'concave points error' 'symmetry error' 'fractal dimension error'\n",
            " 'worst radius' 'worst texture' 'worst perimeter' 'worst area'\n",
            " 'worst smoothness' 'worst compactness' 'worst concavity'\n",
            " 'worst concave points' 'worst symmetry' 'worst fractal dimension']\n"
          ],
          "name": "stdout"
        }
      ]
    },
    {
      "cell_type": "code",
      "metadata": {
        "id": "jDTjRBuSAy5B",
        "colab_type": "code",
        "colab": {}
      },
      "source": [
        "# You can add your own code here to better understand the dataset"
      ],
      "execution_count": 0,
      "outputs": []
    },
    {
      "cell_type": "markdown",
      "metadata": {
        "id": "dq2MAPdeAy5F",
        "colab_type": "text"
      },
      "source": [
        "\n",
        "# Step 2: Fitting the model\n",
        "## Implementing Logistic Regression Using Gradient Ascent"
      ]
    },
    {
      "cell_type": "markdown",
      "metadata": {
        "id": "7o_ipXypAy5G",
        "colab_type": "text"
      },
      "source": [
        "\n",
        " Before writing the gradient ascent code, first write some helpful functions"
      ]
    },
    {
      "cell_type": "markdown",
      "metadata": {
        "id": "RqoSnXSkAy5Q",
        "colab_type": "text"
      },
      "source": [
        "\n",
        " \n",
        "### Sigmoid($z$)\n",
        "The first function you will write is sigmoid($z$)\n",
        "\n",
        "sigmoid($z$) takes as input a column vector of real numbers, $z^T = [z_1, z_2, ..., z_{N'}]$, where $N'$ is the number of  examples\n",
        "\n",
        "It should produce as output a column vector $\\left[\\frac{1}{1+e^{-z_1}},\\frac{1}{1+e^{-z_2}},...,\\frac{1}{1+e^{-z_{N'}}}\\right]^T$"
      ]
    },
    {
      "cell_type": "code",
      "metadata": {
        "id": "WxfNENeOAy5R",
        "colab_type": "code",
        "colab": {}
      },
      "source": [
        "# TODO - Write the sigmoid function (z can be a scalar or a vector)\n",
        "def sigmoid(z):\n",
        "  return 1/(1 + np.exp(-z))  "
      ],
      "execution_count": 0,
      "outputs": []
    },
    {
      "cell_type": "code",
      "metadata": {
        "id": "U7aahOfzAy5X",
        "colab_type": "code",
        "outputId": "cdc46b83-061f-4415-928a-0d59e98f5846",
        "colab": {
          "base_uri": "https://localhost:8080/",
          "height": 34
        }
      },
      "source": [
        "# VERIFY - Sigmoid of 0 should be equal to half\n",
        "print(sigmoid(0))"
      ],
      "execution_count": 0,
      "outputs": [
        {
          "output_type": "stream",
          "text": [
            "0.5\n"
          ],
          "name": "stdout"
        }
      ]
    },
    {
      "cell_type": "markdown",
      "metadata": {
        "id": "LOQ2YPNnAy5d",
        "colab_type": "text"
      },
      "source": [
        "### Initializing ${\\bf w}$\n",
        "For testing the next functions, we create a coefficient vector, ${\\bf w}$.\n",
        "We will initialize the coeffients to be $0$, i.e. ${\\bf w}^T = [0,0,\\ldots ,0]$ (We could have initialized ${\\bf w}$ to any values.)"
      ]
    },
    {
      "cell_type": "code",
      "metadata": {
        "id": "j3sZKsIhAy5j",
        "colab_type": "code",
        "outputId": "2323be23-0a4e-4887-eef8-1823d1d4369a",
        "colab": {
          "base_uri": "https://localhost:8080/",
          "height": 34
        }
      },
      "source": [
        "# Initialize parameters w\n",
        "w = np.zeros((X_train.shape[1], 1))\n",
        "print(w.shape)"
      ],
      "execution_count": 0,
      "outputs": [
        {
          "output_type": "stream",
          "text": [
            "(31, 1)\n"
          ],
          "name": "stdout"
        }
      ]
    },
    {
      "cell_type": "markdown",
      "metadata": {
        "id": "nSKYzITrAy5v",
        "colab_type": "text"
      },
      "source": [
        "### Our hypothesis, $h({\\bf x})$\n",
        "The next  function to write is our hypothesis function. \n",
        "\n",
        "For example if our design matrix $X$ consists of single example $X=[1,x_1,x_2,\\ldots,x_d]$ and  weights ${\\bf w}^T=[w_0,w_2,\\ldots, w_d]$, it returns $h({\\bf x})=\\frac{1}{1+e^{-\\left({w_{0}\\cdot 1 +w_1\\cdot x_1+\\cdots w_d\\cdot x_d}\\right)}}$\n",
        "\n",
        "If given a  matrix consisting of $N'$ examples \n",
        "$X=\\left[\\begin{matrix}\n",
        "1& x^{(1)}_1& x^{(1)}_2 &\\ldots& x^{(1)}_d\\\\\n",
        "1& x^{(2)}_1& x^{(2)}_2 &\\ldots& x^{(2)}_d\\\\\n",
        "\\vdots & \\vdots &\\vdots & & \\vdots \\\\\n",
        "1& x^{(N')}_1& x^{(N')}_2 &\\ldots& x^{(N')}_d\\\\\n",
        "\\end{matrix}\\right]$\n",
        "and  weights ${\\bf w}^T=[w_0,w_2,\\ldots, w_d]$, the function returns a column vector\n",
        "$[h({\\bf x}^{(1)}),h({\\bf x}^{(2)},\\ldots, h({\\bf x}^{(N')}]^T$"
      ]
    },
    {
      "cell_type": "code",
      "metadata": {
        "id": "HS453ZU3Ay5w",
        "colab_type": "code",
        "colab": {}
      },
      "source": [
        "# predict the probability that a patient has cancer \n",
        "# TODO - Write the hypothesis function \n",
        "def hypothesis(X , w):\n",
        "    return sigmoid(np.dot(X, w))"
      ],
      "execution_count": 0,
      "outputs": []
    },
    {
      "cell_type": "markdown",
      "metadata": {
        "id": "YWlGDpLGAy51",
        "colab_type": "text"
      },
      "source": [
        "Before moving on, do a quick check that your function can accpet a matrix as an argument. "
      ]
    },
    {
      "cell_type": "code",
      "metadata": {
        "id": "Ra2uTztKAy52",
        "colab_type": "code",
        "outputId": "185c38f8-b5d0-467c-96be-1926acf1f9c7",
        "colab": {
          "base_uri": "https://localhost:8080/",
          "height": 52
        }
      },
      "source": [
        "# Compute y_hat using our training examples and w (w is still set to zero).  \n",
        "# This is just a preliminary test of the hypotheis function\n",
        "yhat = hypothesis(X_train, w)\n",
        "\n",
        "# print the sizes of yhat and y as a first check that the function performed correctly\n",
        "print(yhat.shape) # this should return (426, 1)\n",
        "print(y_train.shape) # this should return (426,)"
      ],
      "execution_count": 0,
      "outputs": [
        {
          "output_type": "stream",
          "text": [
            "(426, 1)\n",
            "(426,)\n"
          ],
          "name": "stdout"
        }
      ]
    },
    {
      "cell_type": "markdown",
      "metadata": {
        "id": "DCmeYbj0Ay5-",
        "colab_type": "text"
      },
      "source": [
        "### Log-Likelihood Function.\n",
        "Write the code to calculate the log likelihood function $\\ell({\\bf w})=\n",
        "\\sum_{i=1}^{N'}y^{(i)}\\ln(h({\\bf x}^{(i)})) +(1- y^{(i)})\\ln(1-h({\\bf x}^{(i)}))$\n",
        "\n",
        "The input is a matrix consisting of $N'$ examples $X=\\left[\\begin{matrix}\n",
        "1& x^{(1)}_1& x^{(1)}_2 &\\ldots& x^{(1)}_d\\\\\n",
        "1& x^{(2)}_1& x^{(2)}_2 &\\ldots& x^{(2)}_d\\\\\n",
        "\\vdots & \\vdots &\\vdots & & \\vdots \\\\\n",
        "1& x^{(N')}_1& x^{(N')}_2 &\\ldots& x^{(N')}_d\\\\\n",
        "\\end{matrix}\\right]$\n",
        "and a column vector ${\\bf y}^T=[y^{(1)},y^{(2)},\\dots,y^{(N')}]$ of labels for $X$.\n",
        "\n",
        "The output is $\\ell({\\bf w})$"
      ]
    },
    {
      "cell_type": "code",
      "metadata": {
        "id": "xAk8rQd6Ay5_",
        "colab_type": "code",
        "colab": {}
      },
      "source": [
        "# TODO - Write the log likelihood function \n",
        "def log_likelihood(X , y , w ):\n",
        "    hx = hypothesis(X, w)\n",
        "    y = y.reshape(y.shape[0], 1)\n",
        "    return np.sum(y * np.log(hx) + ((1-y) * np.log(1-hx)))"
      ],
      "execution_count": 0,
      "outputs": []
    },
    {
      "cell_type": "markdown",
      "metadata": {
        "id": "5C3n_8qLAy6E",
        "colab_type": "text"
      },
      "source": [
        "Before moving on, do a quick check of your log_likelihood function"
      ]
    },
    {
      "cell_type": "code",
      "metadata": {
        "id": "goQlBy1PAy6I",
        "colab_type": "code",
        "outputId": "e920cb4b-e108-4b0e-cf1d-572485af7c85",
        "colab": {
          "base_uri": "https://localhost:8080/",
          "height": 34
        }
      },
      "source": [
        "# VERIFY - The value should be equal to -295.2806989185367.\n",
        "print(log_likelihood(X_train,y_train,w))"
      ],
      "execution_count": 0,
      "outputs": [
        {
          "output_type": "stream",
          "text": [
            "-295.2806989185367\n"
          ],
          "name": "stdout"
        }
      ]
    },
    {
      "cell_type": "markdown",
      "metadata": {
        "id": "Syh9HTQTAy6Q",
        "colab_type": "text"
      },
      "source": [
        "# Gradient Ascent\n",
        "Now write the code to perform gradient ascent.  You will use the update rule from the lecture notes."
      ]
    },
    {
      "cell_type": "code",
      "metadata": {
        "id": "-Mj3SToJAy6S",
        "colab_type": "code",
        "colab": {}
      },
      "source": [
        "# TODO - Write the gradient ascent function \n",
        "def Logistic_Regresion_Gradient_Ascent(X, y, learning_rate, num_iters):\n",
        "    # For every 100 iterations, store the log_likelihood for the current w\n",
        "    # Initializing log_likelihood to be an empty list  \n",
        "    log_likelihood_values = []\n",
        "    # Initialize w to be a zero vector of shape x_train.shape[1],1\n",
        "    w = np.zeros((X.shape[1], 1))\n",
        "    # Initialize N to the number of training examples\n",
        "    N = X.shape[0] \n",
        "    y = y.reshape(y.shape[0], 1)\n",
        "    ## TODO \n",
        "    # for i in range (num_iters):\n",
        "    #     y_hat = hypothesis(X, w)\n",
        "    #     temp = 0\n",
        "    #     for j in range (0,N):\n",
        "    #         temp += (y[j] - y_hat[j]) * X[j]\n",
        "    #     for k in range (0,w.shape[0]):\n",
        "    #         w[k] = w[k] + (learning_rate / N) * temp[k]\n",
        "    for i in range(num_iters):\n",
        "        hX = hypothesis(X, w)\n",
        "        gradient = (learning_rate/N) * np.dot(X.T, y-hX)\n",
        "        w =  w + gradient\n",
        "        if (i % 100) == 0:\n",
        "            log_likelihood_values.append(log_likelihood(X,y,w))\n",
        "        \n",
        "    return w, log_likelihood_values"
      ],
      "execution_count": 0,
      "outputs": []
    },
    {
      "cell_type": "markdown",
      "metadata": {
        "id": "Fy1bU8n8Ay6Z",
        "colab_type": "text"
      },
      "source": [
        "### After completing the code above, run the following"
      ]
    },
    {
      "cell_type": "code",
      "metadata": {
        "id": "qTXtX3nsAy6Z",
        "colab_type": "code",
        "outputId": "5df7db38-f9b5-46a9-ec91-167bb0c1db6c",
        "colab": {
          "base_uri": "https://localhost:8080/",
          "height": 161
        }
      },
      "source": [
        "learning_rate = 0.5\n",
        "num_iters = 5000 # The number of iteratins to run the gradient ascent algorithm\n",
        "\n",
        "w, log_likelihood_values = Logistic_Regresion_Gradient_Ascent(X_train, y_train, learning_rate, num_iters)\n",
        "print(w.T)\n",
        "print(log_likelihood_values)"
      ],
      "execution_count": 0,
      "outputs": [
        {
          "output_type": "stream",
          "text": [
            "[[-0.1056701  -0.03553097 -0.0536691   0.17221516 -0.31116366 -0.45434972\n",
            "   2.75131896 -1.30570826 -3.03314808  1.16803283 -0.85636742 -3.72793978\n",
            "   0.72266145 -0.80953786 -2.47051644 -0.40297532  0.53078335  0.03099043\n",
            "  -1.27545053  1.31001975  2.1018566  -1.64716699 -2.84431473 -0.20035616\n",
            "  -1.77971341 -0.16157425  0.73553297 -2.45713669 -1.31520556 -2.99931319\n",
            "  -0.38232592]]\n",
            "[-104.3456100525905, -30.613421040599732, -26.679954427411666, -24.764787699393008, -23.544913930501746, -22.66861864092934, -21.995874538657674, -21.45672990771387, -21.00947210360731, -20.62725194414171, -20.29274327718213, -19.99462548460866, -19.725219641902154, -19.479089646022707, -19.252242101930726, -19.041653725735593, -18.84497827588524, -18.66035663838307, -18.48628923971797, -18.32154774276664, -18.16511236690654, -18.0161264094924, -17.873862603144914, -17.73769779540659, -17.607093594208827, -17.48158136455062, -17.360750448842474, -17.24423880983064, -17.131725517984442, -17.022924660136155, -16.91758035547014, -16.815462643191935, -16.716364062948884, -16.620096790720158, -16.526490223816662, -16.435388931827738, -16.346650907929998, -16.260146068414887, -16.17575495866353, -16.093367631862144, -16.012882673077193, -15.934206346302469, -15.857251846063125, -15.781938638342012, -15.708191878155379, -15.635941893182661, -15.565123724547375, -15.495676717234817, -15.427544153774665, -15.360672925764224]\n"
          ],
          "name": "stdout"
        }
      ]
    },
    {
      "cell_type": "markdown",
      "metadata": {
        "id": "_52QQWSzAy6c",
        "colab_type": "text"
      },
      "source": [
        "# Plotting Likelihood v/s Number of Iterations."
      ]
    },
    {
      "cell_type": "code",
      "metadata": {
        "id": "nFKAZETfAy6d",
        "colab_type": "code",
        "outputId": "1b1840cf-95e1-4036-9bb1-580416daa0d1",
        "colab": {
          "base_uri": "https://localhost:8080/",
          "height": 294
        }
      },
      "source": [
        "# Run this cell to plot Likelihood v/s Number of Iterations.\n",
        "iters = np.array(range(0,num_iters,100))\n",
        "plt.plot(iters,log_likelihood_values,'.-',color='green')\n",
        "plt.xlabel('Number of iterations')\n",
        "plt.ylabel('Likelihood')\n",
        "plt.title(\"Likelihood vs Number of Iterations.\")\n",
        "plt.grid()"
      ],
      "execution_count": 0,
      "outputs": [
        {
          "output_type": "display_data",
          "data": {
            "image/png": "[encoded data removed]",
            "text/plain": [
              "<Figure size 432x288 with 1 Axes>"
            ]
          },
          "metadata": {
            "tags": []
          }
        }
      ]
    },
    {
      "cell_type": "markdown",
      "metadata": {
        "id": "1oEFmcopAy6g",
        "colab_type": "text"
      },
      "source": [
        "You should see the likelihood increasing as number of Iterations increase."
      ]
    },
    {
      "cell_type": "markdown",
      "metadata": {
        "id": "Iq_lOFDfAy6h",
        "colab_type": "text"
      },
      "source": [
        "### The rest of your code goes here"
      ]
    },
    {
      "cell_type": "markdown",
      "metadata": {
        "id": "Vd0Qow_vAy6o",
        "colab_type": "text"
      },
      "source": [
        "# Step 3: Evaluating your model"
      ]
    },
    {
      "cell_type": "code",
      "metadata": {
        "id": "pglF6MgHAy6p",
        "colab_type": "code",
        "colab": {}
      },
      "source": [
        "def confusion_matrix(test_prediction, y_test):\n",
        "  TP = np.sum(np.logical_and(test_prediction == 1, y_test == 1))\n",
        "  TN = np.sum(np.logical_and(test_prediction == 0, y_test == 0))\n",
        "  FP = np.sum(np.logical_and(test_prediction == 1, y_test == 0))\n",
        "  FN = np.sum(np.logical_and(test_prediction == 0, y_test == 1))\n",
        "\n",
        "  print('TP: %i, FP: %i, TN: %i, FN: %i' % (TP,FN,FP,TN))\n",
        "  precision = TP/(TP+FP)\n",
        "  print(\"precision: \", precision)\n",
        "  recall = TP/(TP+FN)\n",
        "  print(\"recall: \", recall)\n",
        "  f1 = (2*precision*recall)/(precision+recall)\n",
        "  print(\"F1: \", f1)\n",
        "\n",
        "  TPR = TP/(TP+FN)\n",
        "  FPR = FP/(TN+FP)\n",
        "  print(\"TPR:\",TPR,\"FPR\",FPR)"
      ],
      "execution_count": 0,
      "outputs": []
    },
    {
      "cell_type": "code",
      "metadata": {
        "id": "K9BAQlobpLqN",
        "colab_type": "code",
        "outputId": "02206f10-7846-46ea-d1a9-482c640006f8",
        "colab": {
          "base_uri": "https://localhost:8080/",
          "height": 105
        }
      },
      "source": [
        "threshold = 0.5\n",
        "test_prediction = hypothesis(X_test, w)\n",
        "test_prediction[test_prediction > threshold] = 1\n",
        "test_prediction[test_prediction < threshold] = 0\n",
        "y_test = y_test.reshape(y_test.shape[0],1)\n",
        "\n",
        "confusion_matrix(test_prediction, y_test)"
      ],
      "execution_count": 0,
      "outputs": [
        {
          "output_type": "stream",
          "text": [
            "TP: 86, FP: 3, TN: 1, FN: 53\n",
            "precision:  0.9885057471264368\n",
            "recall:  0.9662921348314607\n",
            "F1:  0.9772727272727273\n",
            "TPR: 0.9662921348314607 FPR 0.018518518518518517\n"
          ],
          "name": "stdout"
        }
      ]
    },
    {
      "cell_type": "markdown",
      "metadata": {
        "id": "IIkbHxtreaEH",
        "colab_type": "text"
      },
      "source": [
        "## Parameter Tuning"
      ]
    },
    {
      "cell_type": "code",
      "metadata": {
        "id": "-WbfEofYeefI",
        "colab_type": "code",
        "outputId": "de59c524-2b5f-45d5-c849-f2a93581fff1",
        "colab": {
          "base_uri": "https://localhost:8080/",
          "height": 1000
        }
      },
      "source": [
        "learning_rate = [0.05, 0.1, 0.15, 0.2, 0.25, 0.5, 0.75, 1, 1.25, 1.5]\n",
        "num_iters = 5000 # The number of iteratins to run the gradient ascent algorithm\n",
        "threshold = 0.5\n",
        "for l in learning_rate:\n",
        "  w, log_likelihood_values = Logistic_Regresion_Gradient_Ascent(X_train, y_train, l, num_iters)\n",
        "  #print(w.T)\n",
        "  #print(log_likelihood_values)\n",
        "  print(l)\n",
        "  test_prediction = hypothesis(X_test, w)\n",
        "  test_prediction[test_prediction > threshold] = 1\n",
        "  test_prediction[test_prediction < threshold] = 0\n",
        "  y_test = y_test.reshape(y_test.shape[0],1)\n",
        "  confusion_matrix(test_prediction, y_test)"
      ],
      "execution_count": 0,
      "outputs": [
        {
          "output_type": "stream",
          "text": [
            "0.05\n",
            "TP: 88, FP: 1, TN: 1, FN: 53\n",
            "precision:  0.9887640449438202\n",
            "recall:  0.9887640449438202\n",
            "F1:  0.9887640449438202\n",
            "TPR: 0.9887640449438202 FPR 0.018518518518518517\n",
            "0.1\n",
            "TP: 87, FP: 2, TN: 1, FN: 53\n",
            "precision:  0.9886363636363636\n",
            "recall:  0.9775280898876404\n",
            "F1:  0.983050847457627\n",
            "TPR: 0.9775280898876404 FPR 0.018518518518518517\n",
            "0.15\n",
            "TP: 87, FP: 2, TN: 1, FN: 53\n",
            "precision:  0.9886363636363636\n",
            "recall:  0.9775280898876404\n",
            "F1:  0.983050847457627\n",
            "TPR: 0.9775280898876404 FPR 0.018518518518518517\n",
            "0.2\n",
            "TP: 87, FP: 2, TN: 1, FN: 53\n",
            "precision:  0.9886363636363636\n",
            "recall:  0.9775280898876404\n",
            "F1:  0.983050847457627\n",
            "TPR: 0.9775280898876404 FPR 0.018518518518518517\n",
            "0.25\n",
            "TP: 87, FP: 2, TN: 1, FN: 53\n",
            "precision:  0.9886363636363636\n",
            "recall:  0.9775280898876404\n",
            "F1:  0.983050847457627\n",
            "TPR: 0.9775280898876404 FPR 0.018518518518518517\n",
            "0.5\n",
            "TP: 86, FP: 3, TN: 1, FN: 53\n",
            "precision:  0.9885057471264368\n",
            "recall:  0.9662921348314607\n",
            "F1:  0.9772727272727273\n",
            "TPR: 0.9662921348314607 FPR 0.018518518518518517\n",
            "0.75\n",
            "TP: 86, FP: 3, TN: 1, FN: 53\n",
            "precision:  0.9885057471264368\n",
            "recall:  0.9662921348314607\n",
            "F1:  0.9772727272727273\n",
            "TPR: 0.9662921348314607 FPR 0.018518518518518517\n",
            "1\n",
            "TP: 86, FP: 3, TN: 1, FN: 53\n",
            "precision:  0.9885057471264368\n",
            "recall:  0.9662921348314607\n",
            "F1:  0.9772727272727273\n",
            "TPR: 0.9662921348314607 FPR 0.018518518518518517\n",
            "1.25\n",
            "TP: 86, FP: 3, TN: 1, FN: 53\n",
            "precision:  0.9885057471264368\n",
            "recall:  0.9662921348314607\n",
            "F1:  0.9772727272727273\n",
            "TPR: 0.9662921348314607 FPR 0.018518518518518517\n",
            "1.5\n",
            "TP: 85, FP: 4, TN: 1, FN: 53\n",
            "precision:  0.9883720930232558\n",
            "recall:  0.9550561797752809\n",
            "F1:  0.9714285714285714\n",
            "TPR: 0.9550561797752809 FPR 0.018518518518518517\n"
          ],
          "name": "stdout"
        }
      ]
    },
    {
      "cell_type": "markdown",
      "metadata": {
        "id": "8qQZWTCEorgk",
        "colab_type": "text"
      },
      "source": [
        "# Code for Written Answers\n"
      ]
    },
    {
      "cell_type": "markdown",
      "metadata": {
        "id": "vq7t0VNl-Fvd",
        "colab_type": "text"
      },
      "source": [
        "##q1"
      ]
    },
    {
      "cell_type": "code",
      "metadata": {
        "id": "V-KMslyyoqyk",
        "colab_type": "code",
        "outputId": "b9f79d83-1c8b-4562-e966-294274e0c873",
        "colab": {
          "base_uri": "https://localhost:8080/",
          "height": 123
        }
      },
      "source": [
        "threshold = 0.5\n",
        "y = np.array([0,0,0,0,1,1,1,1])\n",
        "hx = np.array([0.502,0.003,0.261,0.049,0.840,0.852,0.634,0.939])\n",
        "prediction = np.zeros(hx.size)\n",
        "\n",
        "prediction[hx > threshold] = 1\n",
        "prediction[hx < threshold] = 0\n",
        "\n",
        "confusion_matrix(prediction, y)\n",
        "print(prediction, labels)"
      ],
      "execution_count": 0,
      "outputs": [
        {
          "output_type": "stream",
          "text": [
            "TP: 4, FP: 0, TN: 1, FN: 3\n",
            "precision:  0.8\n",
            "recall:  1.0\n",
            "F1:  0.888888888888889\n",
            "TPR: 1.0 FPR 0.25\n",
            "[1. 0. 0. 0. 1. 1. 1. 1.] [0 1 0 1 1]\n"
          ],
          "name": "stdout"
        }
      ]
    },
    {
      "cell_type": "code",
      "metadata": {
        "id": "1FKwtRslp2rh",
        "colab_type": "code",
        "outputId": "8f81253c-2af6-4225-ce3f-fb16c77a4339",
        "colab": {
          "base_uri": "https://localhost:8080/",
          "height": 286
        }
      },
      "source": [
        "import matplotlib.pyplot as plt\n",
        "%matplotlib inline\n",
        "x1 = np.array([0.49,1.69,0.04,1,0.16,0.25,0.49,0.04])\n",
        "x2 = np.array([0.09,0.04,0.64,0.16,0.09,0,0,0.01])\n",
        "labels = np.array([0,0,0,0,1,1,1,1])\n",
        "\n",
        "\n",
        "plt.scatter(x1, x2, c=['red' if l == 0 else 'blue' for l in labels])\n",
        "\n",
        "\n",
        "x = np.linspace(-1,2,100)  \n",
        "y =[0.4-1*i for i in x]\n",
        "plt.plot(x, y)\n",
        "\n",
        "plt.ylim(-0.1,1)\n",
        "plt.xlim(-0.01, x1.max()*1.2)"
      ],
      "execution_count": 0,
      "outputs": [
        {
          "output_type": "execute_result",
          "data": {
            "text/plain": [
              "(-0.01, 2.028)"
            ]
          },
          "metadata": {
            "tags": []
          },
          "execution_count": 422
        },
        {
          "output_type": "display_data",
          "data": {
            "image/png": "[encoded data removed]",
            "text/plain": [
              "<Figure size 432x288 with 1 Axes>"
            ]
          },
          "metadata": {
            "tags": []
          }
        }
      ]
    },
    {
      "cell_type": "code",
      "metadata": {
        "id": "sNj2s4etlCkx",
        "colab_type": "code",
        "colab": {}
      },
      "source": [
        "def cross_entropy(labels, hx):\n",
        "  return np.sum(-(labels*np.log(hx) + (1-labels)*np.log(1-hx)))"
      ],
      "execution_count": 0,
      "outputs": []
    },
    {
      "cell_type": "code",
      "metadata": {
        "id": "DnvWGAakn2uM",
        "colab_type": "code",
        "outputId": "b9932d6c-5f62-4220-e257-affe263ee5d3",
        "colab": {
          "base_uri": "https://localhost:8080/",
          "height": 34
        }
      },
      "source": [
        "cross_entropy(labels, hx)"
      ],
      "execution_count": 0,
      "outputs": [
        {
          "output_type": "execute_result",
          "data": {
            "text/plain": [
              "1.9060265490648494"
            ]
          },
          "metadata": {
            "tags": []
          },
          "execution_count": 424
        }
      ]
    },
    {
      "cell_type": "code",
      "metadata": {
        "colab_type": "code",
        "outputId": "43cd1aa5-7985-4b7a-c9dd-d318fd92e0d3",
        "id": "WsWJK6Jq5WG8",
        "colab": {
          "base_uri": "https://localhost:8080/",
          "height": 158
        }
      },
      "source": [
        "ones = np.ones(x1.shape[0]).reshape((x1.shape[0], 1))\n",
        "x1 = x1.reshape((x1.shape[0], 1))\n",
        "x2 = x2.reshape((x1.shape[0], 1))\n",
        "X = np.hstack((ones, x1, x2))\n",
        "X"
      ],
      "execution_count": 0,
      "outputs": [
        {
          "output_type": "execute_result",
          "data": {
            "text/plain": [
              "array([[1.  , 0.49, 0.09],\n",
              "       [1.  , 1.69, 0.04],\n",
              "       [1.  , 0.04, 0.64],\n",
              "       [1.  , 1.  , 0.16],\n",
              "       [1.  , 0.16, 0.09],\n",
              "       [1.  , 0.25, 0.  ],\n",
              "       [1.  , 0.49, 0.  ],\n",
              "       [1.  , 0.04, 0.01]])"
            ]
          },
          "metadata": {
            "tags": []
          },
          "execution_count": 425
        }
      ]
    },
    {
      "cell_type": "code",
      "metadata": {
        "id": "-h5I1kwN5Wvd",
        "colab_type": "code",
        "outputId": "c69147a3-15d4-4e9c-93c6-3597462accf8",
        "colab": {
          "base_uri": "https://localhost:8080/",
          "height": 34
        }
      },
      "source": [
        "w1 = np.array([2,-3,-3])\n",
        "w1"
      ],
      "execution_count": 0,
      "outputs": [
        {
          "output_type": "execute_result",
          "data": {
            "text/plain": [
              "array([ 2, -3, -3])"
            ]
          },
          "metadata": {
            "tags": []
          },
          "execution_count": 426
        }
      ]
    },
    {
      "cell_type": "code",
      "metadata": {
        "id": "Gvjlu2_E5eF3",
        "colab_type": "code",
        "outputId": "441bf241-7113-4a8c-ec98-4a4952b530c8",
        "colab": {
          "base_uri": "https://localhost:8080/",
          "height": 34
        }
      },
      "source": [
        "prediction = np.zeros(hx_new.size)\n",
        "prediction[hx > threshold] = 1\n",
        "prediction[hx < threshold] = 0\n",
        "prediction"
      ],
      "execution_count": 0,
      "outputs": [
        {
          "output_type": "execute_result",
          "data": {
            "text/plain": [
              "array([1., 0., 0., 0., 1., 1., 1., 1.])"
            ]
          },
          "metadata": {
            "tags": []
          },
          "execution_count": 427
        }
      ]
    },
    {
      "cell_type": "code",
      "metadata": {
        "id": "8dfQznPi50bH",
        "colab_type": "code",
        "outputId": "e9615eb4-f656-4aee-8c41-b035536b9ea4",
        "colab": {
          "base_uri": "https://localhost:8080/",
          "height": 52
        }
      },
      "source": [
        "hx_new = hypothesis(X, w1)\n",
        "hx_new"
      ],
      "execution_count": 0,
      "outputs": [
        {
          "output_type": "execute_result",
          "data": {
            "text/plain": [
              "array([0.56463629, 0.03954378, 0.49000133, 0.18542742, 0.77729986,\n",
              "       0.77729986, 0.62948311, 0.8641271 ])"
            ]
          },
          "metadata": {
            "tags": []
          },
          "execution_count": 428
        }
      ]
    },
    {
      "cell_type": "code",
      "metadata": {
        "id": "bIn_mEP85kIT",
        "colab_type": "code",
        "outputId": "dead9ee8-038c-4f66-96f1-7f1f36bd963f",
        "colab": {
          "base_uri": "https://localhost:8080/",
          "height": 34
        }
      },
      "source": [
        "cross_entropy(labels, hx_new)"
      ],
      "execution_count": 0,
      "outputs": [
        {
          "output_type": "execute_result",
          "data": {
            "text/plain": [
              "2.8631091028958444"
            ]
          },
          "metadata": {
            "tags": []
          },
          "execution_count": 429
        }
      ]
    },
    {
      "cell_type": "code",
      "metadata": {
        "id": "Q4iMVyfcLfSk",
        "colab_type": "code",
        "colab": {}
      },
      "source": [
        "w = np.array([3, -5, -6])\n",
        "hx = hypothesis(X, w)"
      ],
      "execution_count": 0,
      "outputs": []
    },
    {
      "cell_type": "code",
      "metadata": {
        "id": "yLTb-kfmBBJC",
        "colab_type": "code",
        "outputId": "e12430ea-13c0-449b-e623-3d78f0cedd7e",
        "colab": {
          "base_uri": "https://localhost:8080/",
          "height": 34
        }
      },
      "source": [
        "learning_rate = 0.1\n",
        "N = x1.shape[0]\n",
        "gradient = (learning_rate/N) * np.dot(X.T, labels-hx)\n",
        "w =  w + gradient\n",
        "w"
      ],
      "execution_count": 0,
      "outputs": [
        {
          "output_type": "execute_result",
          "data": {
            "text/plain": [
              "array([ 2.99897554, -5.00084195, -6.00256741])"
            ]
          },
          "metadata": {
            "tags": []
          },
          "execution_count": 431
        }
      ]
    },
    {
      "cell_type": "code",
      "metadata": {
        "id": "t6r0LLBXHXCv",
        "colab_type": "code",
        "outputId": "afc86d75-6bf4-4f35-b5bd-9cd543dcd951",
        "colab": {
          "base_uri": "https://localhost:8080/",
          "height": 34
        }
      },
      "source": [
        "hx_gd = hypothesis(X, w)\n",
        "cross_entropy(labels, hx_gd)"
      ],
      "execution_count": 0,
      "outputs": [
        {
          "output_type": "execute_result",
          "data": {
            "text/plain": [
              "1.9064065822772471"
            ]
          },
          "metadata": {
            "tags": []
          },
          "execution_count": 432
        }
      ]
    },
    {
      "cell_type": "markdown",
      "metadata": {
        "id": "6aMPf6zz-DGP",
        "colab_type": "text"
      },
      "source": [
        "## q3"
      ]
    },
    {
      "cell_type": "code",
      "metadata": {
        "id": "A8P0olmemzK9",
        "colab_type": "code",
        "outputId": "ffda3d31-0d80-494a-bfb7-dea531d178c4",
        "colab": {
          "base_uri": "https://localhost:8080/",
          "height": 286
        }
      },
      "source": [
        "x1 = np.array([30,50,70,80,100])\n",
        "x2 = np.array([0,1,1,2,1])\n",
        "labels = np.array([0,1,0,1,1])\n",
        "plt.scatter(x1, x2, c=['red' if l == 0 else 'blue' for l in labels])\n",
        "#x = np.linspace(x1.min()*0.8, x1.max()*1.2,20)  \n",
        "#y = [1-0.5*i for i in line ]\n",
        "#plt.plot(x, y)\n",
        "plt.ylim(-0.1,2.5)\n",
        "plt.xlim(x1.min()*0.8, x1.max()*1.2)"
      ],
      "execution_count": 0,
      "outputs": [
        {
          "output_type": "execute_result",
          "data": {
            "text/plain": [
              "(24.0, 120.0)"
            ]
          },
          "metadata": {
            "tags": []
          },
          "execution_count": 433
        },
        {
          "output_type": "display_data",
          "data": {
            "image/png": "[encoded data removed]",
            "text/plain": [
              "<Figure size 432x288 with 1 Axes>"
            ]
          },
          "metadata": {
            "tags": []
          }
        }
      ]
    },
    {
      "cell_type": "code",
      "metadata": {
        "id": "7KqVIMwnQx_r",
        "colab_type": "code",
        "colab": {}
      },
      "source": [
        "ones = np.ones(x1.shape[0]).reshape((x1.shape[0], 1))\n",
        "x1 = x1.reshape((x1.shape[0], 1))\n",
        "x2 = x2.reshape((x1.shape[0], 1))\n",
        "X = np.hstack((ones, x1, x2))"
      ],
      "execution_count": 0,
      "outputs": []
    },
    {
      "cell_type": "code",
      "metadata": {
        "id": "UqEY9HN3SX_t",
        "colab_type": "code",
        "colab": {}
      },
      "source": [
        "w = np.array([-0.5, 0, 1])"
      ],
      "execution_count": 0,
      "outputs": []
    },
    {
      "cell_type": "code",
      "metadata": {
        "id": "7pZGYJYOSYoG",
        "colab_type": "code",
        "outputId": "0fd2997b-c9af-497a-d4f2-e2baa93f744e",
        "colab": {
          "base_uri": "https://localhost:8080/",
          "height": 34
        }
      },
      "source": [
        "z = np.dot(X, w)\n",
        "z"
      ],
      "execution_count": 0,
      "outputs": [
        {
          "output_type": "execute_result",
          "data": {
            "text/plain": [
              "array([-0.5,  0.5,  0.5,  1.5,  0.5])"
            ]
          },
          "metadata": {
            "tags": []
          },
          "execution_count": 436
        }
      ]
    },
    {
      "cell_type": "code",
      "metadata": {
        "id": "sWNYkJtMSgR_",
        "colab_type": "code",
        "outputId": "765660de-f8af-49bf-8643-1de62405ad7b",
        "colab": {
          "base_uri": "https://localhost:8080/",
          "height": 34
        }
      },
      "source": [
        "sigmoid(z)"
      ],
      "execution_count": 0,
      "outputs": [
        {
          "output_type": "execute_result",
          "data": {
            "text/plain": [
              "array([0.37754067, 0.62245933, 0.62245933, 0.81757448, 0.62245933])"
            ]
          },
          "metadata": {
            "tags": []
          },
          "execution_count": 437
        }
      ]
    },
    {
      "cell_type": "code",
      "metadata": {
        "id": "FmNO_Bt9S4Zj",
        "colab_type": "code",
        "outputId": "395d940a-b314-478f-d754-514eaac3ac96",
        "colab": {
          "base_uri": "https://localhost:8080/",
          "height": 34
        }
      },
      "source": [
        "abs([1, 0 , 1, 0, 0] -sigmoid(z))"
      ],
      "execution_count": 0,
      "outputs": [
        {
          "output_type": "execute_result",
          "data": {
            "text/plain": [
              "array([0.62245933, 0.62245933, 0.37754067, 0.81757448, 0.62245933])"
            ]
          },
          "metadata": {
            "tags": []
          },
          "execution_count": 438
        }
      ]
    },
    {
      "cell_type": "code",
      "metadata": {
        "id": "69VJ3AATVfX1",
        "colab_type": "code",
        "colab": {}
      },
      "source": [
        ""
      ],
      "execution_count": 0,
      "outputs": []
    }
  ]
}